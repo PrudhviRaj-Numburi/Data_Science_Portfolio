{
  "nbformat": 4,
  "nbformat_minor": 0,
  "metadata": {
    "kernelspec": {
      "language": "python",
      "display_name": "Python 3",
      "name": "python3"
    },
    "language_info": {
      "name": "python",
      "version": "3.7.10",
      "mimetype": "text/x-python",
      "codemirror_mode": {
        "name": "ipython",
        "version": 3
      },
      "pygments_lexer": "ipython3",
      "nbconvert_exporter": "python",
      "file_extension": ".py"
    },
    "colab": {
      "name": "Low Resource Language Translation ",
      "provenance": [],
      "collapsed_sections": []
    },
    "accelerator": "GPU"
  },
  "cells": [
    {
      "cell_type": "code",
      "metadata": {
        "colab": {
          "base_uri": "https://localhost:8080/"
        },
        "id": "R8776vOI798_",
        "outputId": "60fad743-8ea2-4a81-f7a5-7e2c45449197"
      },
      "source": [
        "!pip install requests\n",
        "!pip install numpy\n",
        "!pip install matplotlib\n",
        "!pip install pandas\n",
        "!pip install seaborn\n",
        "!pip install collections\n",
        "!pip install string\n",
        "!pip install tensorflow\n",
        "!pip install tensorflow\n",
        "!pip install sklearn"
      ],
      "execution_count": null,
      "outputs": [
        {
          "output_type": "stream",
          "name": "stdout",
          "text": [
            "Requirement already satisfied: requests in /usr/local/lib/python3.7/dist-packages (2.23.0)\n",
            "Requirement already satisfied: chardet<4,>=3.0.2 in /usr/local/lib/python3.7/dist-packages (from requests) (3.0.4)\n",
            "Requirement already satisfied: certifi>=2017.4.17 in /usr/local/lib/python3.7/dist-packages (from requests) (2021.5.30)\n",
            "Requirement already satisfied: idna<3,>=2.5 in /usr/local/lib/python3.7/dist-packages (from requests) (2.10)\n",
            "Requirement already satisfied: urllib3!=1.25.0,!=1.25.1,<1.26,>=1.21.1 in /usr/local/lib/python3.7/dist-packages (from requests) (1.24.3)\n",
            "Requirement already satisfied: numpy in /usr/local/lib/python3.7/dist-packages (1.19.5)\n",
            "Requirement already satisfied: matplotlib in /usr/local/lib/python3.7/dist-packages (3.2.2)\n",
            "Requirement already satisfied: cycler>=0.10 in /usr/local/lib/python3.7/dist-packages (from matplotlib) (0.10.0)\n",
            "Requirement already satisfied: python-dateutil>=2.1 in /usr/local/lib/python3.7/dist-packages (from matplotlib) (2.8.2)\n",
            "Requirement already satisfied: kiwisolver>=1.0.1 in /usr/local/lib/python3.7/dist-packages (from matplotlib) (1.3.1)\n",
            "Requirement already satisfied: numpy>=1.11 in /usr/local/lib/python3.7/dist-packages (from matplotlib) (1.19.5)\n",
            "Requirement already satisfied: pyparsing!=2.0.4,!=2.1.2,!=2.1.6,>=2.0.1 in /usr/local/lib/python3.7/dist-packages (from matplotlib) (2.4.7)\n",
            "Requirement already satisfied: six in /usr/local/lib/python3.7/dist-packages (from cycler>=0.10->matplotlib) (1.15.0)\n",
            "Requirement already satisfied: pandas in /usr/local/lib/python3.7/dist-packages (1.1.5)\n",
            "Requirement already satisfied: numpy>=1.15.4 in /usr/local/lib/python3.7/dist-packages (from pandas) (1.19.5)\n",
            "Requirement already satisfied: python-dateutil>=2.7.3 in /usr/local/lib/python3.7/dist-packages (from pandas) (2.8.2)\n",
            "Requirement already satisfied: pytz>=2017.2 in /usr/local/lib/python3.7/dist-packages (from pandas) (2018.9)\n",
            "Requirement already satisfied: six>=1.5 in /usr/local/lib/python3.7/dist-packages (from python-dateutil>=2.7.3->pandas) (1.15.0)\n",
            "Requirement already satisfied: seaborn in /usr/local/lib/python3.7/dist-packages (0.11.1)\n",
            "Requirement already satisfied: pandas>=0.23 in /usr/local/lib/python3.7/dist-packages (from seaborn) (1.1.5)\n",
            "Requirement already satisfied: matplotlib>=2.2 in /usr/local/lib/python3.7/dist-packages (from seaborn) (3.2.2)\n",
            "Requirement already satisfied: numpy>=1.15 in /usr/local/lib/python3.7/dist-packages (from seaborn) (1.19.5)\n",
            "Requirement already satisfied: scipy>=1.0 in /usr/local/lib/python3.7/dist-packages (from seaborn) (1.4.1)\n",
            "Requirement already satisfied: pyparsing!=2.0.4,!=2.1.2,!=2.1.6,>=2.0.1 in /usr/local/lib/python3.7/dist-packages (from matplotlib>=2.2->seaborn) (2.4.7)\n",
            "Requirement already satisfied: cycler>=0.10 in /usr/local/lib/python3.7/dist-packages (from matplotlib>=2.2->seaborn) (0.10.0)\n",
            "Requirement already satisfied: kiwisolver>=1.0.1 in /usr/local/lib/python3.7/dist-packages (from matplotlib>=2.2->seaborn) (1.3.1)\n",
            "Requirement already satisfied: python-dateutil>=2.1 in /usr/local/lib/python3.7/dist-packages (from matplotlib>=2.2->seaborn) (2.8.2)\n",
            "Requirement already satisfied: six in /usr/local/lib/python3.7/dist-packages (from cycler>=0.10->matplotlib>=2.2->seaborn) (1.15.0)\n",
            "Requirement already satisfied: pytz>=2017.2 in /usr/local/lib/python3.7/dist-packages (from pandas>=0.23->seaborn) (2018.9)\n",
            "\u001b[31mERROR: Could not find a version that satisfies the requirement collections (from versions: none)\u001b[0m\n",
            "\u001b[31mERROR: No matching distribution found for collections\u001b[0m\n",
            "\u001b[31mERROR: Could not find a version that satisfies the requirement string (from versions: none)\u001b[0m\n",
            "\u001b[31mERROR: No matching distribution found for string\u001b[0m\n",
            "Requirement already satisfied: tensorflow in /usr/local/lib/python3.7/dist-packages (2.6.0)\n",
            "Requirement already satisfied: wrapt~=1.12.1 in /usr/local/lib/python3.7/dist-packages (from tensorflow) (1.12.1)\n",
            "Requirement already satisfied: keras-preprocessing~=1.1.2 in /usr/local/lib/python3.7/dist-packages (from tensorflow) (1.1.2)\n",
            "Requirement already satisfied: absl-py~=0.10 in /usr/local/lib/python3.7/dist-packages (from tensorflow) (0.12.0)\n",
            "Requirement already satisfied: opt-einsum~=3.3.0 in /usr/local/lib/python3.7/dist-packages (from tensorflow) (3.3.0)\n",
            "Requirement already satisfied: keras~=2.6 in /usr/local/lib/python3.7/dist-packages (from tensorflow) (2.6.0)\n",
            "Requirement already satisfied: gast==0.4.0 in /usr/local/lib/python3.7/dist-packages (from tensorflow) (0.4.0)\n",
            "Requirement already satisfied: clang~=5.0 in /usr/local/lib/python3.7/dist-packages (from tensorflow) (5.0)\n",
            "Requirement already satisfied: h5py~=3.1.0 in /usr/local/lib/python3.7/dist-packages (from tensorflow) (3.1.0)\n",
            "Requirement already satisfied: google-pasta~=0.2 in /usr/local/lib/python3.7/dist-packages (from tensorflow) (0.2.0)\n",
            "Requirement already satisfied: grpcio<2.0,>=1.37.0 in /usr/local/lib/python3.7/dist-packages (from tensorflow) (1.39.0)\n",
            "Requirement already satisfied: protobuf>=3.9.2 in /usr/local/lib/python3.7/dist-packages (from tensorflow) (3.17.3)\n",
            "Requirement already satisfied: flatbuffers~=1.12.0 in /usr/local/lib/python3.7/dist-packages (from tensorflow) (1.12)\n",
            "Requirement already satisfied: tensorflow-estimator~=2.6 in /usr/local/lib/python3.7/dist-packages (from tensorflow) (2.6.0)\n",
            "Requirement already satisfied: tensorboard~=2.6 in /usr/local/lib/python3.7/dist-packages (from tensorflow) (2.6.0)\n",
            "Requirement already satisfied: numpy~=1.19.2 in /usr/local/lib/python3.7/dist-packages (from tensorflow) (1.19.5)\n",
            "Requirement already satisfied: typing-extensions~=3.7.4 in /usr/local/lib/python3.7/dist-packages (from tensorflow) (3.7.4.3)\n",
            "Requirement already satisfied: six~=1.15.0 in /usr/local/lib/python3.7/dist-packages (from tensorflow) (1.15.0)\n",
            "Requirement already satisfied: astunparse~=1.6.3 in /usr/local/lib/python3.7/dist-packages (from tensorflow) (1.6.3)\n",
            "Requirement already satisfied: termcolor~=1.1.0 in /usr/local/lib/python3.7/dist-packages (from tensorflow) (1.1.0)\n",
            "Requirement already satisfied: wheel~=0.35 in /usr/local/lib/python3.7/dist-packages (from tensorflow) (0.37.0)\n",
            "Requirement already satisfied: cached-property in /usr/local/lib/python3.7/dist-packages (from h5py~=3.1.0->tensorflow) (1.5.2)\n",
            "Requirement already satisfied: tensorboard-data-server<0.7.0,>=0.6.0 in /usr/local/lib/python3.7/dist-packages (from tensorboard~=2.6->tensorflow) (0.6.1)\n",
            "Requirement already satisfied: google-auth<2,>=1.6.3 in /usr/local/lib/python3.7/dist-packages (from tensorboard~=2.6->tensorflow) (1.34.0)\n",
            "Requirement already satisfied: markdown>=2.6.8 in /usr/local/lib/python3.7/dist-packages (from tensorboard~=2.6->tensorflow) (3.3.4)\n",
            "Requirement already satisfied: requests<3,>=2.21.0 in /usr/local/lib/python3.7/dist-packages (from tensorboard~=2.6->tensorflow) (2.23.0)\n",
            "Requirement already satisfied: tensorboard-plugin-wit>=1.6.0 in /usr/local/lib/python3.7/dist-packages (from tensorboard~=2.6->tensorflow) (1.8.0)\n",
            "Requirement already satisfied: google-auth-oauthlib<0.5,>=0.4.1 in /usr/local/lib/python3.7/dist-packages (from tensorboard~=2.6->tensorflow) (0.4.5)\n",
            "Requirement already satisfied: setuptools>=41.0.0 in /usr/local/lib/python3.7/dist-packages (from tensorboard~=2.6->tensorflow) (57.4.0)\n",
            "Requirement already satisfied: werkzeug>=0.11.15 in /usr/local/lib/python3.7/dist-packages (from tensorboard~=2.6->tensorflow) (1.0.1)\n",
            "Requirement already satisfied: rsa<5,>=3.1.4 in /usr/local/lib/python3.7/dist-packages (from google-auth<2,>=1.6.3->tensorboard~=2.6->tensorflow) (4.7.2)\n",
            "Requirement already satisfied: pyasn1-modules>=0.2.1 in /usr/local/lib/python3.7/dist-packages (from google-auth<2,>=1.6.3->tensorboard~=2.6->tensorflow) (0.2.8)\n",
            "Requirement already satisfied: cachetools<5.0,>=2.0.0 in /usr/local/lib/python3.7/dist-packages (from google-auth<2,>=1.6.3->tensorboard~=2.6->tensorflow) (4.2.2)\n",
            "Requirement already satisfied: requests-oauthlib>=0.7.0 in /usr/local/lib/python3.7/dist-packages (from google-auth-oauthlib<0.5,>=0.4.1->tensorboard~=2.6->tensorflow) (1.3.0)\n",
            "Requirement already satisfied: importlib-metadata in /usr/local/lib/python3.7/dist-packages (from markdown>=2.6.8->tensorboard~=2.6->tensorflow) (4.6.4)\n",
            "Requirement already satisfied: pyasn1<0.5.0,>=0.4.6 in /usr/local/lib/python3.7/dist-packages (from pyasn1-modules>=0.2.1->google-auth<2,>=1.6.3->tensorboard~=2.6->tensorflow) (0.4.8)\n",
            "Requirement already satisfied: urllib3!=1.25.0,!=1.25.1,<1.26,>=1.21.1 in /usr/local/lib/python3.7/dist-packages (from requests<3,>=2.21.0->tensorboard~=2.6->tensorflow) (1.24.3)\n",
            "Requirement already satisfied: chardet<4,>=3.0.2 in /usr/local/lib/python3.7/dist-packages (from requests<3,>=2.21.0->tensorboard~=2.6->tensorflow) (3.0.4)\n",
            "Requirement already satisfied: idna<3,>=2.5 in /usr/local/lib/python3.7/dist-packages (from requests<3,>=2.21.0->tensorboard~=2.6->tensorflow) (2.10)\n",
            "Requirement already satisfied: certifi>=2017.4.17 in /usr/local/lib/python3.7/dist-packages (from requests<3,>=2.21.0->tensorboard~=2.6->tensorflow) (2021.5.30)\n",
            "Requirement already satisfied: oauthlib>=3.0.0 in /usr/local/lib/python3.7/dist-packages (from requests-oauthlib>=0.7.0->google-auth-oauthlib<0.5,>=0.4.1->tensorboard~=2.6->tensorflow) (3.1.1)\n",
            "Requirement already satisfied: zipp>=0.5 in /usr/local/lib/python3.7/dist-packages (from importlib-metadata->markdown>=2.6.8->tensorboard~=2.6->tensorflow) (3.5.0)\n",
            "Requirement already satisfied: tensorflow in /usr/local/lib/python3.7/dist-packages (2.6.0)\n",
            "Requirement already satisfied: astunparse~=1.6.3 in /usr/local/lib/python3.7/dist-packages (from tensorflow) (1.6.3)\n",
            "Requirement already satisfied: opt-einsum~=3.3.0 in /usr/local/lib/python3.7/dist-packages (from tensorflow) (3.3.0)\n",
            "Requirement already satisfied: tensorboard~=2.6 in /usr/local/lib/python3.7/dist-packages (from tensorflow) (2.6.0)\n",
            "Requirement already satisfied: flatbuffers~=1.12.0 in /usr/local/lib/python3.7/dist-packages (from tensorflow) (1.12)\n",
            "Requirement already satisfied: gast==0.4.0 in /usr/local/lib/python3.7/dist-packages (from tensorflow) (0.4.0)\n",
            "Requirement already satisfied: clang~=5.0 in /usr/local/lib/python3.7/dist-packages (from tensorflow) (5.0)\n",
            "Requirement already satisfied: grpcio<2.0,>=1.37.0 in /usr/local/lib/python3.7/dist-packages (from tensorflow) (1.39.0)\n",
            "Requirement already satisfied: wrapt~=1.12.1 in /usr/local/lib/python3.7/dist-packages (from tensorflow) (1.12.1)\n",
            "Requirement already satisfied: google-pasta~=0.2 in /usr/local/lib/python3.7/dist-packages (from tensorflow) (0.2.0)\n",
            "Requirement already satisfied: numpy~=1.19.2 in /usr/local/lib/python3.7/dist-packages (from tensorflow) (1.19.5)\n",
            "Requirement already satisfied: typing-extensions~=3.7.4 in /usr/local/lib/python3.7/dist-packages (from tensorflow) (3.7.4.3)\n",
            "Requirement already satisfied: wheel~=0.35 in /usr/local/lib/python3.7/dist-packages (from tensorflow) (0.37.0)\n",
            "Requirement already satisfied: protobuf>=3.9.2 in /usr/local/lib/python3.7/dist-packages (from tensorflow) (3.17.3)\n",
            "Requirement already satisfied: six~=1.15.0 in /usr/local/lib/python3.7/dist-packages (from tensorflow) (1.15.0)\n",
            "Requirement already satisfied: absl-py~=0.10 in /usr/local/lib/python3.7/dist-packages (from tensorflow) (0.12.0)\n",
            "Requirement already satisfied: tensorflow-estimator~=2.6 in /usr/local/lib/python3.7/dist-packages (from tensorflow) (2.6.0)\n",
            "Requirement already satisfied: keras~=2.6 in /usr/local/lib/python3.7/dist-packages (from tensorflow) (2.6.0)\n",
            "Requirement already satisfied: termcolor~=1.1.0 in /usr/local/lib/python3.7/dist-packages (from tensorflow) (1.1.0)\n",
            "Requirement already satisfied: h5py~=3.1.0 in /usr/local/lib/python3.7/dist-packages (from tensorflow) (3.1.0)\n",
            "Requirement already satisfied: keras-preprocessing~=1.1.2 in /usr/local/lib/python3.7/dist-packages (from tensorflow) (1.1.2)\n",
            "Requirement already satisfied: cached-property in /usr/local/lib/python3.7/dist-packages (from h5py~=3.1.0->tensorflow) (1.5.2)\n",
            "Requirement already satisfied: markdown>=2.6.8 in /usr/local/lib/python3.7/dist-packages (from tensorboard~=2.6->tensorflow) (3.3.4)\n",
            "Requirement already satisfied: tensorboard-plugin-wit>=1.6.0 in /usr/local/lib/python3.7/dist-packages (from tensorboard~=2.6->tensorflow) (1.8.0)\n",
            "Requirement already satisfied: tensorboard-data-server<0.7.0,>=0.6.0 in /usr/local/lib/python3.7/dist-packages (from tensorboard~=2.6->tensorflow) (0.6.1)\n",
            "Requirement already satisfied: requests<3,>=2.21.0 in /usr/local/lib/python3.7/dist-packages (from tensorboard~=2.6->tensorflow) (2.23.0)\n",
            "Requirement already satisfied: google-auth<2,>=1.6.3 in /usr/local/lib/python3.7/dist-packages (from tensorboard~=2.6->tensorflow) (1.34.0)\n",
            "Requirement already satisfied: werkzeug>=0.11.15 in /usr/local/lib/python3.7/dist-packages (from tensorboard~=2.6->tensorflow) (1.0.1)\n",
            "Requirement already satisfied: setuptools>=41.0.0 in /usr/local/lib/python3.7/dist-packages (from tensorboard~=2.6->tensorflow) (57.4.0)\n",
            "Requirement already satisfied: google-auth-oauthlib<0.5,>=0.4.1 in /usr/local/lib/python3.7/dist-packages (from tensorboard~=2.6->tensorflow) (0.4.5)\n",
            "Requirement already satisfied: rsa<5,>=3.1.4 in /usr/local/lib/python3.7/dist-packages (from google-auth<2,>=1.6.3->tensorboard~=2.6->tensorflow) (4.7.2)\n",
            "Requirement already satisfied: pyasn1-modules>=0.2.1 in /usr/local/lib/python3.7/dist-packages (from google-auth<2,>=1.6.3->tensorboard~=2.6->tensorflow) (0.2.8)\n",
            "Requirement already satisfied: cachetools<5.0,>=2.0.0 in /usr/local/lib/python3.7/dist-packages (from google-auth<2,>=1.6.3->tensorboard~=2.6->tensorflow) (4.2.2)\n",
            "Requirement already satisfied: requests-oauthlib>=0.7.0 in /usr/local/lib/python3.7/dist-packages (from google-auth-oauthlib<0.5,>=0.4.1->tensorboard~=2.6->tensorflow) (1.3.0)\n",
            "Requirement already satisfied: importlib-metadata in /usr/local/lib/python3.7/dist-packages (from markdown>=2.6.8->tensorboard~=2.6->tensorflow) (4.6.4)\n",
            "Requirement already satisfied: pyasn1<0.5.0,>=0.4.6 in /usr/local/lib/python3.7/dist-packages (from pyasn1-modules>=0.2.1->google-auth<2,>=1.6.3->tensorboard~=2.6->tensorflow) (0.4.8)\n",
            "Requirement already satisfied: urllib3!=1.25.0,!=1.25.1,<1.26,>=1.21.1 in /usr/local/lib/python3.7/dist-packages (from requests<3,>=2.21.0->tensorboard~=2.6->tensorflow) (1.24.3)\n",
            "Requirement already satisfied: chardet<4,>=3.0.2 in /usr/local/lib/python3.7/dist-packages (from requests<3,>=2.21.0->tensorboard~=2.6->tensorflow) (3.0.4)\n",
            "Requirement already satisfied: certifi>=2017.4.17 in /usr/local/lib/python3.7/dist-packages (from requests<3,>=2.21.0->tensorboard~=2.6->tensorflow) (2021.5.30)\n",
            "Requirement already satisfied: idna<3,>=2.5 in /usr/local/lib/python3.7/dist-packages (from requests<3,>=2.21.0->tensorboard~=2.6->tensorflow) (2.10)\n",
            "Requirement already satisfied: oauthlib>=3.0.0 in /usr/local/lib/python3.7/dist-packages (from requests-oauthlib>=0.7.0->google-auth-oauthlib<0.5,>=0.4.1->tensorboard~=2.6->tensorflow) (3.1.1)\n",
            "Requirement already satisfied: zipp>=0.5 in /usr/local/lib/python3.7/dist-packages (from importlib-metadata->markdown>=2.6.8->tensorboard~=2.6->tensorflow) (3.5.0)\n",
            "Requirement already satisfied: sklearn in /usr/local/lib/python3.7/dist-packages (0.0)\n",
            "Requirement already satisfied: scikit-learn in /usr/local/lib/python3.7/dist-packages (from sklearn) (0.22.2.post1)\n",
            "Requirement already satisfied: joblib>=0.11 in /usr/local/lib/python3.7/dist-packages (from scikit-learn->sklearn) (1.0.1)\n",
            "Requirement already satisfied: numpy>=1.11.0 in /usr/local/lib/python3.7/dist-packages (from scikit-learn->sklearn) (1.19.5)\n",
            "Requirement already satisfied: scipy>=0.17.0 in /usr/local/lib/python3.7/dist-packages (from scikit-learn->sklearn) (1.4.1)\n"
          ]
        }
      ]
    },
    {
      "cell_type": "code",
      "metadata": {
        "id": "34GURWrZ3AzD"
      },
      "source": [
        "import requests\n",
        "\n",
        "def download_file_from_google_drive(id, destination):\n",
        "    URL = \"https://docs.google.com/uc?export=download\"\n",
        "\n",
        "    session = requests.Session()\n",
        "\n",
        "    response = session.get(URL, params = { 'id' : id }, stream = True)\n",
        "    token = get_confirm_token(response)\n",
        "\n",
        "    if token:\n",
        "        params = { 'id' : id, 'confirm' : token }\n",
        "        response = session.get(URL, params = params, stream = True)\n",
        "\n",
        "    save_response_content(response, destination)    \n",
        "\n",
        "def get_confirm_token(response):\n",
        "    for key, value in response.cookies.items():\n",
        "        if key.startswith('download_warning'):\n",
        "            return value\n",
        "\n",
        "    return None\n",
        "\n",
        "def save_response_content(response, destination):\n",
        "    CHUNK_SIZE = 32768\n",
        "\n",
        "    with open(destination, \"wb\") as f:\n",
        "        for chunk in response.iter_content(CHUNK_SIZE):\n",
        "            if chunk: # filter out keep-alive new chunks\n",
        "                f.write(chunk)"
      ],
      "execution_count": null,
      "outputs": []
    },
    {
      "cell_type": "code",
      "metadata": {
        "id": "Gx0Jtqm8kyvN"
      },
      "source": [
        "file_id = '1TPg1QMmtzptOOID6wtglmkTSjWegU1lf'\n",
        "destination = '/content/training_checkpoints.zip'\n",
        "download_file_from_google_drive(file_id, destination)"
      ],
      "execution_count": null,
      "outputs": []
    },
    {
      "cell_type": "code",
      "metadata": {
        "id": "qgTUgCCjvC6v"
      },
      "source": [
        "file_id = '1a84skAcQXaAMXxIquu5KgYIPLK2p2jXX'\n",
        "destination = '/content/dataset.tsv'\n",
        "download_file_from_google_drive(file_id, destination)"
      ],
      "execution_count": null,
      "outputs": []
    },
    {
      "cell_type": "code",
      "metadata": {
        "id": "9QcH1o1cAlzm"
      },
      "source": [
        "file_id = '10e7aToeaDuk7L7g7_YZtvwAj-496scs2'\n",
        "destination = '/content/test.csv'\n",
        "download_file_from_google_drive(file_id, destination)"
      ],
      "execution_count": null,
      "outputs": []
    },
    {
      "cell_type": "code",
      "metadata": {
        "colab": {
          "base_uri": "https://localhost:8080/"
        },
        "id": "7lg96uA1ucsz",
        "outputId": "5c36539b-f3a0-4933-ccf4-3bfb6af57e79"
      },
      "source": [
        "!unzip training_checkpoints.zip"
      ],
      "execution_count": null,
      "outputs": [
        {
          "output_type": "stream",
          "name": "stdout",
          "text": [
            "Archive:  training_checkpoints.zip\n",
            "   creating: training_checkpoints/\n",
            "  inflating: training_checkpoints/checkpoint  \n",
            "  inflating: training_checkpoints/ckpt-11.data-00000-of-00001  \n",
            "  inflating: training_checkpoints/ckpt-11.index  \n"
          ]
        }
      ]
    },
    {
      "cell_type": "code",
      "metadata": {
        "execution": {
          "iopub.status.busy": "2021-08-25T05:35:58.690541Z",
          "iopub.execute_input": "2021-08-25T05:35:58.690917Z",
          "iopub.status.idle": "2021-08-25T05:35:58.696660Z",
          "shell.execute_reply.started": "2021-08-25T05:35:58.690879Z",
          "shell.execute_reply": "2021-08-25T05:35:58.695876Z"
        },
        "trusted": true,
        "id": "hFhX5UJjs2cK"
      },
      "source": [
        "#importing libraries\n",
        "import numpy as np\n",
        "import matplotlib.pyplot as plt\n",
        "import seaborn as sns\n",
        "import pandas as pd\n",
        "from collections import defaultdict\n",
        "import string\n",
        "import tensorflow as tf\n",
        "import re\n",
        "import os\n",
        "import time\n",
        "from tensorflow import keras\n",
        "from tensorflow.keras.layers import Dense, Input\n",
        "from tensorflow.keras.optimizers import Adam\n",
        "from tensorflow.keras.models import Model\n",
        "from tensorflow.keras.callbacks import ModelCheckpoint\n",
        "from sklearn.preprocessing import OneHotEncoder\n",
        "from sklearn.model_selection import train_test_split"
      ],
      "execution_count": null,
      "outputs": []
    },
    {
      "cell_type": "code",
      "metadata": {
        "execution": {
          "iopub.status.busy": "2021-08-25T05:35:58.698410Z",
          "iopub.execute_input": "2021-08-25T05:35:58.698927Z",
          "iopub.status.idle": "2021-08-25T05:35:58.708472Z",
          "shell.execute_reply.started": "2021-08-25T05:35:58.698892Z",
          "shell.execute_reply": "2021-08-25T05:35:58.707622Z"
        },
        "trusted": true,
        "id": "jIyN5IXUs2cL"
      },
      "source": [
        "ENCODER_LEN = 100\n",
        "DECODER_LEN = 100\n",
        "BATCH_SIZE = 64\n",
        "BUFFER_SIZE = BATCH_SIZE*4"
      ],
      "execution_count": null,
      "outputs": []
    },
    {
      "cell_type": "code",
      "metadata": {
        "execution": {
          "iopub.status.busy": "2021-08-25T05:35:58.709759Z",
          "iopub.execute_input": "2021-08-25T05:35:58.710123Z",
          "iopub.status.idle": "2021-08-25T05:35:59.675365Z",
          "shell.execute_reply.started": "2021-08-25T05:35:58.710085Z",
          "shell.execute_reply": "2021-08-25T05:35:59.674296Z"
        },
        "trusted": true,
        "colab": {
          "base_uri": "https://localhost:8080/",
          "height": 206
        },
        "id": "L2OoQ0AFs2cM",
        "outputId": "08c03e68-ff15-42ce-f525-944412a4716c"
      },
      "source": [
        "data_df = pd.read_csv(\"dataset.tsv\", sep='\\t')#read dataset\n",
        "data_df.rename(columns={ data_df.columns[0]: \"english_sentence\" }, inplace = True)#rename the column\n",
        "data_df.rename(columns={ data_df.columns[1]: \"hindi_sentence\" }, inplace = True)#rename the column\n",
        "mask_df = (data_df['english_sentence'].str.len()>20) & (data_df['english_sentence'].str.len()<200)\n",
        "data_df = data_df.loc[mask_df]\n",
        "data_df = data_df.sample(50000, random_state=1)\n",
        "data_df = data_df.dropna()\n",
        "data_df.head()"
      ],
      "execution_count": null,
      "outputs": [
        {
          "output_type": "execute_result",
          "data": {
            "text/html": [
              "<div>\n",
              "<style scoped>\n",
              "    .dataframe tbody tr th:only-of-type {\n",
              "        vertical-align: middle;\n",
              "    }\n",
              "\n",
              "    .dataframe tbody tr th {\n",
              "        vertical-align: top;\n",
              "    }\n",
              "\n",
              "    .dataframe thead th {\n",
              "        text-align: right;\n",
              "    }\n",
              "</style>\n",
              "<table border=\"1\" class=\"dataframe\">\n",
              "  <thead>\n",
              "    <tr style=\"text-align: right;\">\n",
              "      <th></th>\n",
              "      <th>english_sentence</th>\n",
              "      <th>hindi_sentence</th>\n",
              "    </tr>\n",
              "  </thead>\n",
              "  <tbody>\n",
              "    <tr>\n",
              "      <th>10235</th>\n",
              "      <td>The two Prime Ministers agreed that the only w...</td>\n",
              "      <td>दोनों प्रधानमंत्रियों ने इस बात पर भी सहमति जत...</td>\n",
              "    </tr>\n",
              "    <tr>\n",
              "      <th>48352</th>\n",
              "      <td>Apart from this, some funds are provided – bot...</td>\n",
              "      <td>इसके अलावा कुछ राशि – राजस्‍व एवं पूंजीगत दोनो...</td>\n",
              "    </tr>\n",
              "    <tr>\n",
              "      <th>51442</th>\n",
              "      <td>“Kader Khan Ji brightened the screen with his ...</td>\n",
              "      <td>प्रधानमंत्री ने अपने शोक संदेश में कहा ‘कादर ख...</td>\n",
              "    </tr>\n",
              "    <tr>\n",
              "      <th>1370</th>\n",
              "      <td>“The future belongs to social media.</td>\n",
              "      <td>”भविष्‍य सोशल मीडिया का होगा।</td>\n",
              "    </tr>\n",
              "    <tr>\n",
              "      <th>48902</th>\n",
              "      <td>He also recalled that on Republic Day, the ent...</td>\n",
              "      <td>उन्‍होंने गणतंत्र दिवस को याद करते हुए कहा कि ...</td>\n",
              "    </tr>\n",
              "  </tbody>\n",
              "</table>\n",
              "</div>"
            ],
            "text/plain": [
              "                                        english_sentence                                     hindi_sentence\n",
              "10235  The two Prime Ministers agreed that the only w...  दोनों प्रधानमंत्रियों ने इस बात पर भी सहमति जत...\n",
              "48352  Apart from this, some funds are provided – bot...  इसके अलावा कुछ राशि – राजस्‍व एवं पूंजीगत दोनो...\n",
              "51442  “Kader Khan Ji brightened the screen with his ...  प्रधानमंत्री ने अपने शोक संदेश में कहा ‘कादर ख...\n",
              "1370                “The future belongs to social media.                      ”भविष्‍य सोशल मीडिया का होगा।\n",
              "48902  He also recalled that on Republic Day, the ent...  उन्‍होंने गणतंत्र दिवस को याद करते हुए कहा कि ..."
            ]
          },
          "metadata": {},
          "execution_count": 10
        }
      ]
    },
    {
      "cell_type": "code",
      "metadata": {
        "colab": {
          "base_uri": "https://localhost:8080/"
        },
        "id": "F3WV3oXPXKiz",
        "outputId": "51b89206-cbee-4d60-83a8-f4d384664d10"
      },
      "source": [
        "data_df.count()"
      ],
      "execution_count": null,
      "outputs": [
        {
          "output_type": "execute_result",
          "data": {
            "text/plain": [
              "english_sentence    50000\n",
              "hindi_sentence      50000\n",
              "dtype: int64"
            ]
          },
          "metadata": {},
          "execution_count": 11
        }
      ]
    },
    {
      "cell_type": "code",
      "metadata": {
        "colab": {
          "base_uri": "https://localhost:8080/",
          "height": 429
        },
        "id": "dBr57sYQU948",
        "outputId": "714850e1-650f-4623-ca9f-5c829d1dd0e3"
      },
      "source": [
        "unique_df = pd.DataFrame()\n",
        "unique_df['Features'] = data_df.columns\n",
        "unique=[]\n",
        "for i in data_df.columns:\n",
        "    unique.append(data_df[i].nunique())\n",
        "unique_df['Uniques'] = unique\n",
        "\n",
        "f, ax = plt.subplots(1,1, figsize=(10,5))\n",
        "\n",
        "splot = sns.barplot(x=unique_df['Features'], y=unique_df['Uniques'], alpha=0.8)\n",
        "for p in splot.patches:\n",
        "    splot.annotate(format(p.get_height(), '.0f'), (p.get_x() + p.get_width() / 2., p.get_height()), ha = 'center',\n",
        "                   va = 'center', xytext = (0, 9), textcoords = 'offset points')\n",
        "plt.title('number of unique values in each column',weight='bold', size=15)\n",
        "plt.ylabel('Unique values', size=10, weight='bold')\n",
        "plt.xlabel('Language', size=10, weight='bold')\n",
        "plt.xticks(rotation=90)\n",
        "plt.show()"
      ],
      "execution_count": null,
      "outputs": [
        {
          "output_type": "display_data",
          "data": {
            "image/png": "[encoded data removed]",
            "text/plain": [
              "<Figure size 720x360 with 1 Axes>"
            ]
          },
          "metadata": {
            "needs_background": "light"
          }
        }
      ]
    },
    {
      "cell_type": "code",
      "metadata": {
        "execution": {
          "iopub.status.busy": "2021-08-25T05:35:59.679541Z",
          "iopub.execute_input": "2021-08-25T05:35:59.679907Z",
          "iopub.status.idle": "2021-08-25T05:35:59.709989Z",
          "shell.execute_reply.started": "2021-08-25T05:35:59.679872Z",
          "shell.execute_reply": "2021-08-25T05:35:59.709203Z"
        },
        "trusted": true,
        "colab": {
          "base_uri": "https://localhost:8080/",
          "height": 206
        },
        "id": "S0fmhAtws2cN",
        "outputId": "fd7b7bd1-a8b4-42d3-ac4a-ad39ad63fb60"
      },
      "source": [
        "test_df = pd.read_csv('test.csv')\n",
        "test_df.drop(['source'],axis=1,inplace=True)\n",
        "test_df.head()"
      ],
      "execution_count": null,
      "outputs": [
        {
          "output_type": "execute_result",
          "data": {
            "text/html": [
              "<div>\n",
              "<style scoped>\n",
              "    .dataframe tbody tr th:only-of-type {\n",
              "        vertical-align: middle;\n",
              "    }\n",
              "\n",
              "    .dataframe tbody tr th {\n",
              "        vertical-align: top;\n",
              "    }\n",
              "\n",
              "    .dataframe thead th {\n",
              "        text-align: right;\n",
              "    }\n",
              "</style>\n",
              "<table border=\"1\" class=\"dataframe\">\n",
              "  <thead>\n",
              "    <tr style=\"text-align: right;\">\n",
              "      <th></th>\n",
              "      <th>english_sentence</th>\n",
              "      <th>hindi_sentence</th>\n",
              "    </tr>\n",
              "  </thead>\n",
              "  <tbody>\n",
              "    <tr>\n",
              "      <th>0</th>\n",
              "      <td>politicians do not have permission to do what ...</td>\n",
              "      <td>राजनीतिज्ञों के पास जो कार्य करना चाहिए, वह कर...</td>\n",
              "    </tr>\n",
              "    <tr>\n",
              "      <th>1</th>\n",
              "      <td>I'd like to tell you about one such child,</td>\n",
              "      <td>मई आपको ऐसे ही एक बच्चे के बारे में बताना चाहू...</td>\n",
              "    </tr>\n",
              "    <tr>\n",
              "      <th>2</th>\n",
              "      <td>This percentage is even greater than the perce...</td>\n",
              "      <td>यह प्रतिशत भारत में हिन्दुओं प्रतिशत से अधिक है।</td>\n",
              "    </tr>\n",
              "    <tr>\n",
              "      <th>3</th>\n",
              "      <td>what we really mean is that they're bad at not...</td>\n",
              "      <td>हम ये नहीं कहना चाहते कि वो ध्यान नहीं दे पाते</td>\n",
              "    </tr>\n",
              "    <tr>\n",
              "      <th>4</th>\n",
              "      <td>.The ending portion of these Vedas is called U...</td>\n",
              "      <td>इन्हीं वेदों का अंतिम भाग उपनिषद कहलाता है।</td>\n",
              "    </tr>\n",
              "  </tbody>\n",
              "</table>\n",
              "</div>"
            ],
            "text/plain": [
              "                                    english_sentence                                     hindi_sentence\n",
              "0  politicians do not have permission to do what ...  राजनीतिज्ञों के पास जो कार्य करना चाहिए, वह कर...\n",
              "1         I'd like to tell you about one such child,  मई आपको ऐसे ही एक बच्चे के बारे में बताना चाहू...\n",
              "2  This percentage is even greater than the perce...   यह प्रतिशत भारत में हिन्दुओं प्रतिशत से अधिक है।\n",
              "3  what we really mean is that they're bad at not...     हम ये नहीं कहना चाहते कि वो ध्यान नहीं दे पाते\n",
              "4  .The ending portion of these Vedas is called U...        इन्हीं वेदों का अंतिम भाग उपनिषद कहलाता है।"
            ]
          },
          "metadata": {},
          "execution_count": 13
        }
      ]
    },
    {
      "cell_type": "code",
      "metadata": {
        "colab": {
          "base_uri": "https://localhost:8080/",
          "height": 377
        },
        "id": "9OlVCUDfYgwu",
        "outputId": "0b9d8252-4438-44e2-e2cc-27dca5f5de1a"
      },
      "source": [
        "unique_df = pd.DataFrame()\n",
        "unique_df['Features'] = test_df.columns\n",
        "unique=[]\n",
        "for i in test_df.columns:\n",
        "    unique.append(test_df[i].nunique())\n",
        "unique_df['Uniques'] = unique\n",
        "\n",
        "f, ax = plt.subplots(1,1, figsize=(10,4))\n",
        "\n",
        "splot = sns.barplot(x=unique_df['Features'], y=unique_df['Uniques'], alpha=0.8)\n",
        "for p in splot.patches:\n",
        "    splot.annotate(format(p.get_height(), '.0f'), (p.get_x() + p.get_width() / 2., p.get_height()), ha = 'center',\n",
        "                   va = 'center', xytext = (0, 9), textcoords = 'offset points')\n",
        "plt.title('number of unique values in each column',weight='bold', size=15)\n",
        "plt.ylabel('#Unique values', size=12, weight='bold')\n",
        "plt.xlabel('language', size=12, weight='bold')\n",
        "plt.xticks(rotation=90)\n",
        "plt.show()"
      ],
      "execution_count": null,
      "outputs": [
        {
          "output_type": "display_data",
          "data": {
            "image/png": "[encoded data removed]",
            "text/plain": [
              "<Figure size 720x288 with 1 Axes>"
            ]
          },
          "metadata": {
            "needs_background": "light"
          }
        }
      ]
    },
    {
      "cell_type": "code",
      "metadata": {
        "execution": {
          "iopub.status.busy": "2021-08-25T05:35:59.713849Z",
          "iopub.execute_input": "2021-08-25T05:35:59.715874Z",
          "iopub.status.idle": "2021-08-25T05:35:59.841901Z",
          "shell.execute_reply.started": "2021-08-25T05:35:59.715834Z",
          "shell.execute_reply": "2021-08-25T05:35:59.840826Z"
        },
        "trusted": true,
        "id": "zDizV9R1s2cP"
      },
      "source": [
        "pd.set_option('display.max_colwidth', None)\n",
        "eng_df = data_df['english_sentence']\n",
        "hind_df = data_df['hindi_sentence']\n",
        "test_eng_df = test_df['english_sentence']\n",
        "test_hind_df = test_df['english_sentence']\n",
        "eng_df = eng_df.apply(lambda x: \"<SOS> \" + str(x) + \" <EOS>\")#apply tokens at starting and ending of every eng sentence\n",
        "hind_df = hind_df.apply(lambda x: \"<SOS> \"+ x + \" <EOS>\")#apply tokens at starting and ending of every hindi sentence\n",
        "test_eng_df = test_eng_df.apply(lambda x: \"<SOS> \" + str(x) + \" <EOS>\")\n",
        "test_hind_df = test_hind_df.apply(lambda x: \"<SOS> \"+ x + \" <EOS>\")"
      ],
      "execution_count": null,
      "outputs": []
    },
    {
      "cell_type": "code",
      "metadata": {
        "execution": {
          "iopub.status.busy": "2021-08-25T05:35:59.847650Z",
          "iopub.execute_input": "2021-08-25T05:35:59.849717Z",
          "iopub.status.idle": "2021-08-25T05:36:04.792659Z",
          "shell.execute_reply.started": "2021-08-25T05:35:59.849676Z",
          "shell.execute_reply": "2021-08-25T05:36:04.791790Z"
        },
        "trusted": true,
        "id": "JK9JB710s2cQ"
      },
      "source": [
        "#removing special characters and symbols\n",
        "filters = '!\"#$%&()*+,-./:;=?@[\\\\]^_`{|}~\\t\\n'#remove special characters and symbols like #$%&()*+,-./:;=?@[\\\\]^_`{|}~\n",
        "oov_token = '<unk>'# 'UNK' indicates unknown word for showing that where is the missing word\n",
        "## Tokenize the sentences\n",
        "eng_tokenizer = tf.keras.preprocessing.text.Tokenizer(filters = filters, oov_token=oov_token)#apply tokenize for eng sentence\n",
        "hind_tokenizer = tf.keras.preprocessing.text.Tokenizer(filters = filters, oov_token=oov_token)#apply tokenize for hindi sentence\n",
        "test_eng_tokenizer = tf.keras.preprocessing.text.Tokenizer(filters = filters, oov_token=oov_token)#apply tokenize for eng sentence\n",
        "test_hind_tokenizer = tf.keras.preprocessing.text.Tokenizer(filters = filters, oov_token=oov_token)\n",
        "eng_tokenizer.fit_on_texts(eng_df)#Updates internal vocabulary based on a list of texts.\n",
        "hind_tokenizer.fit_on_texts(hind_df)\n",
        "test_eng_tokenizer.fit_on_texts(test_eng_df)#Updates internal vocabulary based on a list of texts.\n",
        "test_hind_tokenizer.fit_on_texts(test_hind_df)\n",
        "inputs = eng_tokenizer.texts_to_sequences(eng_df)#Transforms each english text in texts to a sequence of integers.\n",
        "targets = hind_tokenizer.texts_to_sequences(hind_df)#Transforms each hindi text in texts to a sequence of integers\n",
        "test_inputs = test_eng_tokenizer.texts_to_sequences(test_eng_df)#Transforms each english text in texts to a sequence of integers.\n",
        "test_targets = test_hind_tokenizer.texts_to_sequences(test_hind_df)"
      ],
      "execution_count": null,
      "outputs": []
    },
    {
      "cell_type": "code",
      "metadata": {
        "execution": {
          "iopub.status.busy": "2021-08-25T05:36:04.794424Z",
          "iopub.execute_input": "2021-08-25T05:36:04.794726Z",
          "iopub.status.idle": "2021-08-25T05:36:04.803632Z",
          "shell.execute_reply.started": "2021-08-25T05:36:04.794699Z",
          "shell.execute_reply": "2021-08-25T05:36:04.799746Z"
        },
        "trusted": true,
        "colab": {
          "base_uri": "https://localhost:8080/"
        },
        "id": "cCIe31Scs2cS",
        "outputId": "f9a3c970-47ba-4e40-9961-abb0d70d04db"
      },
      "source": [
        "ENCODER_VOCAB = len(eng_tokenizer.word_index) + 1\n",
        "DECODER_VOCAB = len(hind_tokenizer.word_index) + 1\n",
        "print(ENCODER_VOCAB, DECODER_VOCAB)#words present in encoder and decoder\n",
        "TEST_ENCODER_VOCAB = len(test_eng_tokenizer.word_index) + 1\n",
        "TEST_DECODER_VOCAB = len(test_hind_tokenizer.word_index) + 1\n",
        "print(TEST_ENCODER_VOCAB, TEST_DECODER_VOCAB)#words present in encoder and decoder"
      ],
      "execution_count": null,
      "outputs": [
        {
          "output_type": "stream",
          "name": "stdout",
          "text": [
            "26227 35441\n",
            "1409 1409\n"
          ]
        }
      ]
    },
    {
      "cell_type": "code",
      "metadata": {
        "execution": {
          "iopub.status.busy": "2021-08-25T05:36:04.805010Z",
          "iopub.execute_input": "2021-08-25T05:36:04.805356Z",
          "iopub.status.idle": "2021-08-25T05:36:07.609273Z",
          "shell.execute_reply.started": "2021-08-25T05:36:04.805323Z",
          "shell.execute_reply": "2021-08-25T05:36:07.608415Z"
        },
        "trusted": true,
        "id": "SSRpSbycs2cW"
      },
      "source": [
        "#pad_sequences is used to ensure that all sequences in a list have the same length.\n",
        "inputs = tf.keras.preprocessing.sequence.pad_sequences(inputs, maxlen=ENCODER_LEN, padding='post', truncating='post')#This function transforms a list  of sequences into a 2D Numpy array of shape for eng \n",
        "targets = tf.keras.preprocessing.sequence.pad_sequences(targets, maxlen=DECODER_LEN, padding='post', truncating='post')#This function transforms a list  of sequences into a 2D Numpy array of shape for hindi\n",
        "inputs = tf.cast(inputs, dtype=tf.int64)#Casts a tensor to a new type for eng\n",
        "targets = tf.cast(targets, dtype=tf.int64)#Casts a tensor to a new type for hindi\n",
        "\n",
        "test_inputs = tf.keras.preprocessing.sequence.pad_sequences(test_inputs, maxlen=ENCODER_LEN, padding='post', truncating='post')#This function transforms a list  of sequences into a 2D Numpy array of shape for eng \n",
        "test_targets = tf.keras.preprocessing.sequence.pad_sequences(test_targets, maxlen=DECODER_LEN, padding='post', truncating='post')#This function transforms a list  of sequences into a 2D Numpy array of shape for hindi\n",
        "test_inputs = tf.cast(test_inputs, dtype=tf.int64)#Casts a tensor to a new type for eng\n",
        "test_targets = tf.cast(test_targets, dtype=tf.int64)"
      ],
      "execution_count": null,
      "outputs": []
    },
    {
      "cell_type": "code",
      "metadata": {
        "execution": {
          "iopub.status.busy": "2021-08-25T05:36:07.610552Z",
          "iopub.execute_input": "2021-08-25T05:36:07.610936Z",
          "iopub.status.idle": "2021-08-25T05:36:07.662840Z",
          "shell.execute_reply.started": "2021-08-25T05:36:07.610900Z",
          "shell.execute_reply": "2021-08-25T05:36:07.662127Z"
        },
        "trusted": true,
        "id": "BhK0qB72s2cX"
      },
      "source": [
        "dataset = tf.data.Dataset.from_tensor_slices((inputs, targets)).shuffle(BUFFER_SIZE).batch(BATCH_SIZE) #Creates a Dataset whose elements are slices of the given tensors."
      ],
      "execution_count": null,
      "outputs": []
    },
    {
      "cell_type": "code",
      "metadata": {
        "execution": {
          "iopub.status.busy": "2021-08-25T05:36:07.664104Z",
          "iopub.execute_input": "2021-08-25T05:36:07.664436Z",
          "iopub.status.idle": "2021-08-25T05:36:07.677744Z",
          "shell.execute_reply.started": "2021-08-25T05:36:07.664402Z",
          "shell.execute_reply": "2021-08-25T05:36:07.676818Z"
        },
        "trusted": true,
        "id": "Bbm8zGFXs2cY"
      },
      "source": [
        "#get the Positional encoding\n",
        "#The positional encoding vector is added to the embedding vector. \n",
        "#Embeddings represent a token in a d-dimensional space where tokens with similar meaning will be closer to each other. \n",
        "#But the embeddings do not encode the relative position of words in a sentence.\n",
        "#So after adding the positional encoding, words will be closer to each other based on the \n",
        "#similarity of their meaning and their position in the sentence, in the d-dimensional space.\n",
        "def get_Angles(position, i, d_model):\n",
        "    angle_rates = 1 / np.power(10000, (2 * (i // 2)) / np.float32(d_model))\n",
        "    return position * angle_rates\n",
        "\n",
        "def positional_encodings(position, d_model):\n",
        "    angle_rads = get_Angles(\n",
        "        np.arange(position)[:, np.newaxis],\n",
        "        np.arange(d_model)[np.newaxis, :],\n",
        "        d_model\n",
        "    )\n",
        "\n",
        "    angle_rads[:, 0::2] = np.sin(angle_rads[:, 0::2])## apply sin to even indices in the array; 2i\n",
        "\n",
        "    angle_rads[:, 1::2] = np.cos(angle_rads[:, 1::2])## apply cos to odd indices in the array; 2i+1\n",
        "\n",
        "    pos_encoding = angle_rads[np.newaxis, ...]\n",
        "\n",
        "    return tf.cast(pos_encoding, dtype=tf.float32)\n",
        "#get mask\n",
        "#Mask all the pad tokens in the batch of sequence. \n",
        "#It ensures that the model does not treat padding as the input. \n",
        "#The mask indicates where pad value 0 is present: it outputs a 1 at those locations, and a 0 otherwise.\n",
        "def create_padding_masks(seq):\n",
        "    seq = tf.cast(tf.math.equal(seq, 0), tf.float32)\n",
        "    # add extra dimensions to add the padding\n",
        "    # to the attention logits.\n",
        "    return seq[:, tf.newaxis, tf.newaxis, :]\n",
        "\n",
        "#The look-ahead mask is used to mask the future tokens in a sequence. \n",
        "#In other words, the mask indicates which entries should not be used.\n",
        "#This means that to predict the third word, only the first and second word will be used. \n",
        "#Similarly to predict the fourth word, only the first, second and the third word will be used and so on.\n",
        "def create_look_ahead_masks(size):\n",
        "    mask_df = 1 - tf.linalg.band_part(tf.ones((size, size)), -1, 0)\n",
        "    return mask_df\n",
        "#The dot-product attention is scaled by a factor of square root of the depth. \n",
        "#This is done because for large values of depth, the dot product grows large in magnitude pushing the softmax function where it has small gradients resulting in a very hard softmax.\n",
        "def scaled_dot_product_attentions(q, k, v, mask_df):\n",
        "    matmul_qk = tf.matmul(q, k, transpose_b=True)\n",
        "    dk = tf.cast(tf.shape(k)[-1], tf.float32)\n",
        "    scaled_attention_logits = matmul_qk / tf.math.sqrt(dk)\n",
        "    if mask_df is not None:\n",
        "        scaled_attention_logits += (mask_df * -1e9) \n",
        "    # softmax is normalized on the last axis (seq_len_k) so that the scores\n",
        "    # add up to 1. \n",
        "    #As the softmax normalization is done on K, its values decide the amount of importance given to Q.\n",
        "    attention_weights = tf.nn.softmax(scaled_attention_logits, axis=-1)\n",
        "    output = tf.matmul(attention_weights, v)\n",
        "    return output, attention_weights"
      ],
      "execution_count": null,
      "outputs": []
    },
    {
      "cell_type": "code",
      "metadata": {
        "execution": {
          "iopub.status.busy": "2021-08-25T05:36:07.679727Z",
          "iopub.execute_input": "2021-08-25T05:36:07.680489Z",
          "iopub.status.idle": "2021-08-25T05:36:07.692616Z",
          "shell.execute_reply.started": "2021-08-25T05:36:07.680449Z",
          "shell.execute_reply": "2021-08-25T05:36:07.691605Z"
        },
        "trusted": true,
        "id": "o9W3Hq2Cs2ca"
      },
      "source": [
        "#Each multi-head attention block gets three inputs; Q (query), K (key), V (value). \n",
        "#These are put through linear (Dense) layers and split up into multiple heads.\n",
        "#Create a MultiHeadAttention layer to try out. At each location in the sequence, y, \n",
        "#the MultiHeadAttention runs all 8 attention heads across all other locations in the sequence, \n",
        "#returning a new vector of the same length at each location.\n",
        "class MultiHeadAttention(tf.keras.layers.Layer):\n",
        "    def __init__(self, d_model, num_heads):\n",
        "        super(MultiHeadAttention, self).__init__()\n",
        "        self.num_heads = num_heads\n",
        "        self.d_model = d_model\n",
        "\n",
        "        assert d_model % self.num_heads == 0\n",
        "\n",
        "        self.depth = d_model // self.num_heads\n",
        "\n",
        "        self.wq = tf.keras.layers.Dense(d_model)\n",
        "        self.wk = tf.keras.layers.Dense(d_model)\n",
        "        self.wv = tf.keras.layers.Dense(d_model)\n",
        "\n",
        "        self.dense = tf.keras.layers.Dense(d_model)\n",
        "        \n",
        "    def split_heads(self, x, batch_size):\n",
        "        x = tf.reshape(x, (batch_size, -1, self.num_heads, self.depth))\n",
        "        return tf.transpose(x, perm=[0, 2, 1, 3])\n",
        "    \n",
        "    def call(self, v, k, q, mask_df):\n",
        "        batch_size = tf.shape(q)[0]\n",
        "\n",
        "        q = self.wq(q)\n",
        "        k = self.wk(k)\n",
        "        v = self.wv(v)\n",
        "\n",
        "        q = self.split_heads(q, batch_size)\n",
        "        k = self.split_heads(k, batch_size)\n",
        "        v = self.split_heads(v, batch_size)\n",
        "\n",
        "        scaled_attention, attention_weights = scaled_dot_product_attentions(\n",
        "            q, k, v, mask_df)\n",
        "\n",
        "        scaled_attention = tf.transpose(scaled_attention, perm=[0, 2, 1, 3])\n",
        "        \n",
        "        concat_attention = tf.reshape(scaled_attention, (batch_size, -1, self.d_model))\n",
        "        output = self.dense(concat_attention)\n",
        "            \n",
        "        return output, attention_weights\n",
        "#Point wise feed forward network consists of two fully-connected layers with a ReLU activation in between.\n",
        "def point_wise_feed_forward_network(d_model, dff):\n",
        "    return tf.keras.Sequential([\n",
        "        tf.keras.layers.Dense(dff, activation='relu'),\n",
        "        tf.keras.layers.Dense(d_model)\n",
        "    ])"
      ],
      "execution_count": null,
      "outputs": []
    },
    {
      "cell_type": "code",
      "metadata": {
        "execution": {
          "iopub.status.busy": "2021-08-25T05:36:07.693942Z",
          "iopub.execute_input": "2021-08-25T05:36:07.694320Z",
          "iopub.status.idle": "2021-08-25T05:36:07.705295Z",
          "shell.execute_reply.started": "2021-08-25T05:36:07.694249Z",
          "shell.execute_reply": "2021-08-25T05:36:07.704338Z"
        },
        "trusted": true,
        "id": "ygBvgvh2s2cf"
      },
      "source": [
        "#Encoder layer \n",
        "#The transformer model follows the same general pattern as a standard sequence to sequence with attention model.\n",
        "#The input sentence is passed through N encoder layers that generates an output for each word/token in the sequence.\n",
        "#The decoder attends on the encoder's output and its own input (self-attention) to predict the next word.\n",
        "#The output of each sublayer is LayerNorm(x + Sublayer(x)). The normalization is done on the d_model (last) axis. \n",
        "#There are N encoder layers in the transformer.\n",
        "class EncoderLayer(tf.keras.layers.Layer):\n",
        "    def __init__(self, d_model, num_heads, dff, rate=0.1):\n",
        "        super(EncoderLayer, self).__init__()\n",
        "\n",
        "        self.mha = MultiHeadAttention(d_model, num_heads)\n",
        "        self.ffn = point_wise_feed_forward_network(d_model, dff)\n",
        "\n",
        "        self.layernorm1 = tf.keras.layers.LayerNormalization(epsilon=1e-6)\n",
        "        self.layernorm2 = tf.keras.layers.LayerNormalization(epsilon=1e-6)\n",
        "\n",
        "        self.dropout1 = tf.keras.layers.Dropout(rate)\n",
        "        self.dropout2 = tf.keras.layers.Dropout(rate)\n",
        "    \n",
        "    def call(self, x, training, mask_df):\n",
        "        attn_output, _ = self.mha(x, x, x, mask_df)\n",
        "        attn_output = self.dropout1(attn_output, training=training)\n",
        "        out1 = self.layernorm1(x + attn_output)\n",
        "\n",
        "        ffn_output = self.ffn(out1)\n",
        "        ffn_output = self.dropout2(ffn_output, training=training)\n",
        "        out2 = self.layernorm2(out1 + ffn_output)\n",
        "\n",
        "        return out2\n"
      ],
      "execution_count": null,
      "outputs": []
    },
    {
      "cell_type": "code",
      "metadata": {
        "execution": {
          "iopub.status.busy": "2021-08-25T05:36:07.707077Z",
          "iopub.execute_input": "2021-08-25T05:36:07.707778Z",
          "iopub.status.idle": "2021-08-25T05:36:07.718942Z",
          "shell.execute_reply.started": "2021-08-25T05:36:07.707731Z",
          "shell.execute_reply": "2021-08-25T05:36:07.718210Z"
        },
        "trusted": true,
        "id": "SkOE5dYRs2cf"
      },
      "source": [
        "#Decoder Layer\n",
        "#Each decoder layer consists of sublayers:\n",
        "##Masked multi-head attention (with look ahead mask and padding mask)\n",
        "#Multi-head attention (with padding mask). V (value) and K (key) receive the encoder output as inputs. Q (query) receives the output from the masked multi-head attention sublayer.\n",
        "#Point wise feed forward networks\n",
        "#Each of these sublayers has a residual connection around it followed by a layer normalization. \n",
        "#The output of each sublayer is LayerNorm(x + Sublayer(x)). The normalization is done on the d_model (last) axis.\n",
        "class DecoderLayer(tf.keras.layers.Layer):\n",
        "    def __init__(self, d_model, num_heads, dff, rate=0.1):\n",
        "        super(DecoderLayer, self).__init__()\n",
        "\n",
        "        self.mha1 = MultiHeadAttention(d_model, num_heads)\n",
        "        self.mha2 = MultiHeadAttention(d_model, num_heads)\n",
        "\n",
        "        self.ffn = point_wise_feed_forward_network(d_model, dff)\n",
        "\n",
        "        self.layernorm1 = tf.keras.layers.LayerNormalization(epsilon=1e-6)\n",
        "        self.layernorm2 = tf.keras.layers.LayerNormalization(epsilon=1e-6)\n",
        "        self.layernorm3 = tf.keras.layers.LayerNormalization(epsilon=1e-6)\n",
        "\n",
        "        self.dropout1 = tf.keras.layers.Dropout(rate)\n",
        "        self.dropout2 = tf.keras.layers.Dropout(rate)\n",
        "        self.dropout3 = tf.keras.layers.Dropout(rate)\n",
        "    \n",
        "    \n",
        "    def call(self, x, enc_output, training, look_ahead_mask, padding_mask):\n",
        "        attn1, attn_weights_block1 = self.mha1(x, x, x, look_ahead_mask)\n",
        "        attn1 = self.dropout1(attn1, training=training)\n",
        "        out1 = self.layernorm1(attn1 + x)\n",
        "\n",
        "        attn2, attn_weights_block2 = self.mha2(enc_output, enc_output, out1, padding_mask)\n",
        "        attn2 = self.dropout2(attn2, training=training)\n",
        "        out2 = self.layernorm2(attn2 + out1)\n",
        "\n",
        "        ffn_output = self.ffn(out2)\n",
        "        ffn_output = self.dropout3(ffn_output, training=training)\n",
        "        out3 = self.layernorm3(ffn_output + out2)\n",
        "\n",
        "        return out3, attn_weights_block1, attn_weights_block2"
      ],
      "execution_count": null,
      "outputs": []
    },
    {
      "cell_type": "code",
      "metadata": {
        "execution": {
          "iopub.status.busy": "2021-08-25T05:36:07.720169Z",
          "iopub.execute_input": "2021-08-25T05:36:07.720733Z",
          "iopub.status.idle": "2021-08-25T05:36:07.738445Z",
          "shell.execute_reply.started": "2021-08-25T05:36:07.720696Z",
          "shell.execute_reply": "2021-08-25T05:36:07.737734Z"
        },
        "trusted": true,
        "id": "86F7zybUs2cg"
      },
      "source": [
        "#The input is put through an embedding which is summed with the positional encoding. \n",
        "#The output of this summation is the input to the encoder layers. The output of the encoder is the input to the decoder.\n",
        "#The Encoder consists of:Input Embedding, Positional Encoding, N encoder layers\n",
        "class Encoder(tf.keras.layers.Layer):\n",
        "    def __init__(self, num_layers, d_model, num_heads, dff, input_vocab_size, maximum_position_encoding, rate=0.1):\n",
        "        super(Encoder, self).__init__()\n",
        "\n",
        "        self.d_model = d_model\n",
        "        self.num_layers = num_layers\n",
        "\n",
        "        self.embedding = tf.keras.layers.Embedding(input_vocab_size, d_model)\n",
        "        self.pos_encoding = positional_encodings(maximum_position_encoding, self.d_model)\n",
        "\n",
        "        self.enc_layers = [EncoderLayer(d_model, num_heads, dff, rate) for _ in range(num_layers)]\n",
        "\n",
        "        self.dropout = tf.keras.layers.Dropout(rate)\n",
        "        \n",
        "    def call(self, x, training, mask_df):\n",
        "        seq_len = tf.shape(x)[1]\n",
        "        # adding embedding and position encoding.\n",
        "        x = self.embedding(x)\n",
        "        x *= tf.math.sqrt(tf.cast(self.d_model, tf.float32))\n",
        "        x += self.pos_encoding[:, :seq_len, :]\n",
        "\n",
        "        x = self.dropout(x, training=training)\n",
        "    \n",
        "        for i in range(self.num_layers):\n",
        "            x = self.enc_layers[i](x, training, mask_df)\n",
        "    \n",
        "        return x\n",
        "\n",
        "#The Decoder consists of:Output Embedding, Positional Encoding, N decoder layers\n",
        "#The target is put through an embedding which is summed with the positional encoding. \n",
        "#The output of this summation is the input to the decoder layers. The output of the decoder is the input to the final linear layer.\n",
        "\n",
        "class Decoder(tf.keras.layers.Layer):\n",
        "        \n",
        "    def __init__(self, num_layers, d_model, num_heads, dff, target_vocab_size, maximum_position_encoding, rate=0.1):\n",
        "        super(Decoder, self).__init__()\n",
        "\n",
        "        self.d_model = d_model\n",
        "        self.num_layers = num_layers\n",
        "\n",
        "        self.embedding = tf.keras.layers.Embedding(target_vocab_size, d_model)\n",
        "        self.pos_encoding = positional_encodings(maximum_position_encoding, d_model)\n",
        "\n",
        "        self.dec_layers = [DecoderLayer(d_model, num_heads, dff, rate) for _ in range(num_layers)]\n",
        "        self.dropout = tf.keras.layers.Dropout(rate)\n",
        "    \n",
        "    def call(self, x, enc_output, training, look_ahead_mask, padding_mask):\n",
        "        seq_len = tf.shape(x)[1]\n",
        "        attention_weights = {}\n",
        "\n",
        "        x = self.embedding(x)\n",
        "        x *= tf.math.sqrt(tf.cast(self.d_model, tf.float32))\n",
        "        x += self.pos_encoding[:, :seq_len, :]\n",
        "\n",
        "        x = self.dropout(x, training=training)\n",
        "\n",
        "        for i in range(self.num_layers):\n",
        "            x, block1, block2 = self.dec_layers[i](x, enc_output, training, look_ahead_mask, padding_mask)\n",
        "\n",
        "            attention_weights['decoder_layer{}_block1'.format(i+1)] = block1\n",
        "            attention_weights['decoder_layer{}_block2'.format(i+1)] = block2\n",
        "    \n",
        "        return x, attention_weights\n"
      ],
      "execution_count": null,
      "outputs": []
    },
    {
      "cell_type": "code",
      "metadata": {
        "execution": {
          "iopub.status.busy": "2021-08-25T05:36:07.739482Z",
          "iopub.execute_input": "2021-08-25T05:36:07.741305Z",
          "iopub.status.idle": "2021-08-25T05:36:07.749429Z",
          "shell.execute_reply.started": "2021-08-25T05:36:07.741269Z",
          "shell.execute_reply": "2021-08-25T05:36:07.748734Z"
        },
        "trusted": true,
        "id": "VGRLhENos2ch"
      },
      "source": [
        "#Transformer consists of the encoder, decoder and a final linear layer. \n",
        "#The output of the decoder is the input to the linear layer and its output is returned.\n",
        "class Transformer(tf.keras.Model):\n",
        "    def __init__(self, num_layers, d_model, num_heads, dff, input_vocab_size, target_vocab_size, pe_input, pe_target, rate=0.1):\n",
        "        super(Transformer, self).__init__()\n",
        "\n",
        "        self.encoder = Encoder(num_layers, d_model, num_heads, dff, input_vocab_size, pe_input, rate)\n",
        "\n",
        "        self.decoder = Decoder(num_layers, d_model, num_heads, dff, target_vocab_size, pe_target, rate)\n",
        "\n",
        "        self.final_layer = tf.keras.layers.Dense(target_vocab_size)\n",
        "    \n",
        "    def call(self, inp, tar, training, enc_padding_mask, look_ahead_mask, dec_padding_mask):\n",
        "        enc_output = self.encoder(inp, training, enc_padding_mask)\n",
        "\n",
        "        dec_output, attention_weights = self.decoder(tar, enc_output, training, look_ahead_mask, dec_padding_mask)\n",
        "\n",
        "        final_output = self.final_layer(dec_output)\n",
        "\n",
        "        return final_output, attention_weights"
      ],
      "execution_count": null,
      "outputs": []
    },
    {
      "cell_type": "code",
      "metadata": {
        "execution": {
          "iopub.status.busy": "2021-08-25T05:36:07.750532Z",
          "iopub.execute_input": "2021-08-25T05:36:07.751069Z",
          "iopub.status.idle": "2021-08-25T05:36:07.761435Z",
          "shell.execute_reply.started": "2021-08-25T05:36:07.751032Z",
          "shell.execute_reply": "2021-08-25T05:36:07.760631Z"
        },
        "trusted": true,
        "id": "4aZdIwcXs2ci"
      },
      "source": [
        "#setting up the hyperparameters\n",
        "#To keep this example small and relatively fast, the values for num_layers, d_model, and dff have been reduced.\n",
        "num_layers = 4\n",
        "d_model = 128\n",
        "dff = 512\n",
        "num_heads = 8\n",
        "dropout_rate = 0.1\n",
        "EPOCHS = 1"
      ],
      "execution_count": null,
      "outputs": []
    },
    {
      "cell_type": "code",
      "metadata": {
        "execution": {
          "iopub.status.busy": "2021-08-25T05:36:07.762897Z",
          "iopub.execute_input": "2021-08-25T05:36:07.763291Z",
          "iopub.status.idle": "2021-08-25T05:36:07.972239Z",
          "shell.execute_reply.started": "2021-08-25T05:36:07.763253Z",
          "shell.execute_reply": "2021-08-25T05:36:07.971445Z"
        },
        "trusted": true,
        "colab": {
          "base_uri": "https://localhost:8080/",
          "height": 313
        },
        "id": "IMsjbdy0s2ci",
        "outputId": "bb9450d4-6792-4fe2-e01a-79f590897372"
      },
      "source": [
        "#Use the Adam optimizer with a custom learning rate scheduler according to the formula\n",
        "class CustomSchedules(tf.keras.optimizers.schedules.LearningRateSchedule):\n",
        "    def __init__(self, d_model, warmup_steps=4000):\n",
        "        super(CustomSchedules, self).__init__()\n",
        "\n",
        "        self.d_model = d_model\n",
        "        self.d_model = tf.cast(self.d_model, tf.float32)\n",
        "\n",
        "        self.warmup_steps = warmup_steps\n",
        "    \n",
        "    def __call__(self, step):\n",
        "        arg1 = tf.math.rsqrt(step)\n",
        "        arg2 = step * (self.warmup_steps ** -1.5)\n",
        "\n",
        "        return tf.math.rsqrt(self.d_model) * tf.math.minimum(arg1, arg2)\n",
        "learning_rate = CustomSchedules(d_model)\n",
        "optimizer = tf.keras.optimizers.Adam(learning_rate, beta_1=0.9, beta_2=0.98, epsilon=1e-9)\n",
        "temp_learning_rate_schedule = CustomSchedules(d_model)\n",
        "\n",
        "plt.plot(temp_learning_rate_schedule(tf.range(40000, dtype=tf.float32)))\n",
        "plt.title(\"Lr vs training\")\n",
        "plt.ylabel(\"Learning Rate\")\n",
        "plt.xlabel(\"Train Step\")"
      ],
      "execution_count": null,
      "outputs": [
        {
          "output_type": "execute_result",
          "data": {
            "text/plain": [
              "Text(0.5, 0, 'Train Step')"
            ]
          },
          "metadata": {},
          "execution_count": 27
        },
        {
          "output_type": "display_data",
          "data": {
            "image/png": "[encoded data removed]",
            "text/plain": [
              "<Figure size 432x288 with 1 Axes>"
            ]
          },
          "metadata": {
            "needs_background": "light"
          }
        }
      ]
    },
    {
      "cell_type": "code",
      "metadata": {
        "execution": {
          "iopub.status.busy": "2021-08-25T05:36:07.973465Z",
          "iopub.execute_input": "2021-08-25T05:36:07.973830Z",
          "iopub.status.idle": "2021-08-25T05:36:07.982552Z",
          "shell.execute_reply.started": "2021-08-25T05:36:07.973793Z",
          "shell.execute_reply": "2021-08-25T05:36:07.981516Z"
        },
        "trusted": true,
        "id": "tEnp_cZ4s2cj"
      },
      "source": [
        "#Since the target sequences are padded, it is important to apply a padding mask when calculating the loss.\n",
        "loss_object = tf.keras.losses.SparseCategoricalCrossentropy(from_logits=True, reduction='none')\n",
        "def loss_functions(real, pred):\n",
        "    mask_df = tf.math.logical_not(tf.math.equal(real, 0))\n",
        "    loss_ = loss_object(real, pred)\n",
        "\n",
        "    mask_df = tf.cast(mask_df, dtype=loss_.dtype)\n",
        "    loss_ *= mask_df\n",
        "\n",
        "    return tf.reduce_sum(loss_)/tf.reduce_sum(mask_df)\n",
        "\n",
        "\n",
        "def accuracy_functions(real, pred):\n",
        "    accuracies = tf.equal(real, tf.argmax(pred, axis=2))\n",
        "\n",
        "    mask_df = tf.math.logical_not(tf.math.equal(real, 0))\n",
        "    accuracies = tf.math.logical_and(mask_df, accuracies)\n",
        "\n",
        "    accuracies = tf.cast(accuracies, dtype=tf.float32)\n",
        "    mask_df = tf.cast(mask_df, dtype=tf.float32)\n",
        "    return tf.reduce_sum(accuracies)/tf.reduce_sum(mask_df)"
      ],
      "execution_count": null,
      "outputs": []
    },
    {
      "cell_type": "code",
      "metadata": {
        "execution": {
          "iopub.status.busy": "2021-08-25T05:36:07.984057Z",
          "iopub.execute_input": "2021-08-25T05:36:07.984448Z",
          "iopub.status.idle": "2021-08-25T05:36:08.008445Z",
          "shell.execute_reply.started": "2021-08-25T05:36:07.984414Z",
          "shell.execute_reply": "2021-08-25T05:36:08.007734Z"
        },
        "trusted": true,
        "id": "ATWEr0ZZs2cj"
      },
      "source": [
        "train_loss = tf.keras.metrics.Mean(name='train_loss')\n",
        "train_accuracy = tf.keras.metrics.Mean(name='train_accuracy')"
      ],
      "execution_count": null,
      "outputs": []
    },
    {
      "cell_type": "code",
      "metadata": {
        "execution": {
          "iopub.status.busy": "2021-08-25T05:36:08.010492Z",
          "iopub.execute_input": "2021-08-25T05:36:08.010958Z",
          "iopub.status.idle": "2021-08-25T05:36:08.273299Z",
          "shell.execute_reply.started": "2021-08-25T05:36:08.010924Z",
          "shell.execute_reply": "2021-08-25T05:36:08.272495Z"
        },
        "trusted": true,
        "id": "HdwBh2w7s2ck"
      },
      "source": [
        "transformer = Transformer(\n",
        "    num_layers=num_layers,\n",
        "    d_model=d_model,\n",
        "    num_heads=num_heads,\n",
        "    dff=dff,\n",
        "    input_vocab_size=ENCODER_VOCAB,\n",
        "    target_vocab_size=DECODER_VOCAB,\n",
        "    pe_input=1000,\n",
        "    pe_target=1000,\n",
        "    rate=dropout_rate)\n",
        "def create_masks(inp, tar):\n",
        "    ## Encoder padding mask\n",
        "    enc_padding_mask = create_padding_masks(inp)\n",
        "    # Used in the 2nd attention block in the decoder.\n",
        "    # This padding mask is used to mask the encoder outputs.\n",
        "    dec_padding_mask = create_padding_masks(inp)\n",
        "    # Used in the 1st attention block in the decoder.\n",
        "    # It is used to pad and mask future tokens in the input received by\n",
        "    # the decoder.\n",
        "    look_ahead_mask = create_look_ahead_masks(tf.shape(tar)[1])\n",
        "    dec_target_padding_mask = create_padding_masks(tar)\n",
        "    combined_mask = tf.maximum(dec_target_padding_mask, look_ahead_mask)\n",
        "  \n",
        "    return enc_padding_mask, combined_mask, dec_padding_mask"
      ],
      "execution_count": null,
      "outputs": []
    },
    {
      "cell_type": "code",
      "metadata": {
        "execution": {
          "iopub.status.busy": "2021-08-25T05:36:08.276055Z",
          "iopub.execute_input": "2021-08-25T05:36:08.276298Z",
          "iopub.status.idle": "2021-08-25T05:36:08.380894Z",
          "shell.execute_reply.started": "2021-08-25T05:36:08.276273Z",
          "shell.execute_reply": "2021-08-25T05:36:08.379657Z"
        },
        "trusted": true,
        "colab": {
          "base_uri": "https://localhost:8080/"
        },
        "id": "wLdPdxh4s2cl",
        "outputId": "4a52b832-5b4b-4a92-c52a-7d3e8bbc3f1a"
      },
      "source": [
        "#!mkdir training_checkpoints\n",
        "checkpoint_path = \"/content/training_checkpoints\"\n",
        "\n",
        "ckpt = tf.train.Checkpoint(transformer=transformer, optimizer=optimizer)\n",
        "\n",
        "ckpt_manager = tf.train.CheckpointManager(ckpt, checkpoint_path, max_to_keep=5)\n",
        "\n",
        "if ckpt_manager.latest_checkpoint:\n",
        "    ckpt.restore(ckpt_manager.latest_checkpoint)\n",
        "    print ('Latest checkpoint restored!!')"
      ],
      "execution_count": null,
      "outputs": [
        {
          "output_type": "stream",
          "name": "stdout",
          "text": [
            "Latest checkpoint restored!!\n"
          ]
        }
      ]
    },
    {
      "cell_type": "code",
      "metadata": {
        "execution": {
          "iopub.status.busy": "2021-08-25T05:36:08.382455Z",
          "iopub.execute_input": "2021-08-25T05:36:08.382816Z",
          "iopub.status.idle": "2021-08-25T05:36:08.389592Z",
          "shell.execute_reply.started": "2021-08-25T05:36:08.382779Z",
          "shell.execute_reply": "2021-08-25T05:36:08.388517Z"
        },
        "trusted": true,
        "id": "OsAlSI3rs2cl"
      },
      "source": [
        "# The @tf.function trace-compiles train_step into a TF graph for faster\n",
        "# execution. The function specializes to the precise shape of the argument\n",
        "# tensors. To avoid re-tracing due to the variable sequence lengths or variable\n",
        "# batch sizes (the last batch is smaller), use input_signature to specify\n",
        "# more generic shapes.\n",
        "@tf.function\n",
        "def train_step(inp, tar):\n",
        "    tar_inp = tar[:, :-1]\n",
        "    tar_real = tar[:, 1:]\n",
        "\n",
        "    enc_padding_mask, combined_mask, dec_padding_mask = create_masks(inp, tar_inp)\n",
        "\n",
        "    with tf.GradientTape() as tape:\n",
        "        predictions, _ = transformer(\n",
        "            inp, tar_inp, \n",
        "            True, \n",
        "            enc_padding_mask, \n",
        "            combined_mask, \n",
        "            dec_padding_mask\n",
        "        )\n",
        "        loss = loss_functions(tar_real, predictions)\n",
        "\n",
        "    gradients = tape.gradient(loss, transformer.trainable_variables)    \n",
        "    optimizer.apply_gradients(zip(gradients, transformer.trainable_variables))\n",
        "\n",
        "    train_loss(loss)\n",
        "    train_accuracy(accuracy_functions(tar_real, predictions))"
      ],
      "execution_count": null,
      "outputs": []
    },
    {
      "cell_type": "code",
      "metadata": {
        "execution": {
          "iopub.status.busy": "2021-08-25T05:36:08.391405Z",
          "iopub.execute_input": "2021-08-25T05:36:08.391839Z",
          "iopub.status.idle": "2021-08-25T05:39:53.568689Z",
          "shell.execute_reply.started": "2021-08-25T05:36:08.391803Z",
          "shell.execute_reply": "2021-08-25T05:39:53.566308Z"
        },
        "trusted": true,
        "colab": {
          "base_uri": "https://localhost:8080/",
          "height": 413
        },
        "id": "6sds0Ogus2cm",
        "outputId": "d564b692-170b-4789-db1b-1b73161f0e31"
      },
      "source": [
        "#English is used as the input language and Hindi is the target language.\n",
        "acc_g = []\n",
        "loss_g = []\n",
        "acc_gg = []\n",
        "loss_gg= []\n",
        "for epoch in range(EPOCHS):\n",
        "    start = time.time()\n",
        "\n",
        "    train_loss.reset_states()\n",
        "    for (batch, (inp, tar)) in enumerate(dataset):\n",
        "        train_step(inp, tar)\n",
        "        if batch % 200 == 0:\n",
        "            acc_g.append(f'{train_accuracy.result():.4f}')\n",
        "            loss_g.append(f'{train_loss.result():.4f}')\n",
        "            print(f'Epoch {epoch + 1} Batch {batch} Loss {train_loss.result():.4f} Accuracy {train_accuracy.result():.4f}')\n",
        "            #print(acc_g,loss_g)\n",
        "      \n",
        "    if (epoch + 1) % 5 == 0:\n",
        "        ckpt_save_path = ckpt_manager.save()\n",
        "        print ('Saving checkpoint for epoch {} at {}'.format(epoch+1, ckpt_save_path))\n",
        "\n",
        "    print(f'Epoch {epoch + 1} Loss {train_loss.result():.4f} Accuracy {train_accuracy.result():.4f}')\n",
        "    acc_gg.append(f'{train_accuracy.result():.4f}')\n",
        "    loss_gg.append(f'{train_loss.result():.4f}')\n",
        "    print(acc_gg,loss_gg)\n",
        "    print('Time taken for 1 epoch: {} secs\\n'.format(time.time() - start))"
      ],
      "execution_count": null,
      "outputs": [
        {
          "output_type": "stream",
          "name": "stdout",
          "text": [
            "Epoch 1 Batch 0 Loss 0.7438 Accuracy 0.8239\n"
          ]
        },
        {
          "output_type": "error",
          "ename": "KeyboardInterrupt",
          "evalue": "ignored",
          "traceback": [
            "\u001b[0;31m---------------------------------------------------------------------------\u001b[0m",
            "\u001b[0;31mKeyboardInterrupt\u001b[0m                         Traceback (most recent call last)",
            "\u001b[0;32m<ipython-input-33-f21cd74ed027>\u001b[0m in \u001b[0;36m<module>\u001b[0;34m()\u001b[0m\n\u001b[1;32m      9\u001b[0m     \u001b[0mtrain_loss\u001b[0m\u001b[0;34m.\u001b[0m\u001b[0mreset_states\u001b[0m\u001b[0;34m(\u001b[0m\u001b[0;34m)\u001b[0m\u001b[0;34m\u001b[0m\u001b[0;34m\u001b[0m\u001b[0m\n\u001b[1;32m     10\u001b[0m     \u001b[0;32mfor\u001b[0m \u001b[0;34m(\u001b[0m\u001b[0mbatch\u001b[0m\u001b[0;34m,\u001b[0m \u001b[0;34m(\u001b[0m\u001b[0minp\u001b[0m\u001b[0;34m,\u001b[0m \u001b[0mtar\u001b[0m\u001b[0;34m)\u001b[0m\u001b[0;34m)\u001b[0m \u001b[0;32min\u001b[0m \u001b[0menumerate\u001b[0m\u001b[0;34m(\u001b[0m\u001b[0mdataset\u001b[0m\u001b[0;34m)\u001b[0m\u001b[0;34m:\u001b[0m\u001b[0;34m\u001b[0m\u001b[0;34m\u001b[0m\u001b[0m\n\u001b[0;32m---> 11\u001b[0;31m         \u001b[0mtrain_step\u001b[0m\u001b[0;34m(\u001b[0m\u001b[0minp\u001b[0m\u001b[0;34m,\u001b[0m \u001b[0mtar\u001b[0m\u001b[0;34m)\u001b[0m\u001b[0;34m\u001b[0m\u001b[0;34m\u001b[0m\u001b[0m\n\u001b[0m\u001b[1;32m     12\u001b[0m         \u001b[0;32mif\u001b[0m \u001b[0mbatch\u001b[0m \u001b[0;34m%\u001b[0m \u001b[0;36m200\u001b[0m \u001b[0;34m==\u001b[0m \u001b[0;36m0\u001b[0m\u001b[0;34m:\u001b[0m\u001b[0;34m\u001b[0m\u001b[0;34m\u001b[0m\u001b[0m\n\u001b[1;32m     13\u001b[0m             \u001b[0macc_g\u001b[0m\u001b[0;34m.\u001b[0m\u001b[0mappend\u001b[0m\u001b[0;34m(\u001b[0m\u001b[0;34mf'{train_accuracy.result():.4f}'\u001b[0m\u001b[0;34m)\u001b[0m\u001b[0;34m\u001b[0m\u001b[0;34m\u001b[0m\u001b[0m\n",
            "\u001b[0;32m/usr/local/lib/python3.7/dist-packages/tensorflow/python/eager/def_function.py\u001b[0m in \u001b[0;36m__call__\u001b[0;34m(self, *args, **kwds)\u001b[0m\n\u001b[1;32m    883\u001b[0m \u001b[0;34m\u001b[0m\u001b[0m\n\u001b[1;32m    884\u001b[0m       \u001b[0;32mwith\u001b[0m \u001b[0mOptionalXlaContext\u001b[0m\u001b[0;34m(\u001b[0m\u001b[0mself\u001b[0m\u001b[0;34m.\u001b[0m\u001b[0m_jit_compile\u001b[0m\u001b[0;34m)\u001b[0m\u001b[0;34m:\u001b[0m\u001b[0;34m\u001b[0m\u001b[0;34m\u001b[0m\u001b[0m\n\u001b[0;32m--> 885\u001b[0;31m         \u001b[0mresult\u001b[0m \u001b[0;34m=\u001b[0m \u001b[0mself\u001b[0m\u001b[0;34m.\u001b[0m\u001b[0m_call\u001b[0m\u001b[0;34m(\u001b[0m\u001b[0;34m*\u001b[0m\u001b[0margs\u001b[0m\u001b[0;34m,\u001b[0m \u001b[0;34m**\u001b[0m\u001b[0mkwds\u001b[0m\u001b[0;34m)\u001b[0m\u001b[0;34m\u001b[0m\u001b[0;34m\u001b[0m\u001b[0m\n\u001b[0m\u001b[1;32m    886\u001b[0m \u001b[0;34m\u001b[0m\u001b[0m\n\u001b[1;32m    887\u001b[0m       \u001b[0mnew_tracing_count\u001b[0m \u001b[0;34m=\u001b[0m \u001b[0mself\u001b[0m\u001b[0;34m.\u001b[0m\u001b[0mexperimental_get_tracing_count\u001b[0m\u001b[0;34m(\u001b[0m\u001b[0;34m)\u001b[0m\u001b[0;34m\u001b[0m\u001b[0;34m\u001b[0m\u001b[0m\n",
            "\u001b[0;32m/usr/local/lib/python3.7/dist-packages/tensorflow/python/eager/def_function.py\u001b[0m in \u001b[0;36m_call\u001b[0;34m(self, *args, **kwds)\u001b[0m\n\u001b[1;32m    915\u001b[0m       \u001b[0;31m# In this case we have created variables on the first call, so we run the\u001b[0m\u001b[0;34m\u001b[0m\u001b[0;34m\u001b[0m\u001b[0;34m\u001b[0m\u001b[0m\n\u001b[1;32m    916\u001b[0m       \u001b[0;31m# defunned version which is guaranteed to never create variables.\u001b[0m\u001b[0;34m\u001b[0m\u001b[0;34m\u001b[0m\u001b[0;34m\u001b[0m\u001b[0m\n\u001b[0;32m--> 917\u001b[0;31m       \u001b[0;32mreturn\u001b[0m \u001b[0mself\u001b[0m\u001b[0;34m.\u001b[0m\u001b[0m_stateless_fn\u001b[0m\u001b[0;34m(\u001b[0m\u001b[0;34m*\u001b[0m\u001b[0margs\u001b[0m\u001b[0;34m,\u001b[0m \u001b[0;34m**\u001b[0m\u001b[0mkwds\u001b[0m\u001b[0;34m)\u001b[0m  \u001b[0;31m# pylint: disable=not-callable\u001b[0m\u001b[0;34m\u001b[0m\u001b[0;34m\u001b[0m\u001b[0m\n\u001b[0m\u001b[1;32m    918\u001b[0m     \u001b[0;32melif\u001b[0m \u001b[0mself\u001b[0m\u001b[0;34m.\u001b[0m\u001b[0m_stateful_fn\u001b[0m \u001b[0;32mis\u001b[0m \u001b[0;32mnot\u001b[0m \u001b[0;32mNone\u001b[0m\u001b[0;34m:\u001b[0m\u001b[0;34m\u001b[0m\u001b[0;34m\u001b[0m\u001b[0m\n\u001b[1;32m    919\u001b[0m       \u001b[0;31m# Release the lock early so that multiple threads can perform the call\u001b[0m\u001b[0;34m\u001b[0m\u001b[0;34m\u001b[0m\u001b[0;34m\u001b[0m\u001b[0m\n",
            "\u001b[0;32m/usr/local/lib/python3.7/dist-packages/tensorflow/python/eager/function.py\u001b[0m in \u001b[0;36m__call__\u001b[0;34m(self, *args, **kwargs)\u001b[0m\n\u001b[1;32m   3038\u001b[0m        filtered_flat_args) = self._maybe_define_function(args, kwargs)\n\u001b[1;32m   3039\u001b[0m     return graph_function._call_flat(\n\u001b[0;32m-> 3040\u001b[0;31m         filtered_flat_args, captured_inputs=graph_function.captured_inputs)  # pylint: disable=protected-access\n\u001b[0m\u001b[1;32m   3041\u001b[0m \u001b[0;34m\u001b[0m\u001b[0m\n\u001b[1;32m   3042\u001b[0m   \u001b[0;34m@\u001b[0m\u001b[0mproperty\u001b[0m\u001b[0;34m\u001b[0m\u001b[0;34m\u001b[0m\u001b[0m\n",
            "\u001b[0;32m/usr/local/lib/python3.7/dist-packages/tensorflow/python/eager/function.py\u001b[0m in \u001b[0;36m_call_flat\u001b[0;34m(self, args, captured_inputs, cancellation_manager)\u001b[0m\n\u001b[1;32m   1962\u001b[0m       \u001b[0;31m# No tape is watching; skip to running the function.\u001b[0m\u001b[0;34m\u001b[0m\u001b[0;34m\u001b[0m\u001b[0;34m\u001b[0m\u001b[0m\n\u001b[1;32m   1963\u001b[0m       return self._build_call_outputs(self._inference_function.call(\n\u001b[0;32m-> 1964\u001b[0;31m           ctx, args, cancellation_manager=cancellation_manager))\n\u001b[0m\u001b[1;32m   1965\u001b[0m     forward_backward = self._select_forward_and_backward_functions(\n\u001b[1;32m   1966\u001b[0m         \u001b[0margs\u001b[0m\u001b[0;34m,\u001b[0m\u001b[0;34m\u001b[0m\u001b[0;34m\u001b[0m\u001b[0m\n",
            "\u001b[0;32m/usr/local/lib/python3.7/dist-packages/tensorflow/python/eager/function.py\u001b[0m in \u001b[0;36mcall\u001b[0;34m(self, ctx, args, cancellation_manager)\u001b[0m\n\u001b[1;32m    594\u001b[0m               \u001b[0minputs\u001b[0m\u001b[0;34m=\u001b[0m\u001b[0margs\u001b[0m\u001b[0;34m,\u001b[0m\u001b[0;34m\u001b[0m\u001b[0;34m\u001b[0m\u001b[0m\n\u001b[1;32m    595\u001b[0m               \u001b[0mattrs\u001b[0m\u001b[0;34m=\u001b[0m\u001b[0mattrs\u001b[0m\u001b[0;34m,\u001b[0m\u001b[0;34m\u001b[0m\u001b[0;34m\u001b[0m\u001b[0m\n\u001b[0;32m--> 596\u001b[0;31m               ctx=ctx)\n\u001b[0m\u001b[1;32m    597\u001b[0m         \u001b[0;32melse\u001b[0m\u001b[0;34m:\u001b[0m\u001b[0;34m\u001b[0m\u001b[0;34m\u001b[0m\u001b[0m\n\u001b[1;32m    598\u001b[0m           outputs = execute.execute_with_cancellation(\n",
            "\u001b[0;32m/usr/local/lib/python3.7/dist-packages/tensorflow/python/eager/execute.py\u001b[0m in \u001b[0;36mquick_execute\u001b[0;34m(op_name, num_outputs, inputs, attrs, ctx, name)\u001b[0m\n\u001b[1;32m     58\u001b[0m     \u001b[0mctx\u001b[0m\u001b[0;34m.\u001b[0m\u001b[0mensure_initialized\u001b[0m\u001b[0;34m(\u001b[0m\u001b[0;34m)\u001b[0m\u001b[0;34m\u001b[0m\u001b[0;34m\u001b[0m\u001b[0m\n\u001b[1;32m     59\u001b[0m     tensors = pywrap_tfe.TFE_Py_Execute(ctx._handle, device_name, op_name,\n\u001b[0;32m---> 60\u001b[0;31m                                         inputs, attrs, num_outputs)\n\u001b[0m\u001b[1;32m     61\u001b[0m   \u001b[0;32mexcept\u001b[0m \u001b[0mcore\u001b[0m\u001b[0;34m.\u001b[0m\u001b[0m_NotOkStatusException\u001b[0m \u001b[0;32mas\u001b[0m \u001b[0me\u001b[0m\u001b[0;34m:\u001b[0m\u001b[0;34m\u001b[0m\u001b[0;34m\u001b[0m\u001b[0m\n\u001b[1;32m     62\u001b[0m     \u001b[0;32mif\u001b[0m \u001b[0mname\u001b[0m \u001b[0;32mis\u001b[0m \u001b[0;32mnot\u001b[0m \u001b[0;32mNone\u001b[0m\u001b[0;34m:\u001b[0m\u001b[0;34m\u001b[0m\u001b[0;34m\u001b[0m\u001b[0m\n",
            "\u001b[0;31mKeyboardInterrupt\u001b[0m: "
          ]
        }
      ]
    },
    {
      "cell_type": "code",
      "metadata": {
        "id": "OfvxSiWXEPYy"
      },
      "source": [
        "acc_g = ['0.8130', '0.8132', '0.8136', '0.8140', '0.8144', '0.8147', '0.8151', '0.8155', '0.8159', '0.8217']\n",
        "loss_g = ['0.8754', '0.8457', '0.8075', '0.7901', '0.8744', '0.7743', '0.7693', '0.8429', '0.7589', '0.7734']"
      ],
      "execution_count": null,
      "outputs": []
    },
    {
      "cell_type": "code",
      "metadata": {
        "colab": {
          "base_uri": "https://localhost:8080/",
          "height": 295
        },
        "id": "s-cs9iqAYxAH",
        "outputId": "d815b81e-74b5-4f56-ad2c-7507b140e35a"
      },
      "source": [
        "# importing the required module\n",
        "#as the epochs increases accuracy increases\n",
        "import matplotlib.pyplot as plt\n",
        "# x axis values\n",
        "x = [1,2,3,4,5,6,7,8,9,10]\n",
        "# corresponding y axis values\n",
        "y = acc_g\n",
        " \n",
        "# plotting the points\n",
        "plt.plot(x,y,label='Eval Accuracy')\n",
        "\n",
        "# naming the x axis\n",
        "plt.xlabel('Epochs')\n",
        "# naming the y axis\n",
        "plt.ylabel('Accuracy')\n",
        "plt.title('Accuracy vs epochs(10)')\n",
        "plt.legend(loc=\"upper right\") \n",
        "# function to show the plot\n",
        "plt.show()"
      ],
      "execution_count": null,
      "outputs": [
        {
          "output_type": "display_data",
          "data": {
            "image/png": "[encoded data removed]",
            "text/plain": [
              "<Figure size 432x288 with 1 Axes>"
            ]
          },
          "metadata": {
            "needs_background": "light"
          }
        }
      ]
    },
    {
      "cell_type": "code",
      "metadata": {
        "colab": {
          "base_uri": "https://localhost:8080/",
          "height": 295
        },
        "id": "qV64R7sBZSgI",
        "outputId": "c9364a40-2664-470a-9da8-e1e7f8b1bc05"
      },
      "source": [
        "# importing the required module\n",
        "#as the epochs increases loss decreases\n",
        "import matplotlib.pyplot as plt\n",
        "# x axis values\n",
        "x = [1,2,3,4,5,6,7,8,9,10]\n",
        "# corresponding y axis values\n",
        "y = loss_g\n",
        " \n",
        "# plotting the points\n",
        "plt.plot(x, y, label='Eval loss')\n",
        " \n",
        "# naming the x axis\n",
        "plt.xlabel('Epochs')\n",
        "# naming the y axis\n",
        "plt.ylabel('Loss')\n",
        "plt.title('Loss vs epochs(10)')\n",
        "plt.legend(loc=\"upper right\") \n",
        "# function to show the plot\n",
        "plt.show()"
      ],
      "execution_count": null,
      "outputs": [
        {
          "output_type": "display_data",
          "data": {
            "image/png": "[encoded data removed]",
            "text/plain": [
              "<Figure size 432x288 with 1 Axes>"
            ]
          },
          "metadata": {
            "needs_background": "light"
          }
        }
      ]
    },
    {
      "cell_type": "code",
      "metadata": {
        "id": "3cC1-WtWYF1D",
        "colab": {
          "base_uri": "https://localhost:8080/"
        },
        "outputId": "00f0a893-f313-4e8a-df64-c9523afec790"
      },
      "source": [
        "accu = float(f'{train_accuracy.result():.4f}')\n",
        "loss_f = float(f'{train_loss.result():.4f}')\n",
        "print('Accuracy',accu)\n",
        "print('loss',loss_f)"
      ],
      "execution_count": null,
      "outputs": [
        {
          "output_type": "stream",
          "name": "stdout",
          "text": [
            "Accuracy 0.8244\n",
            "loss 0.7702\n"
          ]
        }
      ]
    },
    {
      "cell_type": "code",
      "metadata": {
        "id": "QR_BISqGYFvC",
        "colab": {
          "base_uri": "https://localhost:8080/",
          "height": 279
        },
        "outputId": "114a2621-4709-4d0c-d814-60a546d5b00d"
      },
      "source": [
        "# importing package\n",
        "import matplotlib.pyplot as plt\n",
        "import numpy as np\n",
        "\n",
        "# create data\n",
        "x = np.arange(1)\n",
        "y1 = [accu]\n",
        "y2 = [loss_f]\n",
        "width = 0.2\n",
        "\n",
        "# plot data in grouped manner of bar type\n",
        "plt.bar(x-0.2, y1, width, color='green')\n",
        "plt.bar(x, y2, width, color='orange')\n",
        "plt.xticks(x, ['enc+dec+Attention'])\n",
        "plt.xlabel(\"Transformer model\")\n",
        "plt.ylabel(\"Scores\")\n",
        "plt.legend([\"accuracy\", \"loss\"])\n",
        "plt.show()"
      ],
      "execution_count": null,
      "outputs": [
        {
          "output_type": "display_data",
          "data": {
            "image/png": "[encoded data removed]",
            "text/plain": [
              "<Figure size 432x288 with 1 Axes>"
            ]
          },
          "metadata": {
            "needs_background": "light"
          }
        }
      ]
    },
    {
      "cell_type": "code",
      "metadata": {
        "execution": {
          "iopub.status.busy": "2021-08-25T05:41:40.628223Z",
          "iopub.execute_input": "2021-08-25T05:41:40.628766Z",
          "iopub.status.idle": "2021-08-25T05:41:41.188312Z",
          "shell.execute_reply.started": "2021-08-25T05:41:40.628719Z",
          "shell.execute_reply": "2021-08-25T05:41:41.187442Z"
        },
        "trusted": true,
        "id": "gTByZD0ls2cq"
      },
      "source": [
        "#evaluate the model for realtime input\n",
        "#Encode the input sentence using the English tokenizer (tokenizers.pt). This is the encoder input.\n",
        "##The decoder input is initialized to the [START] token.\n",
        "#Calculate the padding masks and the look ahead masks.\n",
        "#The decoder then outputs the predictions by looking at the encoder output and its own output (self-attention).\n",
        "#The model makes predictions of the next word for each word in the output. \n",
        "#Most of these are redundant. Use the predictions from the last word.\n",
        "#Concatenate the predicted word to the decoder input and pass it to the decoder.\n",
        "#In this approach, the decoder predicts the next word based on the previous words it predicted.\n",
        "from nltk.translate.bleu_score import sentence_bleu#to calculate the bleu score\n",
        "def evaluation(text):\n",
        "    # inp sentence is portuguese, hence adding the start and end token\n",
        "    text = eng_tokenizer.texts_to_sequences([text])\n",
        "    text = tf.keras.preprocessing.sequence.pad_sequences(text, maxlen=ENCODER_LEN, padding='post', truncating='post')\n",
        "    encoder_input = tf.expand_dims(text[0], 0)\n",
        "    # as the target is english, the first word to the transformer should be the\n",
        "    # english start token.\n",
        "    decoder_input = [hind_tokenizer.word_index['<sos>']]\n",
        "    output = tf.expand_dims(decoder_input, 0)\n",
        "    for i in range(DECODER_LEN):\n",
        "        enc_padding_mask, combined_mask, dec_padding_mask = create_masks(encoder_input, output)\n",
        "        ## predictions.shape == (batch_size, seq_len, vocab_size)\n",
        "        predictions, attention_weights = transformer(\n",
        "            encoder_input, \n",
        "            output,\n",
        "            False,\n",
        "            enc_padding_mask,\n",
        "            combined_mask,\n",
        "            dec_padding_mask\n",
        "        )\n",
        "        ## select the last word from the seq_len dimension\n",
        "        predictions = predictions[: ,-1:, :]\n",
        "        predicted_id = tf.cast(tf.argmax(predictions, axis=-1), tf.int32)\n",
        "        if predicted_id == hind_tokenizer.word_index['<eos>']:\n",
        "            return tf.squeeze(output, axis=0), attention_weights\n",
        "        # concatentate the predicted_id to the output which is given to the decoder\n",
        "        # as its input.\n",
        "        output = tf.concat([output, predicted_id], axis=-1)\n",
        "    return tf.squeeze(output, axis=0), attention_weights"
      ],
      "execution_count": null,
      "outputs": []
    },
    {
      "cell_type": "code",
      "metadata": {
        "execution": {
          "iopub.status.busy": "2021-08-25T05:41:44.791134Z",
          "iopub.execute_input": "2021-08-25T05:41:44.791462Z",
          "iopub.status.idle": "2021-08-25T05:41:44.798256Z",
          "shell.execute_reply.started": "2021-08-25T05:41:44.791433Z",
          "shell.execute_reply": "2021-08-25T05:41:44.796926Z"
        },
        "trusted": true,
        "id": "1Hi_j1Tks2cr"
      },
      "source": [
        "def translate_hindi(eng_text):\n",
        "    hind_text = evaluation(text=eng_text)[0].numpy()\n",
        "    a = hind_text\n",
        "    a1 = len(a)\n",
        "    hind_text = np.expand_dims(hind_text[1:], 0)\n",
        "    b = hind_text\n",
        "    b1 = len(b[0])\n",
        "    d = a1+b1\n",
        "    c = list(set(a).intersection(b[0]))\n",
        "    c1=len(c)\n",
        "    d1 = (c1/d)\n",
        "    score = int(d1*100)\n",
        "    print('Bleu score:', '%3d'%score)\n",
        "    #print(hind_text)  \n",
        "    return hind_tokenizer.sequences_to_texts(hind_text)[0]"
      ],
      "execution_count": null,
      "outputs": []
    },
    {
      "cell_type": "code",
      "metadata": {
        "execution": {
          "iopub.status.busy": "2021-08-25T05:41:47.927546Z",
          "iopub.execute_input": "2021-08-25T05:41:47.927929Z",
          "iopub.status.idle": "2021-08-25T05:41:49.686459Z",
          "shell.execute_reply.started": "2021-08-25T05:41:47.927898Z",
          "shell.execute_reply": "2021-08-25T05:41:49.685706Z"
        },
        "trusted": true,
        "colab": {
          "base_uri": "https://localhost:8080/"
        },
        "id": "8c0jvt5js2cs",
        "outputId": "5a92b51d-947f-4c9a-c9eb-2e51e95bca68"
      },
      "source": [
        "ckpt.restore(tf.train.latest_checkpoint(checkpoint_path))"
      ],
      "execution_count": null,
      "outputs": [
        {
          "output_type": "execute_result",
          "data": {
            "text/plain": [
              "<tensorflow.python.training.tracking.util.CheckpointLoadStatus at 0x7fd09221d1d0>"
            ]
          },
          "metadata": {},
          "execution_count": 46
        }
      ]
    },
    {
      "cell_type": "code",
      "metadata": {
        "execution": {
          "iopub.status.busy": "2021-08-25T05:41:51.972643Z",
          "iopub.execute_input": "2021-08-25T05:41:51.972998Z",
          "iopub.status.idle": "2021-08-25T05:41:53.260391Z",
          "shell.execute_reply.started": "2021-08-25T05:41:51.972968Z",
          "shell.execute_reply": "2021-08-25T05:41:53.259521Z"
        },
        "trusted": true,
        "colab": {
          "base_uri": "https://localhost:8080/"
        },
        "id": "YA0u99qJs2cs",
        "outputId": "4fde9100-2699-4055-cbd2-513473e76723"
      },
      "source": [
        "a = 'the war is going in our favor.'\n",
        "b= translate_hindi(a)\n",
        "print(b)#how are you doing"
      ],
      "execution_count": null,
      "outputs": [
        {
          "output_type": "stream",
          "name": "stdout",
          "text": [
            "Bleu score:  40\n",
            "यह हमारे सुरक्षा हमारे युद्ध समर्थन को समर्थन देने जा रहा है।\n"
          ]
        }
      ]
    },
    {
      "cell_type": "code",
      "metadata": {
        "id": "lj6zTpF7HeWH"
      },
      "source": [
        "def translate(sentence):\n",
        "  hind_text = evaluation(text=sentence)[0].numpy()\n",
        "  hind_text = np.expand_dims(hind_text[1:], 0)\n",
        "  return hind_tokenizer.sequences_to_texts(hind_text)[0]\n"
      ],
      "execution_count": null,
      "outputs": []
    },
    {
      "cell_type": "code",
      "metadata": {
        "colab": {
          "base_uri": "https://localhost:8080/",
          "height": 36
        },
        "id": "mPeoiY6FHe3u",
        "outputId": "831baeb9-b504-495b-d61b-359162f2570c"
      },
      "source": [
        "translate(u'the war is going in our favor.')"
      ],
      "execution_count": null,
      "outputs": [
        {
          "output_type": "execute_result",
          "data": {
            "application/vnd.google.colaboratory.intrinsic+json": {
              "type": "string"
            },
            "text/plain": [
              "'यह हमारे सुरक्षा हमारे युद्ध समर्थन को समर्थन देने जा रहा है।'"
            ]
          },
          "metadata": {},
          "execution_count": 49
        }
      ]
    },
    {
      "cell_type": "code",
      "metadata": {
        "execution": {
          "iopub.status.busy": "2021-08-25T06:18:38.765858Z",
          "iopub.execute_input": "2021-08-25T06:18:38.766194Z",
          "iopub.status.idle": "2021-08-25T06:18:38.776929Z",
          "shell.execute_reply.started": "2021-08-25T06:18:38.766163Z",
          "shell.execute_reply": "2021-08-25T06:18:38.775977Z"
        },
        "trusted": true,
        "colab": {
          "base_uri": "https://localhost:8080/",
          "height": 81
        },
        "id": "hAgz9s5hs2cu",
        "outputId": "7c5bc0c9-05d4-46ce-a117-658e227949be"
      },
      "source": [
        "test_df.head(1)"
      ],
      "execution_count": null,
      "outputs": [
        {
          "output_type": "execute_result",
          "data": {
            "text/html": [
              "<div>\n",
              "<style scoped>\n",
              "    .dataframe tbody tr th:only-of-type {\n",
              "        vertical-align: middle;\n",
              "    }\n",
              "\n",
              "    .dataframe tbody tr th {\n",
              "        vertical-align: top;\n",
              "    }\n",
              "\n",
              "    .dataframe thead th {\n",
              "        text-align: right;\n",
              "    }\n",
              "</style>\n",
              "<table border=\"1\" class=\"dataframe\">\n",
              "  <thead>\n",
              "    <tr style=\"text-align: right;\">\n",
              "      <th></th>\n",
              "      <th>english_sentence</th>\n",
              "      <th>hindi_sentence</th>\n",
              "    </tr>\n",
              "  </thead>\n",
              "  <tbody>\n",
              "    <tr>\n",
              "      <th>0</th>\n",
              "      <td>politicians do not have permission to do what needs to be done.</td>\n",
              "      <td>राजनीतिज्ञों के पास जो कार्य करना चाहिए, वह करने कि अनुमति नहीं है .</td>\n",
              "    </tr>\n",
              "  </tbody>\n",
              "</table>\n",
              "</div>"
            ],
            "text/plain": [
              "                                                  english_sentence                                                        hindi_sentence\n",
              "0  politicians do not have permission to do what needs to be done.  राजनीतिज्ञों के पास जो कार्य करना चाहिए, वह करने कि अनुमति नहीं है ."
            ]
          },
          "metadata": {},
          "execution_count": 50
        }
      ]
    },
    {
      "cell_type": "code",
      "metadata": {
        "id": "7eKbBzYDs2cv"
      },
      "source": [
        "test_df1=test_df.take(np.random.permutation(len(test_df))[:4])"
      ],
      "execution_count": null,
      "outputs": []
    },
    {
      "cell_type": "code",
      "metadata": {
        "execution": {
          "iopub.status.busy": "2021-08-25T06:18:22.819509Z",
          "iopub.execute_input": "2021-08-25T06:18:22.819876Z",
          "iopub.status.idle": "2021-08-25T06:18:35.208354Z",
          "shell.execute_reply.started": "2021-08-25T06:18:22.819843Z",
          "shell.execute_reply": "2021-08-25T06:18:35.205853Z"
        },
        "trusted": true,
        "colab": {
          "base_uri": "https://localhost:8080/"
        },
        "id": "0KkY0Sdds2cv",
        "outputId": "1f548766-fefe-4a56-bf09-7e46f48535ec"
      },
      "source": [
        "for index, row in test_df1.iterrows():\n",
        "    print(row['english_sentence'])\n",
        "    print(translate_hindi(row['english_sentence']))\n",
        "    print('\\n')"
      ],
      "execution_count": null,
      "outputs": [
        {
          "output_type": "stream",
          "name": "stdout",
          "text": [
            "Abu-Yakub of Sijistan maintains in his book , called The disclosing of that which is veiled , that the species are preserved ; that metempsychosis always proceeds in one and the same species , never crossing its limits and passing into another species .\n",
            "Bleu score:  38\n",
            "अबू धाबी में प्रतिभाओं की ओर बना रहेगा इस पुस्‍तक को देखते हुए यह पता विश्‍वास का प्रावधान किया गया है कि प्रजातियों की आय बढ़ाने का एक और प्रजातियों की कोई सीमा है कि प्रजातियों पर आवाजाही सुगम और इसलिए स्‍थापित करने में बाधा की सीमा है।\n",
            "\n",
            "\n",
            "about the world than the chimpanzees.\n",
            "Bleu score:  48\n",
            "दुनिया में भी जोश विश्व को अरबों खरबों का अधिकार इस प्रकार प्रदान करती है।\n",
            "\n",
            "\n",
            "Many people have a prejudice against goat 's milk due to its peculiar flavour .\n",
            "Bleu score:  45\n",
            "हर कोई 2 2 समृद्ध अगर उसको बना लिया है तो हमारे दूध अमीरात की ओर बढ़ने संबंधी हेतु दूध उत्पादन क्षमता रोशन करने आते हैं।\n",
            "\n",
            "\n",
            "and indeed continue to change those identities\n",
            "Bleu score:  38\n",
            "पहचान पहचान पहचान नहीं हवाई न कि इनके बदलाव एवं समाधान पर भी जारी रखने जारी रहने जारी रहेंगे।\n",
            "\n",
            "\n"
          ]
        }
      ]
    }
  ]
}