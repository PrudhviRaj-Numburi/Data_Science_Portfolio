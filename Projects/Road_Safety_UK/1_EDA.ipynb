{
 "cells": [
  {
   "cell_type": "markdown",
   "metadata": {},
   "source": [
    "# Road Safety Data for the UK\n",
    "\n",
    "#### The Data\n",
    "The [files](https://data.gov.uk/dataset/cb7ae6f0-4be6-4935-9277-47e5ce24a11f/road-safety-data) provide detailed road safety data about the circumstances of personal injury road accidents in GB, the types (including Make and Model) of vehicles involved and the consequential casualties. The statistics relate only to personal injury accidents on public roads that are reported to the police. \n",
    "\n",
    "#### The Task\n",
    "The purpose of the analysis is \n",
    "- To summarize the main characteristics of the data, and obtain interesting facts that are worth highlighting.\n",
    "- Identity and quantify associations (if any) between the number of causalities (in the Accidents table) and other variables in the data set.\n",
    "- Explore whether it is possible to predict accident hotspots based on the data."
   ]
  },
  {
   "cell_type": "markdown",
   "metadata": {},
   "source": [
    "# Table of Contents\n",
    "<a id='Table of Contents'></a>\n",
    "\n",
    "### <a href='#1. Obtaining and Viewing the Data'>1. Obtaining and Viewing the Data</a>\n",
    "\n",
    "### <a href='#2. Preprocessing the Data'>2. Preprocessing the Data</a>\n",
    "\n",
    "* <a href='#2.1. Converting Datetime Column'>2.1. Converting Datetime Column</a>\n",
    "* <a href='#2.2. Handling Missing Values'>2.2. Handling Missing Values</a>\n",
    "\n",
    "### <a href='#3. Exploratory Data Analysis (EDA)'>3. Exploratory Data Analysis (EDA)</a>\n",
    "\n",
    "* <a href='#3.1. Main Characteristics of Accidents'>3.1. Main Characteristics of Accidents</a>\n",
    "* <a href='#3.2. Main Characteristics of Casualties'>3.2. Main Characteristics of Casualties</a>\n",
    "* <a href='#3.3. Main Characteristics of Vehicles'>3.3. Main Characteristics of Vehicles</a>"
   ]
  },
  {
   "cell_type": "markdown",
   "metadata": {},
   "source": [
    "### 1. Obtaining and Viewing the Data\n",
    "<a id='1. Obtaining and Viewing the Data'></a>"
   ]
  },
  {
   "cell_type": "code",
   "execution_count": 1,
   "metadata": {},
   "outputs": [
    {
     "name": "stdout",
     "output_type": "stream",
     "text": [
      "Requirement already satisfied: squarify in c:\\users\\prudhvi\\anaconda3\\lib\\site-packages (0.4.3)\n",
      "Note: you may need to restart the kernel to use updated packages.\n"
     ]
    }
   ],
   "source": [
    "pip install squarify"
   ]
  },
  {
   "cell_type": "code",
   "execution_count": 2,
   "metadata": {},
   "outputs": [],
   "source": [
    "# import the usual suspects ...\n",
    "import pandas as pd\n",
    "import numpy as np\n",
    "import glob\n",
    "\n",
    "import matplotlib.pyplot as plt\n",
    "import seaborn as sns\n",
    "\n",
    "# suppress all warnings\n",
    "import warnings\n",
    "warnings.filterwarnings(\"ignore\")"
   ]
  },
  {
   "cell_type": "markdown",
   "metadata": {},
   "source": [
    "**Accidents**"
   ]
  },
  {
   "cell_type": "markdown",
   "metadata": {},
   "source": [
    "We had our `Date` column with values not properly stored in the correct format. Let's do this when importing data:"
   ]
  },
  {
   "cell_type": "code",
   "execution_count": 3,
   "metadata": {},
   "outputs": [
    {
     "name": "stdout",
     "output_type": "stream",
     "text": [
      "Records: 117536 \n",
      "Columns: 32\n"
     ]
    },
    {
     "data": {
      "text/html": [
       "<div>\n",
       "<style scoped>\n",
       "    .dataframe tbody tr th:only-of-type {\n",
       "        vertical-align: middle;\n",
       "    }\n",
       "\n",
       "    .dataframe tbody tr th {\n",
       "        vertical-align: top;\n",
       "    }\n",
       "\n",
       "    .dataframe thead th {\n",
       "        text-align: right;\n",
       "    }\n",
       "</style>\n",
       "<table border=\"1\" class=\"dataframe\">\n",
       "  <thead>\n",
       "    <tr style=\"text-align: right;\">\n",
       "      <th></th>\n",
       "      <th>Accident_Index</th>\n",
       "      <th>Location_Easting_OSGR</th>\n",
       "      <th>Location_Northing_OSGR</th>\n",
       "      <th>Longitude</th>\n",
       "      <th>Latitude</th>\n",
       "      <th>Police_Force</th>\n",
       "      <th>Accident_Severity</th>\n",
       "      <th>Number_of_Vehicles</th>\n",
       "      <th>Number_of_Casualties</th>\n",
       "      <th>Date</th>\n",
       "      <th>...</th>\n",
       "      <th>Pedestrian_Crossing-Human_Control</th>\n",
       "      <th>Pedestrian_Crossing-Physical_Facilities</th>\n",
       "      <th>Light_Conditions</th>\n",
       "      <th>Weather_Conditions</th>\n",
       "      <th>Road_Surface_Conditions</th>\n",
       "      <th>Special_Conditions_at_Site</th>\n",
       "      <th>Carriageway_Hazards</th>\n",
       "      <th>Urban_or_Rural_Area</th>\n",
       "      <th>Did_Police_Officer_Attend_Scene_of_Accident</th>\n",
       "      <th>LSOA_of_Accident_Location</th>\n",
       "    </tr>\n",
       "  </thead>\n",
       "  <tbody>\n",
       "    <tr>\n",
       "      <th>0</th>\n",
       "      <td>2019010128300</td>\n",
       "      <td>528218.0</td>\n",
       "      <td>180407.0</td>\n",
       "      <td>-0.153842</td>\n",
       "      <td>51.508057</td>\n",
       "      <td>1</td>\n",
       "      <td>3</td>\n",
       "      <td>2</td>\n",
       "      <td>3</td>\n",
       "      <td>2019-02-18</td>\n",
       "      <td>...</td>\n",
       "      <td>0</td>\n",
       "      <td>5</td>\n",
       "      <td>1</td>\n",
       "      <td>1</td>\n",
       "      <td>1</td>\n",
       "      <td>0</td>\n",
       "      <td>0</td>\n",
       "      <td>1</td>\n",
       "      <td>3</td>\n",
       "      <td>E01004762</td>\n",
       "    </tr>\n",
       "    <tr>\n",
       "      <th>1</th>\n",
       "      <td>2019010152270</td>\n",
       "      <td>530219.0</td>\n",
       "      <td>172463.0</td>\n",
       "      <td>-0.127949</td>\n",
       "      <td>51.436208</td>\n",
       "      <td>1</td>\n",
       "      <td>3</td>\n",
       "      <td>2</td>\n",
       "      <td>1</td>\n",
       "      <td>2019-01-15</td>\n",
       "      <td>...</td>\n",
       "      <td>9</td>\n",
       "      <td>9</td>\n",
       "      <td>4</td>\n",
       "      <td>1</td>\n",
       "      <td>1</td>\n",
       "      <td>0</td>\n",
       "      <td>0</td>\n",
       "      <td>1</td>\n",
       "      <td>3</td>\n",
       "      <td>E01003117</td>\n",
       "    </tr>\n",
       "    <tr>\n",
       "      <th>2</th>\n",
       "      <td>2019010155191</td>\n",
       "      <td>530222.0</td>\n",
       "      <td>182543.0</td>\n",
       "      <td>-0.124193</td>\n",
       "      <td>51.526795</td>\n",
       "      <td>1</td>\n",
       "      <td>3</td>\n",
       "      <td>2</td>\n",
       "      <td>1</td>\n",
       "      <td>2019-01-01</td>\n",
       "      <td>...</td>\n",
       "      <td>0</td>\n",
       "      <td>0</td>\n",
       "      <td>4</td>\n",
       "      <td>1</td>\n",
       "      <td>1</td>\n",
       "      <td>0</td>\n",
       "      <td>0</td>\n",
       "      <td>1</td>\n",
       "      <td>1</td>\n",
       "      <td>E01000943</td>\n",
       "    </tr>\n",
       "    <tr>\n",
       "      <th>3</th>\n",
       "      <td>2019010155192</td>\n",
       "      <td>525531.0</td>\n",
       "      <td>184605.0</td>\n",
       "      <td>-0.191044</td>\n",
       "      <td>51.546387</td>\n",
       "      <td>1</td>\n",
       "      <td>2</td>\n",
       "      <td>1</td>\n",
       "      <td>1</td>\n",
       "      <td>2019-01-01</td>\n",
       "      <td>...</td>\n",
       "      <td>0</td>\n",
       "      <td>0</td>\n",
       "      <td>4</td>\n",
       "      <td>1</td>\n",
       "      <td>1</td>\n",
       "      <td>0</td>\n",
       "      <td>0</td>\n",
       "      <td>1</td>\n",
       "      <td>1</td>\n",
       "      <td>E01000973</td>\n",
       "    </tr>\n",
       "    <tr>\n",
       "      <th>4</th>\n",
       "      <td>2019010155194</td>\n",
       "      <td>524920.0</td>\n",
       "      <td>184004.0</td>\n",
       "      <td>-0.200064</td>\n",
       "      <td>51.541121</td>\n",
       "      <td>1</td>\n",
       "      <td>3</td>\n",
       "      <td>2</td>\n",
       "      <td>2</td>\n",
       "      <td>2019-01-01</td>\n",
       "      <td>...</td>\n",
       "      <td>0</td>\n",
       "      <td>0</td>\n",
       "      <td>4</td>\n",
       "      <td>1</td>\n",
       "      <td>1</td>\n",
       "      <td>0</td>\n",
       "      <td>0</td>\n",
       "      <td>1</td>\n",
       "      <td>1</td>\n",
       "      <td>E01000546</td>\n",
       "    </tr>\n",
       "  </tbody>\n",
       "</table>\n",
       "<p>5 rows × 32 columns</p>\n",
       "</div>"
      ],
      "text/plain": [
       "  Accident_Index  Location_Easting_OSGR  Location_Northing_OSGR  Longitude  \\\n",
       "0  2019010128300               528218.0                180407.0  -0.153842   \n",
       "1  2019010152270               530219.0                172463.0  -0.127949   \n",
       "2  2019010155191               530222.0                182543.0  -0.124193   \n",
       "3  2019010155192               525531.0                184605.0  -0.191044   \n",
       "4  2019010155194               524920.0                184004.0  -0.200064   \n",
       "\n",
       "    Latitude  Police_Force  Accident_Severity  Number_of_Vehicles  \\\n",
       "0  51.508057             1                  3                   2   \n",
       "1  51.436208             1                  3                   2   \n",
       "2  51.526795             1                  3                   2   \n",
       "3  51.546387             1                  2                   1   \n",
       "4  51.541121             1                  3                   2   \n",
       "\n",
       "   Number_of_Casualties       Date  ...  Pedestrian_Crossing-Human_Control  \\\n",
       "0                     3 2019-02-18  ...                                  0   \n",
       "1                     1 2019-01-15  ...                                  9   \n",
       "2                     1 2019-01-01  ...                                  0   \n",
       "3                     1 2019-01-01  ...                                  0   \n",
       "4                     2 2019-01-01  ...                                  0   \n",
       "\n",
       "  Pedestrian_Crossing-Physical_Facilities  Light_Conditions  \\\n",
       "0                                       5                 1   \n",
       "1                                       9                 4   \n",
       "2                                       0                 4   \n",
       "3                                       0                 4   \n",
       "4                                       0                 4   \n",
       "\n",
       "  Weather_Conditions  Road_Surface_Conditions  Special_Conditions_at_Site  \\\n",
       "0                  1                        1                           0   \n",
       "1                  1                        1                           0   \n",
       "2                  1                        1                           0   \n",
       "3                  1                        1                           0   \n",
       "4                  1                        1                           0   \n",
       "\n",
       "   Carriageway_Hazards  Urban_or_Rural_Area  \\\n",
       "0                    0                    1   \n",
       "1                    0                    1   \n",
       "2                    0                    1   \n",
       "3                    0                    1   \n",
       "4                    0                    1   \n",
       "\n",
       "   Did_Police_Officer_Attend_Scene_of_Accident  LSOA_of_Accident_Location  \n",
       "0                                            3                  E01004762  \n",
       "1                                            3                  E01003117  \n",
       "2                                            1                  E01000943  \n",
       "3                                            1                  E01000973  \n",
       "4                                            1                  E01000546  \n",
       "\n",
       "[5 rows x 32 columns]"
      ]
     },
     "execution_count": 3,
     "metadata": {},
     "output_type": "execute_result"
    }
   ],
   "source": [
    "accidents = pd.read_csv('dft-road-casualty-statistics-accident-20199.csv',parse_dates=['Date'])\n",
    "print('Records:', accidents.shape[0], '\\nColumns:', accidents.shape[1])\n",
    "accidents.head()"
   ]
  },
  {
   "cell_type": "code",
   "execution_count": 4,
   "metadata": {},
   "outputs": [
    {
     "data": {
      "text/plain": [
       "Index(['Accident_Index', 'Location_Easting_OSGR', 'Location_Northing_OSGR',\n",
       "       'Longitude', 'Latitude', 'Police_Force', 'Accident_Severity',\n",
       "       'Number_of_Vehicles', 'Number_of_Casualties', 'Date', 'Day_of_Week',\n",
       "       'Time', 'Local_Authority_(District)', 'Local_Authority_(Highway)',\n",
       "       '1st_Road_Class', '1st_Road_Number', 'Road_Type', 'Speed_limit',\n",
       "       'Junction_Detail', 'Junction_Control', '2nd_Road_Class',\n",
       "       '2nd_Road_Number', 'Pedestrian_Crossing-Human_Control',\n",
       "       'Pedestrian_Crossing-Physical_Facilities', 'Light_Conditions',\n",
       "       'Weather_Conditions', 'Road_Surface_Conditions',\n",
       "       'Special_Conditions_at_Site', 'Carriageway_Hazards',\n",
       "       'Urban_or_Rural_Area', 'Did_Police_Officer_Attend_Scene_of_Accident',\n",
       "       'LSOA_of_Accident_Location'],\n",
       "      dtype='object')"
      ]
     },
     "execution_count": 4,
     "metadata": {},
     "output_type": "execute_result"
    }
   ],
   "source": [
    "accidents.columns"
   ]
  },
  {
   "cell_type": "code",
   "execution_count": 5,
   "metadata": {},
   "outputs": [],
   "source": [
    "#accidents.info()"
   ]
  },
  {
   "cell_type": "code",
   "execution_count": 6,
   "metadata": {},
   "outputs": [],
   "source": [
    "#accidents.isnull().sum()"
   ]
  },
  {
   "cell_type": "markdown",
   "metadata": {},
   "source": [
    "The accidents table contains almost 120,000 records and 32 columns, with only very few missing values. If we decided to work with date and/or time, we will need to convert the string values into datetime format. Besides that, almost all data is properly stored as numeric data."
   ]
  },
  {
   "cell_type": "markdown",
   "metadata": {},
   "source": [
    "**Casualties**"
   ]
  },
  {
   "cell_type": "code",
   "execution_count": 7,
   "metadata": {
    "scrolled": true
   },
   "outputs": [
    {
     "name": "stdout",
     "output_type": "stream",
     "text": [
      "Records: 153158 \n",
      "Columns: 18\n"
     ]
    },
    {
     "data": {
      "text/html": [
       "<div>\n",
       "<style scoped>\n",
       "    .dataframe tbody tr th:only-of-type {\n",
       "        vertical-align: middle;\n",
       "    }\n",
       "\n",
       "    .dataframe tbody tr th {\n",
       "        vertical-align: top;\n",
       "    }\n",
       "\n",
       "    .dataframe thead th {\n",
       "        text-align: right;\n",
       "    }\n",
       "</style>\n",
       "<table border=\"1\" class=\"dataframe\">\n",
       "  <thead>\n",
       "    <tr style=\"text-align: right;\">\n",
       "      <th></th>\n",
       "      <th>accident_index</th>\n",
       "      <th>accident_year</th>\n",
       "      <th>accident_reference</th>\n",
       "      <th>vehicle_reference</th>\n",
       "      <th>casualty_reference</th>\n",
       "      <th>casualty_class</th>\n",
       "      <th>sex_of_casualty</th>\n",
       "      <th>age_of_casualty</th>\n",
       "      <th>age_band_of_casualty</th>\n",
       "      <th>casualty_severity</th>\n",
       "      <th>pedestrian_location</th>\n",
       "      <th>pedestrian_movement</th>\n",
       "      <th>car_passenger</th>\n",
       "      <th>bus_or_coach_passenger</th>\n",
       "      <th>pedestrian_road_maintenance_worker</th>\n",
       "      <th>casualty_type</th>\n",
       "      <th>casualty_home_area_type</th>\n",
       "      <th>casualty_imd_decile</th>\n",
       "    </tr>\n",
       "  </thead>\n",
       "  <tbody>\n",
       "    <tr>\n",
       "      <th>0</th>\n",
       "      <td>2019010128300</td>\n",
       "      <td>2019</td>\n",
       "      <td>10128300</td>\n",
       "      <td>1</td>\n",
       "      <td>1</td>\n",
       "      <td>1</td>\n",
       "      <td>1</td>\n",
       "      <td>58</td>\n",
       "      <td>9</td>\n",
       "      <td>3</td>\n",
       "      <td>0</td>\n",
       "      <td>0</td>\n",
       "      <td>0</td>\n",
       "      <td>0</td>\n",
       "      <td>0</td>\n",
       "      <td>9</td>\n",
       "      <td>1</td>\n",
       "      <td>2</td>\n",
       "    </tr>\n",
       "    <tr>\n",
       "      <th>1</th>\n",
       "      <td>2019010128300</td>\n",
       "      <td>2019</td>\n",
       "      <td>10128300</td>\n",
       "      <td>1</td>\n",
       "      <td>2</td>\n",
       "      <td>2</td>\n",
       "      <td>2</td>\n",
       "      <td>-1</td>\n",
       "      <td>-1</td>\n",
       "      <td>3</td>\n",
       "      <td>0</td>\n",
       "      <td>0</td>\n",
       "      <td>1</td>\n",
       "      <td>0</td>\n",
       "      <td>0</td>\n",
       "      <td>9</td>\n",
       "      <td>1</td>\n",
       "      <td>5</td>\n",
       "    </tr>\n",
       "    <tr>\n",
       "      <th>2</th>\n",
       "      <td>2019010128300</td>\n",
       "      <td>2019</td>\n",
       "      <td>10128300</td>\n",
       "      <td>1</td>\n",
       "      <td>3</td>\n",
       "      <td>2</td>\n",
       "      <td>2</td>\n",
       "      <td>-1</td>\n",
       "      <td>-1</td>\n",
       "      <td>3</td>\n",
       "      <td>0</td>\n",
       "      <td>0</td>\n",
       "      <td>2</td>\n",
       "      <td>0</td>\n",
       "      <td>0</td>\n",
       "      <td>9</td>\n",
       "      <td>1</td>\n",
       "      <td>5</td>\n",
       "    </tr>\n",
       "    <tr>\n",
       "      <th>3</th>\n",
       "      <td>2019010152270</td>\n",
       "      <td>2019</td>\n",
       "      <td>10152270</td>\n",
       "      <td>1</td>\n",
       "      <td>1</td>\n",
       "      <td>1</td>\n",
       "      <td>2</td>\n",
       "      <td>24</td>\n",
       "      <td>5</td>\n",
       "      <td>3</td>\n",
       "      <td>0</td>\n",
       "      <td>0</td>\n",
       "      <td>0</td>\n",
       "      <td>0</td>\n",
       "      <td>0</td>\n",
       "      <td>9</td>\n",
       "      <td>1</td>\n",
       "      <td>3</td>\n",
       "    </tr>\n",
       "    <tr>\n",
       "      <th>4</th>\n",
       "      <td>2019010155191</td>\n",
       "      <td>2019</td>\n",
       "      <td>10155191</td>\n",
       "      <td>2</td>\n",
       "      <td>1</td>\n",
       "      <td>2</td>\n",
       "      <td>2</td>\n",
       "      <td>21</td>\n",
       "      <td>5</td>\n",
       "      <td>3</td>\n",
       "      <td>0</td>\n",
       "      <td>0</td>\n",
       "      <td>0</td>\n",
       "      <td>0</td>\n",
       "      <td>0</td>\n",
       "      <td>1</td>\n",
       "      <td>1</td>\n",
       "      <td>1</td>\n",
       "    </tr>\n",
       "  </tbody>\n",
       "</table>\n",
       "</div>"
      ],
      "text/plain": [
       "  accident_index  accident_year accident_reference  vehicle_reference  \\\n",
       "0  2019010128300           2019           10128300                  1   \n",
       "1  2019010128300           2019           10128300                  1   \n",
       "2  2019010128300           2019           10128300                  1   \n",
       "3  2019010152270           2019           10152270                  1   \n",
       "4  2019010155191           2019           10155191                  2   \n",
       "\n",
       "   casualty_reference  casualty_class  sex_of_casualty  age_of_casualty  \\\n",
       "0                   1               1                1               58   \n",
       "1                   2               2                2               -1   \n",
       "2                   3               2                2               -1   \n",
       "3                   1               1                2               24   \n",
       "4                   1               2                2               21   \n",
       "\n",
       "   age_band_of_casualty  casualty_severity  pedestrian_location  \\\n",
       "0                     9                  3                    0   \n",
       "1                    -1                  3                    0   \n",
       "2                    -1                  3                    0   \n",
       "3                     5                  3                    0   \n",
       "4                     5                  3                    0   \n",
       "\n",
       "   pedestrian_movement  car_passenger  bus_or_coach_passenger  \\\n",
       "0                    0              0                       0   \n",
       "1                    0              1                       0   \n",
       "2                    0              2                       0   \n",
       "3                    0              0                       0   \n",
       "4                    0              0                       0   \n",
       "\n",
       "   pedestrian_road_maintenance_worker  casualty_type  casualty_home_area_type  \\\n",
       "0                                   0              9                        1   \n",
       "1                                   0              9                        1   \n",
       "2                                   0              9                        1   \n",
       "3                                   0              9                        1   \n",
       "4                                   0              1                        1   \n",
       "\n",
       "   casualty_imd_decile  \n",
       "0                    2  \n",
       "1                    5  \n",
       "2                    5  \n",
       "3                    3  \n",
       "4                    1  "
      ]
     },
     "execution_count": 7,
     "metadata": {},
     "output_type": "execute_result"
    }
   ],
   "source": [
    "casualties = pd.read_csv('dft-road-casualty-statistics-casualty-2019.csv')\n",
    "print('Records:', casualties.shape[0], '\\nColumns:', casualties.shape[1])\n",
    "casualties.head()"
   ]
  },
  {
   "cell_type": "code",
   "execution_count": 8,
   "metadata": {},
   "outputs": [],
   "source": [
    "#casualties.info()"
   ]
  },
  {
   "cell_type": "code",
   "execution_count": 9,
   "metadata": {},
   "outputs": [],
   "source": [
    "#casualties.isnull().sum()"
   ]
  },
  {
   "cell_type": "markdown",
   "metadata": {},
   "source": [
    "The casualties table has roughly 150,000 with 18 columns providing detailed information about the casualties. Apart from the index, all data is stored in a numeric format."
   ]
  },
  {
   "cell_type": "markdown",
   "metadata": {},
   "source": [
    "**Vehicles**"
   ]
  },
  {
   "cell_type": "code",
   "execution_count": 10,
   "metadata": {},
   "outputs": [
    {
     "name": "stdout",
     "output_type": "stream",
     "text": [
      "Records: 216381 \n",
      "Columns: 27\n"
     ]
    },
    {
     "data": {
      "text/html": [
       "<div>\n",
       "<style scoped>\n",
       "    .dataframe tbody tr th:only-of-type {\n",
       "        vertical-align: middle;\n",
       "    }\n",
       "\n",
       "    .dataframe tbody tr th {\n",
       "        vertical-align: top;\n",
       "    }\n",
       "\n",
       "    .dataframe thead th {\n",
       "        text-align: right;\n",
       "    }\n",
       "</style>\n",
       "<table border=\"1\" class=\"dataframe\">\n",
       "  <thead>\n",
       "    <tr style=\"text-align: right;\">\n",
       "      <th></th>\n",
       "      <th>accident_index</th>\n",
       "      <th>accident_year</th>\n",
       "      <th>accident_reference</th>\n",
       "      <th>vehicle_reference</th>\n",
       "      <th>vehicle_type</th>\n",
       "      <th>towing_and_articulation</th>\n",
       "      <th>vehicle_manoeuvre</th>\n",
       "      <th>vehicle_direction_from</th>\n",
       "      <th>vehicle_direction_to</th>\n",
       "      <th>vehicle_location_restricted_lane</th>\n",
       "      <th>...</th>\n",
       "      <th>journey_purpose_of_driver</th>\n",
       "      <th>sex_of_driver</th>\n",
       "      <th>age_of_driver</th>\n",
       "      <th>age_band_of_driver</th>\n",
       "      <th>engine_capacity_cc</th>\n",
       "      <th>propulsion_code</th>\n",
       "      <th>age_of_vehicle</th>\n",
       "      <th>generic_make_model</th>\n",
       "      <th>driver_imd_decile</th>\n",
       "      <th>driver_home_area_type</th>\n",
       "    </tr>\n",
       "  </thead>\n",
       "  <tbody>\n",
       "    <tr>\n",
       "      <th>0</th>\n",
       "      <td>2019010128300</td>\n",
       "      <td>2019</td>\n",
       "      <td>10128300</td>\n",
       "      <td>1</td>\n",
       "      <td>9</td>\n",
       "      <td>0</td>\n",
       "      <td>99</td>\n",
       "      <td>9</td>\n",
       "      <td>9</td>\n",
       "      <td>99</td>\n",
       "      <td>...</td>\n",
       "      <td>6</td>\n",
       "      <td>1</td>\n",
       "      <td>58</td>\n",
       "      <td>9</td>\n",
       "      <td>-1</td>\n",
       "      <td>-1</td>\n",
       "      <td>-1</td>\n",
       "      <td>-1</td>\n",
       "      <td>2</td>\n",
       "      <td>1</td>\n",
       "    </tr>\n",
       "    <tr>\n",
       "      <th>1</th>\n",
       "      <td>2019010128300</td>\n",
       "      <td>2019</td>\n",
       "      <td>10128300</td>\n",
       "      <td>2</td>\n",
       "      <td>9</td>\n",
       "      <td>0</td>\n",
       "      <td>99</td>\n",
       "      <td>9</td>\n",
       "      <td>9</td>\n",
       "      <td>99</td>\n",
       "      <td>...</td>\n",
       "      <td>6</td>\n",
       "      <td>3</td>\n",
       "      <td>-1</td>\n",
       "      <td>-1</td>\n",
       "      <td>-1</td>\n",
       "      <td>-1</td>\n",
       "      <td>-1</td>\n",
       "      <td>-1</td>\n",
       "      <td>2</td>\n",
       "      <td>1</td>\n",
       "    </tr>\n",
       "    <tr>\n",
       "      <th>2</th>\n",
       "      <td>2019010152270</td>\n",
       "      <td>2019</td>\n",
       "      <td>10152270</td>\n",
       "      <td>1</td>\n",
       "      <td>9</td>\n",
       "      <td>0</td>\n",
       "      <td>18</td>\n",
       "      <td>9</td>\n",
       "      <td>9</td>\n",
       "      <td>99</td>\n",
       "      <td>...</td>\n",
       "      <td>6</td>\n",
       "      <td>2</td>\n",
       "      <td>24</td>\n",
       "      <td>5</td>\n",
       "      <td>-1</td>\n",
       "      <td>-1</td>\n",
       "      <td>-1</td>\n",
       "      <td>-1</td>\n",
       "      <td>3</td>\n",
       "      <td>1</td>\n",
       "    </tr>\n",
       "    <tr>\n",
       "      <th>3</th>\n",
       "      <td>2019010152270</td>\n",
       "      <td>2019</td>\n",
       "      <td>10152270</td>\n",
       "      <td>2</td>\n",
       "      <td>9</td>\n",
       "      <td>0</td>\n",
       "      <td>18</td>\n",
       "      <td>9</td>\n",
       "      <td>9</td>\n",
       "      <td>99</td>\n",
       "      <td>...</td>\n",
       "      <td>6</td>\n",
       "      <td>3</td>\n",
       "      <td>-1</td>\n",
       "      <td>-1</td>\n",
       "      <td>-1</td>\n",
       "      <td>-1</td>\n",
       "      <td>-1</td>\n",
       "      <td>-1</td>\n",
       "      <td>6</td>\n",
       "      <td>1</td>\n",
       "    </tr>\n",
       "    <tr>\n",
       "      <th>4</th>\n",
       "      <td>2019010155191</td>\n",
       "      <td>2019</td>\n",
       "      <td>10155191</td>\n",
       "      <td>1</td>\n",
       "      <td>9</td>\n",
       "      <td>0</td>\n",
       "      <td>3</td>\n",
       "      <td>5</td>\n",
       "      <td>1</td>\n",
       "      <td>0</td>\n",
       "      <td>...</td>\n",
       "      <td>6</td>\n",
       "      <td>1</td>\n",
       "      <td>45</td>\n",
       "      <td>7</td>\n",
       "      <td>-1</td>\n",
       "      <td>-1</td>\n",
       "      <td>-1</td>\n",
       "      <td>-1</td>\n",
       "      <td>4</td>\n",
       "      <td>1</td>\n",
       "    </tr>\n",
       "  </tbody>\n",
       "</table>\n",
       "<p>5 rows × 27 columns</p>\n",
       "</div>"
      ],
      "text/plain": [
       "  accident_index  accident_year accident_reference  vehicle_reference  \\\n",
       "0  2019010128300           2019           10128300                  1   \n",
       "1  2019010128300           2019           10128300                  2   \n",
       "2  2019010152270           2019           10152270                  1   \n",
       "3  2019010152270           2019           10152270                  2   \n",
       "4  2019010155191           2019           10155191                  1   \n",
       "\n",
       "   vehicle_type  towing_and_articulation  vehicle_manoeuvre  \\\n",
       "0             9                        0                 99   \n",
       "1             9                        0                 99   \n",
       "2             9                        0                 18   \n",
       "3             9                        0                 18   \n",
       "4             9                        0                  3   \n",
       "\n",
       "   vehicle_direction_from  vehicle_direction_to  \\\n",
       "0                       9                     9   \n",
       "1                       9                     9   \n",
       "2                       9                     9   \n",
       "3                       9                     9   \n",
       "4                       5                     1   \n",
       "\n",
       "   vehicle_location_restricted_lane  ...  journey_purpose_of_driver  \\\n",
       "0                                99  ...                          6   \n",
       "1                                99  ...                          6   \n",
       "2                                99  ...                          6   \n",
       "3                                99  ...                          6   \n",
       "4                                 0  ...                          6   \n",
       "\n",
       "   sex_of_driver  age_of_driver  age_band_of_driver  engine_capacity_cc  \\\n",
       "0              1             58                   9                  -1   \n",
       "1              3             -1                  -1                  -1   \n",
       "2              2             24                   5                  -1   \n",
       "3              3             -1                  -1                  -1   \n",
       "4              1             45                   7                  -1   \n",
       "\n",
       "   propulsion_code  age_of_vehicle  generic_make_model  driver_imd_decile  \\\n",
       "0               -1              -1                  -1                  2   \n",
       "1               -1              -1                  -1                  2   \n",
       "2               -1              -1                  -1                  3   \n",
       "3               -1              -1                  -1                  6   \n",
       "4               -1              -1                  -1                  4   \n",
       "\n",
       "   driver_home_area_type  \n",
       "0                      1  \n",
       "1                      1  \n",
       "2                      1  \n",
       "3                      1  \n",
       "4                      1  \n",
       "\n",
       "[5 rows x 27 columns]"
      ]
     },
     "execution_count": 10,
     "metadata": {},
     "output_type": "execute_result"
    }
   ],
   "source": [
    "vehicles = pd.read_csv('dft-road-casualty-statistics-vehicle-2019.csv')\n",
    "print('Records:', vehicles.shape[0], '\\nColumns:', vehicles.shape[1])\n",
    "vehicles.head()"
   ]
  },
  {
   "cell_type": "code",
   "execution_count": 11,
   "metadata": {},
   "outputs": [],
   "source": [
    "#vehicles.info()"
   ]
  },
  {
   "cell_type": "code",
   "execution_count": 12,
   "metadata": {},
   "outputs": [],
   "source": [
    "#vehicles.isnull().sum()"
   ]
  },
  {
   "cell_type": "markdown",
   "metadata": {},
   "source": [
    "The vehicles table is the largest of all three and contains roughly 216,000 records spanned over 27 columns with detailed information about the vehicle and its driver."
   ]
  },
  {
   "cell_type": "markdown",
   "metadata": {},
   "source": [
    "*Back to: <a href='#Table of Contents'> Table of Contents</a>*\n",
    "### 2. Preprocessing the Data\n",
    "<a id='2. Preprocessing the Data'></a>"
   ]
  },
  {
   "cell_type": "markdown",
   "metadata": {},
   "source": [
    "#### 2.1. Converting Datetime Column\n",
    "<a id='2.1. Converting Datetime Column'></a>"
   ]
  },
  {
   "cell_type": "code",
   "execution_count": 13,
   "metadata": {},
   "outputs": [
    {
     "name": "stdout",
     "output_type": "stream",
     "text": [
      "<class 'pandas.core.frame.DataFrame'>\n",
      "RangeIndex: 117536 entries, 0 to 117535\n",
      "Data columns (total 8 columns):\n",
      " #   Column                      Non-Null Count   Dtype         \n",
      "---  ------                      --------------   -----         \n",
      " 0   Police_Force                117536 non-null  int64         \n",
      " 1   Accident_Severity           117536 non-null  int64         \n",
      " 2   Number_of_Vehicles          117536 non-null  int64         \n",
      " 3   Number_of_Casualties        117536 non-null  int64         \n",
      " 4   Date                        117536 non-null  datetime64[ns]\n",
      " 5   Day_of_Week                 117536 non-null  int64         \n",
      " 6   Time                        117536 non-null  object        \n",
      " 7   Local_Authority_(District)  117536 non-null  int64         \n",
      "dtypes: datetime64[ns](1), int64(6), object(1)\n",
      "memory usage: 7.2+ MB\n"
     ]
    }
   ],
   "source": [
    "# check\n",
    "accidents.iloc[:, 5:13].info()"
   ]
  },
  {
   "cell_type": "code",
   "execution_count": 14,
   "metadata": {},
   "outputs": [
    {
     "data": {
      "text/html": [
       "<div>\n",
       "<style scoped>\n",
       "    .dataframe tbody tr th:only-of-type {\n",
       "        vertical-align: middle;\n",
       "    }\n",
       "\n",
       "    .dataframe tbody tr th {\n",
       "        vertical-align: top;\n",
       "    }\n",
       "\n",
       "    .dataframe thead th {\n",
       "        text-align: right;\n",
       "    }\n",
       "</style>\n",
       "<table border=\"1\" class=\"dataframe\">\n",
       "  <thead>\n",
       "    <tr style=\"text-align: right;\">\n",
       "      <th></th>\n",
       "      <th>Police_Force</th>\n",
       "      <th>Accident_Severity</th>\n",
       "      <th>Number_of_Vehicles</th>\n",
       "      <th>Number_of_Casualties</th>\n",
       "      <th>Date</th>\n",
       "      <th>Day_of_Week</th>\n",
       "      <th>Time</th>\n",
       "      <th>Local_Authority_(District)</th>\n",
       "    </tr>\n",
       "  </thead>\n",
       "  <tbody>\n",
       "    <tr>\n",
       "      <th>0</th>\n",
       "      <td>1</td>\n",
       "      <td>3</td>\n",
       "      <td>2</td>\n",
       "      <td>3</td>\n",
       "      <td>2019-02-18</td>\n",
       "      <td>2</td>\n",
       "      <td>17:50</td>\n",
       "      <td>1</td>\n",
       "    </tr>\n",
       "    <tr>\n",
       "      <th>1</th>\n",
       "      <td>1</td>\n",
       "      <td>3</td>\n",
       "      <td>2</td>\n",
       "      <td>1</td>\n",
       "      <td>2019-01-15</td>\n",
       "      <td>3</td>\n",
       "      <td>21:45</td>\n",
       "      <td>9</td>\n",
       "    </tr>\n",
       "  </tbody>\n",
       "</table>\n",
       "</div>"
      ],
      "text/plain": [
       "   Police_Force  Accident_Severity  Number_of_Vehicles  Number_of_Casualties  \\\n",
       "0             1                  3                   2                     3   \n",
       "1             1                  3                   2                     1   \n",
       "\n",
       "        Date  Day_of_Week   Time  Local_Authority_(District)  \n",
       "0 2019-02-18            2  17:50                           1  \n",
       "1 2019-01-15            3  21:45                           9  "
      ]
     },
     "execution_count": 14,
     "metadata": {},
     "output_type": "execute_result"
    }
   ],
   "source": [
    "accidents.iloc[:, 5:13].head(2)"
   ]
  },
  {
   "cell_type": "markdown",
   "metadata": {},
   "source": [
    "Next, let's define a new column that groups the `Time` the accidents happened into one of five options:\n",
    "- Morning\n",
    "- Afternoon\n",
    "- Rush_Hour\n",
    "- Evening\n",
    "- Night"
   ]
  },
  {
   "cell_type": "code",
   "execution_count": 15,
   "metadata": {},
   "outputs": [],
   "source": [
    "# slice first and second string from time column\n",
    "accidents['Hour'] = accidents['Time'].str[0:2]\n",
    "\n",
    "# convert new column to numeric datetype\n",
    "accidents['Hour'] = pd.to_numeric(accidents['Hour'])\n",
    "\n",
    "# drop null values in our new column\n",
    "accidents = accidents.dropna(subset=['Hour'])\n",
    "\n",
    "# cast to integer values\n",
    "accidents['Hour'] = accidents['Hour'].astype('int')"
   ]
  },
  {
   "cell_type": "code",
   "execution_count": 16,
   "metadata": {},
   "outputs": [],
   "source": [
    "# define a function that turns the hours into daytime groups\n",
    "def when_was_it(hour):\n",
    "    if hour >= 5 and hour < 10:\n",
    "        return \"morning rush (5-10)\"\n",
    "    elif hour >= 10 and hour < 15:\n",
    "        return \"office hours (10-15)\"\n",
    "    elif hour >= 15 and hour < 19:\n",
    "        return \"afternoon rush (15-19)\"\n",
    "    elif hour >= 19 and hour < 23:\n",
    "        return \"evening (19-23)\"\n",
    "    else:\n",
    "        return \"night (23-5)\""
   ]
  },
  {
   "cell_type": "code",
   "execution_count": 17,
   "metadata": {},
   "outputs": [
    {
     "data": {
      "text/html": [
       "<div>\n",
       "<style scoped>\n",
       "    .dataframe tbody tr th:only-of-type {\n",
       "        vertical-align: middle;\n",
       "    }\n",
       "\n",
       "    .dataframe tbody tr th {\n",
       "        vertical-align: top;\n",
       "    }\n",
       "\n",
       "    .dataframe thead th {\n",
       "        text-align: right;\n",
       "    }\n",
       "</style>\n",
       "<table border=\"1\" class=\"dataframe\">\n",
       "  <thead>\n",
       "    <tr style=\"text-align: right;\">\n",
       "      <th></th>\n",
       "      <th>Time</th>\n",
       "      <th>Hour</th>\n",
       "      <th>Daytime</th>\n",
       "    </tr>\n",
       "  </thead>\n",
       "  <tbody>\n",
       "    <tr>\n",
       "      <th>0</th>\n",
       "      <td>17:50</td>\n",
       "      <td>17</td>\n",
       "      <td>afternoon rush (15-19)</td>\n",
       "    </tr>\n",
       "    <tr>\n",
       "      <th>1</th>\n",
       "      <td>21:45</td>\n",
       "      <td>21</td>\n",
       "      <td>evening (19-23)</td>\n",
       "    </tr>\n",
       "    <tr>\n",
       "      <th>2</th>\n",
       "      <td>01:50</td>\n",
       "      <td>1</td>\n",
       "      <td>night (23-5)</td>\n",
       "    </tr>\n",
       "    <tr>\n",
       "      <th>3</th>\n",
       "      <td>01:20</td>\n",
       "      <td>1</td>\n",
       "      <td>night (23-5)</td>\n",
       "    </tr>\n",
       "    <tr>\n",
       "      <th>4</th>\n",
       "      <td>00:40</td>\n",
       "      <td>0</td>\n",
       "      <td>night (23-5)</td>\n",
       "    </tr>\n",
       "    <tr>\n",
       "      <th>5</th>\n",
       "      <td>02:45</td>\n",
       "      <td>2</td>\n",
       "      <td>night (23-5)</td>\n",
       "    </tr>\n",
       "    <tr>\n",
       "      <th>6</th>\n",
       "      <td>01:35</td>\n",
       "      <td>1</td>\n",
       "      <td>night (23-5)</td>\n",
       "    </tr>\n",
       "    <tr>\n",
       "      <th>7</th>\n",
       "      <td>02:10</td>\n",
       "      <td>2</td>\n",
       "      <td>night (23-5)</td>\n",
       "    </tr>\n",
       "  </tbody>\n",
       "</table>\n",
       "</div>"
      ],
      "text/plain": [
       "    Time  Hour                 Daytime\n",
       "0  17:50    17  afternoon rush (15-19)\n",
       "1  21:45    21         evening (19-23)\n",
       "2  01:50     1            night (23-5)\n",
       "3  01:20     1            night (23-5)\n",
       "4  00:40     0            night (23-5)\n",
       "5  02:45     2            night (23-5)\n",
       "6  01:35     1            night (23-5)\n",
       "7  02:10     2            night (23-5)"
      ]
     },
     "execution_count": 17,
     "metadata": {},
     "output_type": "execute_result"
    }
   ],
   "source": [
    "# apply this function to our temporary hour column\n",
    "accidents['Daytime'] = accidents['Hour'].apply(when_was_it)\n",
    "accidents[['Time', 'Hour', 'Daytime']].head(8)"
   ]
  },
  {
   "cell_type": "markdown",
   "metadata": {},
   "source": [
    "#### 2.2. Handling Missing Values\n",
    "<a id='2.2. Handling Missing Values'></a>"
   ]
  },
  {
   "cell_type": "code",
   "execution_count": 18,
   "metadata": {},
   "outputs": [
    {
     "name": "stdout",
     "output_type": "stream",
     "text": [
      "Proportion of Missing Values in Accidents Table: 0.001 %\n"
     ]
    }
   ],
   "source": [
    "print('Proportion of Missing Values in Accidents Table:', \n",
    "      round(accidents.isna().sum().sum()/len(accidents),3), '%')"
   ]
  },
  {
   "cell_type": "code",
   "execution_count": 19,
   "metadata": {},
   "outputs": [
    {
     "data": {
      "text/plain": [
       "0"
      ]
     },
     "execution_count": 19,
     "metadata": {},
     "output_type": "execute_result"
    }
   ],
   "source": [
    "accidents = accidents.dropna()\n",
    "\n",
    "# check if we have no NaN's anymore\n",
    "accidents.isna().sum().sum()"
   ]
  },
  {
   "cell_type": "code",
   "execution_count": 20,
   "metadata": {},
   "outputs": [
    {
     "name": "stdout",
     "output_type": "stream",
     "text": [
      "Proportion of Missing Values in Casualties Table: 0.0 %\n"
     ]
    }
   ],
   "source": [
    "print('Proportion of Missing Values in Casualties Table:', \n",
    "      round(casualties.isna().sum().sum()/len(casualties),3), '%')"
   ]
  },
  {
   "cell_type": "code",
   "execution_count": 21,
   "metadata": {},
   "outputs": [
    {
     "name": "stdout",
     "output_type": "stream",
     "text": [
      "Proportion of Missing Values in Vehicles Table: 0.0 %\n"
     ]
    }
   ],
   "source": [
    "print('Proportion of Missing Values in Vehicles Table:', \n",
    "      round(vehicles.isna().sum().sum()/len(vehicles),3), '%')"
   ]
  },
  {
   "cell_type": "markdown",
   "metadata": {},
   "source": [
    "The last two dataframes have no missing values to even think about dropping them. But the first one only contains 0.001% missing values and it might be helpful to not mess up later analysis with NaN's. That's why they are dropped."
   ]
  },
  {
   "cell_type": "markdown",
   "metadata": {},
   "source": [
    "*Back to: <a href='#Table of Contents'> Table of Contents</a>*\n",
    "### 3. Exploratory Data Analysis (EDA)\n",
    "<a id='3. Exploratory Data Analysis (EDA)'></a>"
   ]
  },
  {
   "cell_type": "markdown",
   "metadata": {},
   "source": [
    "#### 3.1. Main Characteristics of Accidents \n",
    "<a id='3.1. Main Characteristics of Accidents'></a>"
   ]
  },
  {
   "cell_type": "markdown",
   "metadata": {},
   "source": [
    "***Has the number of accidents increased or decreased over the last few months?***"
   ]
  },
  {
   "cell_type": "code",
   "execution_count": 22,
   "metadata": {},
   "outputs": [],
   "source": [
    "test = pd.DataFrame(accidents.set_index('Date').resample('M').size())\n",
    "test.columns = ['Accidents']"
   ]
  },
  {
   "cell_type": "code",
   "execution_count": 23,
   "metadata": {},
   "outputs": [],
   "source": [
    "test['rolling'] = test['Accidents'].rolling(window=10).mean()"
   ]
  },
  {
   "cell_type": "code",
   "execution_count": 24,
   "metadata": {},
   "outputs": [
    {
     "data": {
      "image/png": "[encoded data removed]",
      "text/plain": [
       "<Figure size 1080x432 with 1 Axes>"
      ]
     },
     "metadata": {},
     "output_type": "display_data"
    }
   ],
   "source": [
    "# prepare plot\n",
    "sns.set_style('white')\n",
    "fig, ax = plt.subplots(figsize=(15,6))\n",
    "\n",
    "# plot\n",
    "accidents.set_index('Date').resample('M').size().plot(label='Total per Month', color='black', ax=ax)\n",
    "\n",
    "ax.set_title('Accidents per Month', fontsize=14, fontweight='bold')\n",
    "ax.set(ylabel='Total Count\\n', xlabel='')\n",
    "ax.legend(bbox_to_anchor=(1.1, 1.1), frameon=False)\n",
    "\n",
    "# remove all spines\n",
    "sns.despine(ax=ax, top=True, right=True, left=True, bottom=False);"
   ]
  },
  {
   "cell_type": "markdown",
   "metadata": {},
   "source": [
    "***On which weekdays are accidents most likely to be caused?***"
   ]
  },
  {
   "cell_type": "markdown",
   "metadata": {},
   "source": [
    "- Preparing dataframe that calculates average accidents per weekday:"
   ]
  },
  {
   "cell_type": "code",
   "execution_count": 25,
   "metadata": {},
   "outputs": [
    {
     "data": {
      "text/html": [
       "<div>\n",
       "<style scoped>\n",
       "    .dataframe tbody tr th:only-of-type {\n",
       "        vertical-align: middle;\n",
       "    }\n",
       "\n",
       "    .dataframe tbody tr th {\n",
       "        vertical-align: top;\n",
       "    }\n",
       "\n",
       "    .dataframe thead th {\n",
       "        text-align: right;\n",
       "    }\n",
       "</style>\n",
       "<table border=\"1\" class=\"dataframe\">\n",
       "  <thead>\n",
       "    <tr style=\"text-align: right;\">\n",
       "      <th></th>\n",
       "      <th>Average_Accidents</th>\n",
       "    </tr>\n",
       "    <tr>\n",
       "      <th>Weekday</th>\n",
       "      <th></th>\n",
       "    </tr>\n",
       "  </thead>\n",
       "  <tbody>\n",
       "    <tr>\n",
       "      <th>Friday</th>\n",
       "      <td>348.750000</td>\n",
       "    </tr>\n",
       "    <tr>\n",
       "      <th>Monday</th>\n",
       "      <td>315.288462</td>\n",
       "    </tr>\n",
       "    <tr>\n",
       "      <th>Saturday</th>\n",
       "      <td>311.365385</td>\n",
       "    </tr>\n",
       "    <tr>\n",
       "      <th>Sunday</th>\n",
       "      <td>280.403846</td>\n",
       "    </tr>\n",
       "    <tr>\n",
       "      <th>Thursday</th>\n",
       "      <td>340.692308</td>\n",
       "    </tr>\n",
       "    <tr>\n",
       "      <th>Tuesday</th>\n",
       "      <td>331.377358</td>\n",
       "    </tr>\n",
       "    <tr>\n",
       "      <th>Wednesday</th>\n",
       "      <td>325.519231</td>\n",
       "    </tr>\n",
       "  </tbody>\n",
       "</table>\n",
       "</div>"
      ],
      "text/plain": [
       "           Average_Accidents\n",
       "Weekday                     \n",
       "Friday            348.750000\n",
       "Monday            315.288462\n",
       "Saturday          311.365385\n",
       "Sunday            280.403846\n",
       "Thursday          340.692308\n",
       "Tuesday           331.377358\n",
       "Wednesday         325.519231"
      ]
     },
     "execution_count": 25,
     "metadata": {},
     "output_type": "execute_result"
    }
   ],
   "source": [
    "weekday_counts = pd.DataFrame(accidents.set_index('Date').resample('1d')['Accident_Index'].size().reset_index())\n",
    "weekday_counts.columns = ['Date', 'Count']\n",
    "#weekday_counts\n",
    "\n",
    "weekday = weekday_counts['Date'].dt.day_name()\n",
    "#weekday\n",
    "\n",
    "weekday_averages = pd.DataFrame(weekday_counts.groupby(weekday)['Count'].mean().reset_index())\n",
    "weekday_averages.columns = ['Weekday', 'Average_Accidents']\n",
    "weekday_averages.set_index('Weekday', inplace=True)\n",
    "weekday_averages"
   ]
  },
  {
   "cell_type": "markdown",
   "metadata": {},
   "source": [
    "- Plotting this dataframe:"
   ]
  },
  {
   "cell_type": "code",
   "execution_count": 26,
   "metadata": {},
   "outputs": [
    {
     "data": {
      "image/png": "[encoded data removed]",
      "text/plain": [
       "<Figure size 720x360 with 1 Axes>"
      ]
     },
     "metadata": {},
     "output_type": "display_data"
    }
   ],
   "source": [
    "# reorder the weekdays beginning with Monday (backwards because of printing behavior!)\n",
    "days = ['Sunday', 'Saturday', 'Friday', 'Thursday', 'Wednesday', 'Tuesday', 'Monday']\n",
    "\n",
    "# prepare plot\n",
    "sns.set_style('white')\n",
    "fig, ax = plt.subplots(figsize=(10,5))\n",
    "colors=['lightsteelblue', 'lightsteelblue', 'navy', 'lightsteelblue', 'lightsteelblue', 'lightsteelblue', 'lightsteelblue']\n",
    "\n",
    "# plot\n",
    "weekday_averages.reindex(days).plot(kind='barh', ax=ax, color=colors)\n",
    "ax.set_title('\\nAverage Accidents per Weekday\\n', fontsize=14, fontweight='bold')\n",
    "ax.set(xlabel='\\nAverage Number', ylabel='')\n",
    "ax.legend('')\n",
    "\n",
    "# remove all spines\n",
    "sns.despine(ax=ax, top=True, right=True, left=True, bottom=True);"
   ]
  },
  {
   "cell_type": "markdown",
   "metadata": {},
   "source": [
    "***How are accidents related to weather conditions?***"
   ]
  },
  {
   "cell_type": "code",
   "execution_count": 27,
   "metadata": {},
   "outputs": [
    {
     "data": {
      "text/plain": [
       "1    0.785427\n",
       "2    0.130127\n",
       "9    0.029232\n",
       "8    0.025896\n",
       "5    0.012161\n",
       "4    0.010467\n",
       "7    0.003353\n",
       "3    0.002996\n",
       "6    0.000340\n",
       "Name: Weather_Conditions, dtype: float64"
      ]
     },
     "execution_count": 27,
     "metadata": {},
     "output_type": "execute_result"
    }
   ],
   "source": [
    "accidents.Weather_Conditions.value_counts(normalize=True)"
   ]
  },
  {
   "cell_type": "code",
   "execution_count": 28,
   "metadata": {},
   "outputs": [
    {
     "data": {
      "text/plain": [
       "<AxesSubplot:>"
      ]
     },
     "execution_count": 28,
     "metadata": {},
     "output_type": "execute_result"
    },
    {
     "data": {
      "image/png": "[encoded data removed]",
      "text/plain": [
       "<Figure size 432x288 with 1 Axes>"
      ]
     },
     "metadata": {},
     "output_type": "display_data"
    }
   ],
   "source": [
    "accidents.Weather_Conditions.value_counts(normalize=True).plot(kind='bar')"
   ]
  },
  {
   "cell_type": "markdown",
   "metadata": {},
   "source": [
    "*As most of the days the `Weather_Condition` is \"fine\" (=1), most accidents will likely to be happen then.*"
   ]
  },
  {
   "cell_type": "markdown",
   "metadata": {},
   "source": [
    "***What percentage of each category of accident severity do we have?***"
   ]
  },
  {
   "cell_type": "code",
   "execution_count": 29,
   "metadata": {},
   "outputs": [
    {
     "data": {
      "image/png": "[encoded data removed]",
      "text/plain": [
       "<Figure size 576x576 with 1 Axes>"
      ]
     },
     "metadata": {},
     "output_type": "display_data"
    }
   ],
   "source": [
    "# assign the data\n",
    "fatal   = accidents.Accident_Severity.value_counts()[1]\n",
    "serious = accidents.Accident_Severity.value_counts()[2]\n",
    "slight  = accidents.Accident_Severity.value_counts()[3]\n",
    "\n",
    "names = ['Fatal Accidents','Serious Accidents', 'Slight Accidents']\n",
    "size  = [fatal, serious, slight]\n",
    "\n",
    "# create a pie chart\n",
    "plt.pie(x=size, labels=names, colors=['red', 'darkorange', 'silver'], \n",
    "        autopct='%1.2f%%', pctdistance=0.6, textprops=dict(fontweight='bold'),\n",
    "        wedgeprops={'linewidth':7, 'edgecolor':'white'})\n",
    "\n",
    "# create circle for the center of the plot to make the piechart look like a donut\n",
    "my_circle = plt.Circle((0,0), 0.6, color='white')\n",
    "\n",
    "# plot the donut chart\n",
    "fig = plt.gcf()\n",
    "fig.set_size_inches(8,8)\n",
    "fig.gca().add_artist(my_circle)\n",
    "plt.title('\\nAccident Severity: Share in %', fontsize=14, fontweight='bold')\n",
    "plt.show()"
   ]
  },
  {
   "cell_type": "markdown",
   "metadata": {},
   "source": [
    "***How has the number of fatalities developed over the year?***"
   ]
  },
  {
   "cell_type": "code",
   "execution_count": 30,
   "metadata": {},
   "outputs": [
    {
     "data": {
      "image/png": "[encoded data removed]",
      "text/plain": [
       "<Figure size 1008x432 with 1 Axes>"
      ]
     },
     "metadata": {},
     "output_type": "display_data"
    }
   ],
   "source": [
    "# set the criterium to slice the fatalaties\n",
    "criteria = accidents['Accident_Severity']==1\n",
    "# create a new dataframe\n",
    "weekly_fatalities = accidents.loc[criteria].set_index('Date').sort_index().resample('W').size()\n",
    "\n",
    "# prepare plot\n",
    "sns.set_style('white')\n",
    "fig, ax = plt.subplots(figsize=(14,6))\n",
    "\n",
    "# plot\n",
    "weekly_fatalities.plot(label='Total Fatalities per Month', color='grey', ax=ax)\n",
    "plt.fill_between(x=weekly_fatalities.index, y1=weekly_fatalities.values, color='grey', alpha=0.3)\n",
    "\n",
    "ax.set_title('\\nFatalities', fontsize=14, fontweight='bold')\n",
    "ax.set(ylabel='\\nTotal Count', xlabel='')\n",
    "ax.legend(bbox_to_anchor=(1.2, 1.1), frameon=False)\n",
    "\n",
    "# remove all spines\n",
    "sns.despine(ax=ax, top=True, right=True, left=True, bottom=True);"
   ]
  },
  {
   "cell_type": "markdown",
   "metadata": {},
   "source": [
    "***Is the share of fatal accidents increasing or decreasing?***"
   ]
  },
  {
   "cell_type": "code",
   "execution_count": 31,
   "metadata": {},
   "outputs": [
    {
     "data": {
      "text/html": [
       "<div>\n",
       "<style scoped>\n",
       "    .dataframe tbody tr th:only-of-type {\n",
       "        vertical-align: middle;\n",
       "    }\n",
       "\n",
       "    .dataframe tbody tr th {\n",
       "        vertical-align: top;\n",
       "    }\n",
       "\n",
       "    .dataframe thead th {\n",
       "        text-align: right;\n",
       "    }\n",
       "</style>\n",
       "<table border=\"1\" class=\"dataframe\">\n",
       "  <thead>\n",
       "    <tr style=\"text-align: right;\">\n",
       "      <th>Accident_Severity</th>\n",
       "      <th>fatal</th>\n",
       "      <th>serious</th>\n",
       "      <th>slight</th>\n",
       "    </tr>\n",
       "    <tr>\n",
       "      <th>Week</th>\n",
       "      <th></th>\n",
       "      <th></th>\n",
       "      <th></th>\n",
       "    </tr>\n",
       "  </thead>\n",
       "  <tbody>\n",
       "    <tr>\n",
       "      <th>2019-01-06</th>\n",
       "      <td>22</td>\n",
       "      <td>351</td>\n",
       "      <td>1421</td>\n",
       "    </tr>\n",
       "    <tr>\n",
       "      <th>2019-01-13</th>\n",
       "      <td>38</td>\n",
       "      <td>416</td>\n",
       "      <td>1710</td>\n",
       "    </tr>\n",
       "    <tr>\n",
       "      <th>2019-01-20</th>\n",
       "      <td>31</td>\n",
       "      <td>391</td>\n",
       "      <td>1779</td>\n",
       "    </tr>\n",
       "    <tr>\n",
       "      <th>2019-01-27</th>\n",
       "      <td>38</td>\n",
       "      <td>392</td>\n",
       "      <td>1859</td>\n",
       "    </tr>\n",
       "    <tr>\n",
       "      <th>2019-02-03</th>\n",
       "      <td>32</td>\n",
       "      <td>387</td>\n",
       "      <td>1785</td>\n",
       "    </tr>\n",
       "  </tbody>\n",
       "</table>\n",
       "</div>"
      ],
      "text/plain": [
       "Accident_Severity  fatal  serious  slight\n",
       "Week                                     \n",
       "2019-01-06            22      351    1421\n",
       "2019-01-13            38      416    1710\n",
       "2019-01-20            31      391    1779\n",
       "2019-01-27            38      392    1859\n",
       "2019-02-03            32      387    1785"
      ]
     },
     "execution_count": 31,
     "metadata": {},
     "output_type": "execute_result"
    }
   ],
   "source": [
    "sub_df = accidents[['Date', 'Accident_Index', 'Accident_Severity']]\n",
    "\n",
    "# pull out the year\n",
    "year = sub_df['Date'].dt.year\n",
    "week = sub_df['Date'].dt.week\n",
    "\n",
    "# groupby year and severities\n",
    "count_of_fatalities = sub_df.set_index('Date').groupby([pd.Grouper(freq='W'), 'Accident_Severity']).size()\n",
    "\n",
    "# build a nice table\n",
    "fatalities_table = count_of_fatalities.rename_axis(['Week', 'Accident_Severity'])\\\n",
    "                                      .unstack('Accident_Severity')\\\n",
    "                                      .rename({1:'fatal', 2:'serious', 3:'slight'}, axis='columns')\n",
    "fatalities_table.head()"
   ]
  },
  {
   "cell_type": "code",
   "execution_count": 32,
   "metadata": {},
   "outputs": [
    {
     "data": {
      "text/html": [
       "<div>\n",
       "<style scoped>\n",
       "    .dataframe tbody tr th:only-of-type {\n",
       "        vertical-align: middle;\n",
       "    }\n",
       "\n",
       "    .dataframe tbody tr th {\n",
       "        vertical-align: top;\n",
       "    }\n",
       "\n",
       "    .dataframe thead th {\n",
       "        text-align: right;\n",
       "    }\n",
       "</style>\n",
       "<table border=\"1\" class=\"dataframe\">\n",
       "  <thead>\n",
       "    <tr style=\"text-align: right;\">\n",
       "      <th>Accident_Severity</th>\n",
       "      <th>fatal</th>\n",
       "      <th>serious</th>\n",
       "      <th>slight</th>\n",
       "      <th>sum</th>\n",
       "      <th>fatal_percentage</th>\n",
       "      <th>serious_percentage</th>\n",
       "      <th>slight_percentage</th>\n",
       "      <th>sum_percentage</th>\n",
       "    </tr>\n",
       "    <tr>\n",
       "      <th>Week</th>\n",
       "      <th></th>\n",
       "      <th></th>\n",
       "      <th></th>\n",
       "      <th></th>\n",
       "      <th></th>\n",
       "      <th></th>\n",
       "      <th></th>\n",
       "      <th></th>\n",
       "    </tr>\n",
       "  </thead>\n",
       "  <tbody>\n",
       "    <tr>\n",
       "      <th>2019-01-06</th>\n",
       "      <td>22</td>\n",
       "      <td>351</td>\n",
       "      <td>1421</td>\n",
       "      <td>1794</td>\n",
       "      <td>0.012263</td>\n",
       "      <td>0.195652</td>\n",
       "      <td>0.792085</td>\n",
       "      <td>1.0</td>\n",
       "    </tr>\n",
       "    <tr>\n",
       "      <th>2019-01-13</th>\n",
       "      <td>38</td>\n",
       "      <td>416</td>\n",
       "      <td>1710</td>\n",
       "      <td>2164</td>\n",
       "      <td>0.017560</td>\n",
       "      <td>0.192237</td>\n",
       "      <td>0.790203</td>\n",
       "      <td>1.0</td>\n",
       "    </tr>\n",
       "    <tr>\n",
       "      <th>2019-01-20</th>\n",
       "      <td>31</td>\n",
       "      <td>391</td>\n",
       "      <td>1779</td>\n",
       "      <td>2201</td>\n",
       "      <td>0.014085</td>\n",
       "      <td>0.177647</td>\n",
       "      <td>0.808269</td>\n",
       "      <td>1.0</td>\n",
       "    </tr>\n",
       "    <tr>\n",
       "      <th>2019-01-27</th>\n",
       "      <td>38</td>\n",
       "      <td>392</td>\n",
       "      <td>1859</td>\n",
       "      <td>2289</td>\n",
       "      <td>0.016601</td>\n",
       "      <td>0.171254</td>\n",
       "      <td>0.812145</td>\n",
       "      <td>1.0</td>\n",
       "    </tr>\n",
       "    <tr>\n",
       "      <th>2019-02-03</th>\n",
       "      <td>32</td>\n",
       "      <td>387</td>\n",
       "      <td>1785</td>\n",
       "      <td>2204</td>\n",
       "      <td>0.014519</td>\n",
       "      <td>0.175590</td>\n",
       "      <td>0.809891</td>\n",
       "      <td>1.0</td>\n",
       "    </tr>\n",
       "  </tbody>\n",
       "</table>\n",
       "</div>"
      ],
      "text/plain": [
       "Accident_Severity  fatal  serious  slight   sum  fatal_percentage  \\\n",
       "Week                                                                \n",
       "2019-01-06            22      351    1421  1794          0.012263   \n",
       "2019-01-13            38      416    1710  2164          0.017560   \n",
       "2019-01-20            31      391    1779  2201          0.014085   \n",
       "2019-01-27            38      392    1859  2289          0.016601   \n",
       "2019-02-03            32      387    1785  2204          0.014519   \n",
       "\n",
       "Accident_Severity  serious_percentage  slight_percentage  sum_percentage  \n",
       "Week                                                                      \n",
       "2019-01-06                   0.195652           0.792085             1.0  \n",
       "2019-01-13                   0.192237           0.790203             1.0  \n",
       "2019-01-20                   0.177647           0.808269             1.0  \n",
       "2019-01-27                   0.171254           0.812145             1.0  \n",
       "2019-02-03                   0.175590           0.809891             1.0  "
      ]
     },
     "execution_count": 32,
     "metadata": {},
     "output_type": "execute_result"
    }
   ],
   "source": [
    "fatalities_table['sum'] = fatalities_table.sum(axis=1)\n",
    "fatalities_table = fatalities_table.join(fatalities_table.div(fatalities_table['sum'], axis=0), rsuffix='_percentage')\n",
    "fatalities_table.head()"
   ]
  },
  {
   "cell_type": "code",
   "execution_count": 33,
   "metadata": {},
   "outputs": [
    {
     "data": {
      "image/png": "[encoded data removed]",
      "text/plain": [
       "<Figure size 1008x432 with 1 Axes>"
      ]
     },
     "metadata": {},
     "output_type": "display_data"
    }
   ],
   "source": [
    "# prepare data\n",
    "sub_df = fatalities_table[['fatal_percentage', 'serious_percentage', 'slight_percentage']]\n",
    "\n",
    "# prepare plot\n",
    "sns.set_style('white')\n",
    "fig, ax = plt.subplots(figsize=(14,6))\n",
    "colors=['black', 'navy', 'red']\n",
    "\n",
    "# plot\n",
    "sub_df.plot(color=colors, ax=ax)\n",
    "ax.set_title('\\nProportion of Accidents Severity\\n', fontsize=14, fontweight='bold')\n",
    "ax.set(ylabel='Share on all Accidents\\n', xlabel='')\n",
    "ax.legend(labels=['Fatal Accidents', 'Serious Accidents', 'Slight Accidents'], \n",
    "          bbox_to_anchor=(1.3, 1.1), frameon=False)\n",
    "\n",
    "# remove all spines\n",
    "sns.despine(top=True, right=True, left=True, bottom=False);"
   ]
  },
  {
   "cell_type": "markdown",
   "metadata": {},
   "source": [
    "*The trend for fatal accidents seems to stagnate.*"
   ]
  },
  {
   "cell_type": "markdown",
   "metadata": {},
   "source": [
    "***How are accidents distributed throughout the day?***"
   ]
  },
  {
   "cell_type": "markdown",
   "metadata": {},
   "source": [
    "- Distribution of Hours"
   ]
  },
  {
   "cell_type": "code",
   "execution_count": 34,
   "metadata": {},
   "outputs": [
    {
     "data": {
      "image/png": "[encoded data removed]",
      "text/plain": [
       "<Figure size 720x432 with 1 Axes>"
      ]
     },
     "metadata": {},
     "output_type": "display_data"
    }
   ],
   "source": [
    "# prepare plot\n",
    "sns.set_style('white')\n",
    "fig, ax = plt.subplots(figsize=(10,6))\n",
    "\n",
    "# plot\n",
    "accidents.Hour.hist(bins=24, ax=ax, color='lightsteelblue')\n",
    "ax.set_title('\\nAccidents depending by Time\\n', fontsize=14, fontweight='bold')\n",
    "ax.set(xlabel='Hour of the Day', ylabel='Total Count of Accidents')\n",
    "\n",
    "# remove all spines\n",
    "sns.despine(top=True, right=True, left=True, bottom=True);"
   ]
  },
  {
   "cell_type": "markdown",
   "metadata": {},
   "source": [
    "- Counts of Accidents by Daytime"
   ]
  },
  {
   "cell_type": "code",
   "execution_count": 35,
   "metadata": {},
   "outputs": [
    {
     "data": {
      "image/png": "[encoded data removed]",
      "text/plain": [
       "<Figure size 720x360 with 1 Axes>"
      ]
     },
     "metadata": {},
     "output_type": "display_data"
    }
   ],
   "source": [
    "# prepare dataframe\n",
    "order = ['night (23-5)', 'evening (19-23)', 'afternoon rush (15-19)', 'office hours (10-15)', 'morning rush (5-10)']\n",
    "df_sub = accidents.groupby('Daytime').size().reindex(order)\n",
    "\n",
    "# prepare barplot\n",
    "fig, ax = plt.subplots(figsize=(10, 5))\n",
    "colors = ['lightsteelblue', 'lightsteelblue', 'navy', 'lightsteelblue', 'lightsteelblue']\n",
    "\n",
    "# plot\n",
    "df_sub.plot(kind='barh', ax=ax, color=colors)\n",
    "ax.set_title('\\nAccidents depending by Daytime\\n', fontsize=14, fontweight='bold')\n",
    "ax.set(xlabel='\\nTotal Count of Accidents', ylabel='')\n",
    "\n",
    "# remove all spines\n",
    "sns.despine(top=True, right=True, left=True, bottom=True);"
   ]
  },
  {
   "cell_type": "markdown",
   "metadata": {},
   "source": [
    "- Share of Accident Severity by Daytime"
   ]
  },
  {
   "cell_type": "code",
   "execution_count": 36,
   "metadata": {},
   "outputs": [
    {
     "data": {
      "text/html": [
       "<div>\n",
       "<style scoped>\n",
       "    .dataframe tbody tr th:only-of-type {\n",
       "        vertical-align: middle;\n",
       "    }\n",
       "\n",
       "    .dataframe tbody tr th {\n",
       "        vertical-align: top;\n",
       "    }\n",
       "\n",
       "    .dataframe thead th {\n",
       "        text-align: right;\n",
       "    }\n",
       "</style>\n",
       "<table border=\"1\" class=\"dataframe\">\n",
       "  <thead>\n",
       "    <tr style=\"text-align: right;\">\n",
       "      <th>Accident_Severity</th>\n",
       "      <th>fatal</th>\n",
       "      <th>serious</th>\n",
       "      <th>slight</th>\n",
       "    </tr>\n",
       "    <tr>\n",
       "      <th>Daytime</th>\n",
       "      <th></th>\n",
       "      <th></th>\n",
       "      <th></th>\n",
       "    </tr>\n",
       "  </thead>\n",
       "  <tbody>\n",
       "    <tr>\n",
       "      <th>afternoon rush (15-19)</th>\n",
       "      <td>417</td>\n",
       "      <td>7154</td>\n",
       "      <td>29596</td>\n",
       "    </tr>\n",
       "    <tr>\n",
       "      <th>evening (19-23)</th>\n",
       "      <td>286</td>\n",
       "      <td>3811</td>\n",
       "      <td>13733</td>\n",
       "    </tr>\n",
       "    <tr>\n",
       "      <th>morning rush (5-10)</th>\n",
       "      <td>249</td>\n",
       "      <td>4006</td>\n",
       "      <td>18292</td>\n",
       "    </tr>\n",
       "    <tr>\n",
       "      <th>night (23-5)</th>\n",
       "      <td>250</td>\n",
       "      <td>2010</td>\n",
       "      <td>6022</td>\n",
       "    </tr>\n",
       "    <tr>\n",
       "      <th>office hours (10-15)</th>\n",
       "      <td>456</td>\n",
       "      <td>5995</td>\n",
       "      <td>25231</td>\n",
       "    </tr>\n",
       "  </tbody>\n",
       "</table>\n",
       "</div>"
      ],
      "text/plain": [
       "Accident_Severity       fatal  serious  slight\n",
       "Daytime                                       \n",
       "afternoon rush (15-19)    417     7154   29596\n",
       "evening (19-23)           286     3811   13733\n",
       "morning rush (5-10)       249     4006   18292\n",
       "night (23-5)              250     2010    6022\n",
       "office hours (10-15)      456     5995   25231"
      ]
     },
     "execution_count": 36,
     "metadata": {},
     "output_type": "execute_result"
    }
   ],
   "source": [
    "# prepare dataframe with simple counts\n",
    "counts = accidents.groupby(['Daytime', 'Accident_Severity']).size()\n",
    "\n",
    "counts = counts.rename_axis(['Daytime', 'Accident_Severity'])\\\n",
    "                                .unstack('Accident_Severity')\\\n",
    "                                .rename({1:'fatal', 2:'serious', 3:'slight'}, axis='columns')\n",
    "counts"
   ]
  },
  {
   "cell_type": "code",
   "execution_count": 37,
   "metadata": {},
   "outputs": [
    {
     "data": {
      "text/html": [
       "<div>\n",
       "<style scoped>\n",
       "    .dataframe tbody tr th:only-of-type {\n",
       "        vertical-align: middle;\n",
       "    }\n",
       "\n",
       "    .dataframe tbody tr th {\n",
       "        vertical-align: top;\n",
       "    }\n",
       "\n",
       "    .dataframe thead th {\n",
       "        text-align: right;\n",
       "    }\n",
       "</style>\n",
       "<table border=\"1\" class=\"dataframe\">\n",
       "  <thead>\n",
       "    <tr style=\"text-align: right;\">\n",
       "      <th>Accident_Severity</th>\n",
       "      <th>fatal in %</th>\n",
       "      <th>serious in %</th>\n",
       "      <th>slight in %</th>\n",
       "    </tr>\n",
       "    <tr>\n",
       "      <th>Daytime</th>\n",
       "      <th></th>\n",
       "      <th></th>\n",
       "      <th></th>\n",
       "    </tr>\n",
       "  </thead>\n",
       "  <tbody>\n",
       "    <tr>\n",
       "      <th>afternoon rush (15-19)</th>\n",
       "      <td>0.011220</td>\n",
       "      <td>0.192483</td>\n",
       "      <td>0.796298</td>\n",
       "    </tr>\n",
       "    <tr>\n",
       "      <th>evening (19-23)</th>\n",
       "      <td>0.016040</td>\n",
       "      <td>0.213741</td>\n",
       "      <td>0.770219</td>\n",
       "    </tr>\n",
       "    <tr>\n",
       "      <th>morning rush (5-10)</th>\n",
       "      <td>0.011044</td>\n",
       "      <td>0.177673</td>\n",
       "      <td>0.811283</td>\n",
       "    </tr>\n",
       "    <tr>\n",
       "      <th>night (23-5)</th>\n",
       "      <td>0.030186</td>\n",
       "      <td>0.242695</td>\n",
       "      <td>0.727119</td>\n",
       "    </tr>\n",
       "    <tr>\n",
       "      <th>office hours (10-15)</th>\n",
       "      <td>0.014393</td>\n",
       "      <td>0.189224</td>\n",
       "      <td>0.796383</td>\n",
       "    </tr>\n",
       "  </tbody>\n",
       "</table>\n",
       "</div>"
      ],
      "text/plain": [
       "Accident_Severity       fatal in %  serious in %  slight in %\n",
       "Daytime                                                      \n",
       "afternoon rush (15-19)    0.011220      0.192483     0.796298\n",
       "evening (19-23)           0.016040      0.213741     0.770219\n",
       "morning rush (5-10)       0.011044      0.177673     0.811283\n",
       "night (23-5)              0.030186      0.242695     0.727119\n",
       "office hours (10-15)      0.014393      0.189224     0.796383"
      ]
     },
     "execution_count": 37,
     "metadata": {},
     "output_type": "execute_result"
    }
   ],
   "source": [
    "# prepare dataframe with shares\n",
    "counts['sum'] = counts.sum(axis=1)\n",
    "counts = counts.join(counts.div(counts['sum'], axis=0), rsuffix=' in %')\n",
    "counts_share = counts.drop(columns=['fatal', 'serious', 'slight', 'sum', 'sum in %'], axis=1)\n",
    "counts_share"
   ]
  },
  {
   "cell_type": "code",
   "execution_count": 38,
   "metadata": {},
   "outputs": [
    {
     "data": {
      "image/png": "[encoded data removed]",
      "text/plain": [
       "<Figure size 720x360 with 1 Axes>"
      ]
     },
     "metadata": {},
     "output_type": "display_data"
    }
   ],
   "source": [
    "# prepare barplot\n",
    "fig, ax = plt.subplots(figsize=(10, 5))\n",
    "\n",
    "# plot\n",
    "counts_share.reindex(order).plot(kind='barh', ax=ax, stacked=True, cmap='cividis')\n",
    "ax.set_title('\\nAccident Severity by Daytime\\n', fontsize=14, fontweight='bold')\n",
    "ax.set(xlabel='Percentage', ylabel='')\n",
    "ax.legend(bbox_to_anchor=(1.25, 0.98), frameon=False)\n",
    "\n",
    "# remove all spines\n",
    "sns.despine(top=True, right=True, left=True, bottom=True);"
   ]
  },
  {
   "cell_type": "markdown",
   "metadata": {},
   "source": [
    "*Back to: <a href='#Table of Contents'> Table of Contents</a>*\n",
    "#### 3.2. Main Characteristics of Casualties \n",
    "<a id='3.2. Main Characteristics of Casualties'></a>"
   ]
  },
  {
   "cell_type": "code",
   "execution_count": 39,
   "metadata": {},
   "outputs": [
    {
     "data": {
      "text/html": [
       "<div>\n",
       "<style scoped>\n",
       "    .dataframe tbody tr th:only-of-type {\n",
       "        vertical-align: middle;\n",
       "    }\n",
       "\n",
       "    .dataframe tbody tr th {\n",
       "        vertical-align: top;\n",
       "    }\n",
       "\n",
       "    .dataframe thead th {\n",
       "        text-align: right;\n",
       "    }\n",
       "</style>\n",
       "<table border=\"1\" class=\"dataframe\">\n",
       "  <thead>\n",
       "    <tr style=\"text-align: right;\">\n",
       "      <th></th>\n",
       "      <th>count</th>\n",
       "      <th>mean</th>\n",
       "      <th>std</th>\n",
       "      <th>min</th>\n",
       "      <th>25%</th>\n",
       "      <th>50%</th>\n",
       "      <th>75%</th>\n",
       "      <th>max</th>\n",
       "    </tr>\n",
       "  </thead>\n",
       "  <tbody>\n",
       "    <tr>\n",
       "      <th>accident_year</th>\n",
       "      <td>153158.0</td>\n",
       "      <td>2019.000000</td>\n",
       "      <td>0.000000</td>\n",
       "      <td>2019.0</td>\n",
       "      <td>2019.0</td>\n",
       "      <td>2019.0</td>\n",
       "      <td>2019.0</td>\n",
       "      <td>2019.0</td>\n",
       "    </tr>\n",
       "    <tr>\n",
       "      <th>vehicle_reference</th>\n",
       "      <td>153158.0</td>\n",
       "      <td>1.464840</td>\n",
       "      <td>0.608019</td>\n",
       "      <td>1.0</td>\n",
       "      <td>1.0</td>\n",
       "      <td>1.0</td>\n",
       "      <td>2.0</td>\n",
       "      <td>20.0</td>\n",
       "    </tr>\n",
       "    <tr>\n",
       "      <th>casualty_reference</th>\n",
       "      <td>153158.0</td>\n",
       "      <td>1.393933</td>\n",
       "      <td>2.820059</td>\n",
       "      <td>1.0</td>\n",
       "      <td>1.0</td>\n",
       "      <td>1.0</td>\n",
       "      <td>1.0</td>\n",
       "      <td>991.0</td>\n",
       "    </tr>\n",
       "    <tr>\n",
       "      <th>casualty_class</th>\n",
       "      <td>153158.0</td>\n",
       "      <td>1.493856</td>\n",
       "      <td>0.730922</td>\n",
       "      <td>1.0</td>\n",
       "      <td>1.0</td>\n",
       "      <td>1.0</td>\n",
       "      <td>2.0</td>\n",
       "      <td>3.0</td>\n",
       "    </tr>\n",
       "    <tr>\n",
       "      <th>sex_of_casualty</th>\n",
       "      <td>153158.0</td>\n",
       "      <td>1.390342</td>\n",
       "      <td>0.519260</td>\n",
       "      <td>-1.0</td>\n",
       "      <td>1.0</td>\n",
       "      <td>1.0</td>\n",
       "      <td>2.0</td>\n",
       "      <td>9.0</td>\n",
       "    </tr>\n",
       "    <tr>\n",
       "      <th>age_of_casualty</th>\n",
       "      <td>153158.0</td>\n",
       "      <td>36.932612</td>\n",
       "      <td>19.686892</td>\n",
       "      <td>-1.0</td>\n",
       "      <td>22.0</td>\n",
       "      <td>34.0</td>\n",
       "      <td>50.0</td>\n",
       "      <td>102.0</td>\n",
       "    </tr>\n",
       "    <tr>\n",
       "      <th>age_band_of_casualty</th>\n",
       "      <td>153158.0</td>\n",
       "      <td>6.322347</td>\n",
       "      <td>2.468329</td>\n",
       "      <td>-1.0</td>\n",
       "      <td>5.0</td>\n",
       "      <td>6.0</td>\n",
       "      <td>8.0</td>\n",
       "      <td>11.0</td>\n",
       "    </tr>\n",
       "    <tr>\n",
       "      <th>casualty_severity</th>\n",
       "      <td>153158.0</td>\n",
       "      <td>2.811456</td>\n",
       "      <td>0.419374</td>\n",
       "      <td>1.0</td>\n",
       "      <td>3.0</td>\n",
       "      <td>3.0</td>\n",
       "      <td>3.0</td>\n",
       "      <td>3.0</td>\n",
       "    </tr>\n",
       "    <tr>\n",
       "      <th>pedestrian_location</th>\n",
       "      <td>153158.0</td>\n",
       "      <td>0.760711</td>\n",
       "      <td>2.121485</td>\n",
       "      <td>-1.0</td>\n",
       "      <td>0.0</td>\n",
       "      <td>0.0</td>\n",
       "      <td>0.0</td>\n",
       "      <td>10.0</td>\n",
       "    </tr>\n",
       "    <tr>\n",
       "      <th>pedestrian_movement</th>\n",
       "      <td>153158.0</td>\n",
       "      <td>0.599929</td>\n",
       "      <td>1.919874</td>\n",
       "      <td>0.0</td>\n",
       "      <td>0.0</td>\n",
       "      <td>0.0</td>\n",
       "      <td>0.0</td>\n",
       "      <td>9.0</td>\n",
       "    </tr>\n",
       "    <tr>\n",
       "      <th>car_passenger</th>\n",
       "      <td>153158.0</td>\n",
       "      <td>0.252837</td>\n",
       "      <td>0.651557</td>\n",
       "      <td>-1.0</td>\n",
       "      <td>0.0</td>\n",
       "      <td>0.0</td>\n",
       "      <td>0.0</td>\n",
       "      <td>9.0</td>\n",
       "    </tr>\n",
       "    <tr>\n",
       "      <th>bus_or_coach_passenger</th>\n",
       "      <td>153158.0</td>\n",
       "      <td>0.064162</td>\n",
       "      <td>0.492217</td>\n",
       "      <td>-1.0</td>\n",
       "      <td>0.0</td>\n",
       "      <td>0.0</td>\n",
       "      <td>0.0</td>\n",
       "      <td>9.0</td>\n",
       "    </tr>\n",
       "    <tr>\n",
       "      <th>pedestrian_road_maintenance_worker</th>\n",
       "      <td>153158.0</td>\n",
       "      <td>0.016584</td>\n",
       "      <td>0.183869</td>\n",
       "      <td>-1.0</td>\n",
       "      <td>0.0</td>\n",
       "      <td>0.0</td>\n",
       "      <td>0.0</td>\n",
       "      <td>2.0</td>\n",
       "    </tr>\n",
       "    <tr>\n",
       "      <th>casualty_type</th>\n",
       "      <td>153158.0</td>\n",
       "      <td>7.141148</td>\n",
       "      <td>7.862942</td>\n",
       "      <td>-1.0</td>\n",
       "      <td>1.0</td>\n",
       "      <td>9.0</td>\n",
       "      <td>9.0</td>\n",
       "      <td>98.0</td>\n",
       "    </tr>\n",
       "    <tr>\n",
       "      <th>casualty_home_area_type</th>\n",
       "      <td>153158.0</td>\n",
       "      <td>1.070320</td>\n",
       "      <td>0.927663</td>\n",
       "      <td>-1.0</td>\n",
       "      <td>1.0</td>\n",
       "      <td>1.0</td>\n",
       "      <td>1.0</td>\n",
       "      <td>3.0</td>\n",
       "    </tr>\n",
       "    <tr>\n",
       "      <th>casualty_imd_decile</th>\n",
       "      <td>153158.0</td>\n",
       "      <td>4.382435</td>\n",
       "      <td>3.203405</td>\n",
       "      <td>-1.0</td>\n",
       "      <td>2.0</td>\n",
       "      <td>4.0</td>\n",
       "      <td>7.0</td>\n",
       "      <td>10.0</td>\n",
       "    </tr>\n",
       "  </tbody>\n",
       "</table>\n",
       "</div>"
      ],
      "text/plain": [
       "                                       count         mean        std     min  \\\n",
       "accident_year                       153158.0  2019.000000   0.000000  2019.0   \n",
       "vehicle_reference                   153158.0     1.464840   0.608019     1.0   \n",
       "casualty_reference                  153158.0     1.393933   2.820059     1.0   \n",
       "casualty_class                      153158.0     1.493856   0.730922     1.0   \n",
       "sex_of_casualty                     153158.0     1.390342   0.519260    -1.0   \n",
       "age_of_casualty                     153158.0    36.932612  19.686892    -1.0   \n",
       "age_band_of_casualty                153158.0     6.322347   2.468329    -1.0   \n",
       "casualty_severity                   153158.0     2.811456   0.419374     1.0   \n",
       "pedestrian_location                 153158.0     0.760711   2.121485    -1.0   \n",
       "pedestrian_movement                 153158.0     0.599929   1.919874     0.0   \n",
       "car_passenger                       153158.0     0.252837   0.651557    -1.0   \n",
       "bus_or_coach_passenger              153158.0     0.064162   0.492217    -1.0   \n",
       "pedestrian_road_maintenance_worker  153158.0     0.016584   0.183869    -1.0   \n",
       "casualty_type                       153158.0     7.141148   7.862942    -1.0   \n",
       "casualty_home_area_type             153158.0     1.070320   0.927663    -1.0   \n",
       "casualty_imd_decile                 153158.0     4.382435   3.203405    -1.0   \n",
       "\n",
       "                                       25%     50%     75%     max  \n",
       "accident_year                       2019.0  2019.0  2019.0  2019.0  \n",
       "vehicle_reference                      1.0     1.0     2.0    20.0  \n",
       "casualty_reference                     1.0     1.0     1.0   991.0  \n",
       "casualty_class                         1.0     1.0     2.0     3.0  \n",
       "sex_of_casualty                        1.0     1.0     2.0     9.0  \n",
       "age_of_casualty                       22.0    34.0    50.0   102.0  \n",
       "age_band_of_casualty                   5.0     6.0     8.0    11.0  \n",
       "casualty_severity                      3.0     3.0     3.0     3.0  \n",
       "pedestrian_location                    0.0     0.0     0.0    10.0  \n",
       "pedestrian_movement                    0.0     0.0     0.0     9.0  \n",
       "car_passenger                          0.0     0.0     0.0     9.0  \n",
       "bus_or_coach_passenger                 0.0     0.0     0.0     9.0  \n",
       "pedestrian_road_maintenance_worker     0.0     0.0     0.0     2.0  \n",
       "casualty_type                          1.0     9.0     9.0    98.0  \n",
       "casualty_home_area_type                1.0     1.0     1.0     3.0  \n",
       "casualty_imd_decile                    2.0     4.0     7.0    10.0  "
      ]
     },
     "execution_count": 39,
     "metadata": {},
     "output_type": "execute_result"
    }
   ],
   "source": [
    "casualties.describe().T"
   ]
  },
  {
   "cell_type": "markdown",
   "metadata": {},
   "source": [
    "***What is the most frequent age of casualties?***"
   ]
  },
  {
   "cell_type": "code",
   "execution_count": 40,
   "metadata": {},
   "outputs": [
    {
     "data": {
      "image/png": "[encoded data removed]",
      "text/plain": [
       "<Figure size 720x432 with 1 Axes>"
      ]
     },
     "metadata": {},
     "output_type": "display_data"
    }
   ],
   "source": [
    "# prepare plot\n",
    "sns.set_style('white')\n",
    "fig, ax = plt.subplots(figsize=(10,6))\n",
    "\n",
    "# plot\n",
    "casualties.age_of_casualty.hist(bins=20, ax=ax, color='lightsteelblue')\n",
    "ax.set_title('\\nCasualties by Age\\n', fontsize=14, fontweight='bold')\n",
    "ax.set(xlabel='Age', ylabel='Total Count of Casualties')\n",
    "\n",
    "# remove all spines\n",
    "sns.despine(top=True, right=True, left=True, bottom=True);"
   ]
  },
  {
   "cell_type": "markdown",
   "metadata": {},
   "source": [
    "*It looks like it's the young people that are the most affected!*"
   ]
  },
  {
   "cell_type": "markdown",
   "metadata": {},
   "source": [
    "*Back to: <a href='#Table of Contents'> Table of Contents</a>*\n",
    "#### 3.3. Main Characteristics of Vehicles \n",
    "<a id='3.3. Main Characteristics of Vehicles'></a>"
   ]
  },
  {
   "cell_type": "code",
   "execution_count": 41,
   "metadata": {},
   "outputs": [],
   "source": [
    "#vehicles.describe().T"
   ]
  },
  {
   "cell_type": "markdown",
   "metadata": {},
   "source": [
    "***What are the age and gender of the drivers who cause an accident?***"
   ]
  },
  {
   "cell_type": "code",
   "execution_count": 42,
   "metadata": {},
   "outputs": [
    {
     "data": {
      "text/plain": [
       " 1    0.622014\n",
       " 2    0.269820\n",
       " 3    0.108161\n",
       "-1    0.000005\n",
       "Name: sex_of_driver, dtype: float64"
      ]
     },
     "execution_count": 42,
     "metadata": {},
     "output_type": "execute_result"
    }
   ],
   "source": [
    "vehicles.sex_of_driver.value_counts(normalize=True)"
   ]
  },
  {
   "cell_type": "markdown",
   "metadata": {},
   "source": [
    "*We'll have to keep in mind that two-thirds of the drivers are male --> imbalanced classes!*"
   ]
  },
  {
   "cell_type": "code",
   "execution_count": 43,
   "metadata": {},
   "outputs": [],
   "source": [
    "# create a new dataframe\n",
    "drivers = vehicles.groupby(['age_band_of_driver', 'sex_of_driver']).size().reset_index()\n",
    "\n",
    "# drop the values that have no value\n",
    "drivers.drop(drivers[(drivers['age_band_of_driver'] == -1) | \\\n",
    "                     (drivers['sex_of_driver'] == -1) | \\\n",
    "                     (drivers['sex_of_driver'] == 3)]\\\n",
    "                     .index, axis=0, inplace=True)\n",
    "# rename the columns\n",
    "drivers.columns = ['age_band_of_driver', 'sex_of_driver', 'Count']\n",
    "\n",
    "# rename the values to be more convenient for the reader resp. viewer\n",
    "drivers['sex_of_driver'] = drivers['sex_of_driver'].map({1: 'male', 2: 'female'})\n",
    "drivers['age_band_of_driver'] = drivers['age_band_of_driver'].map({1: '0 - 5', 2: '6 - 10', 3: '11 - 15',\n",
    "                                                                   4: '16 - 20', 5: '21 - 25', 6: '26 - 35',\n",
    "                                                                   7: '36 - 45', 8: '46 - 55', 9: '56 - 65',\n",
    "                                                                   10: '66 - 75', 11: 'Over 75'})"
   ]
  },
  {
   "cell_type": "code",
   "execution_count": 44,
   "metadata": {},
   "outputs": [
    {
     "data": {
      "image/png": "[encoded data removed]",
      "text/plain": [
       "<Figure size 1008x504 with 1 Axes>"
      ]
     },
     "metadata": {},
     "output_type": "display_data"
    }
   ],
   "source": [
    "# seaborn barplot\n",
    "fig, ax = plt.subplots(figsize=(14, 7))\n",
    "sns.barplot(y='age_band_of_driver', x='Count', hue='sex_of_driver', data=drivers, palette='bone')\n",
    "ax.set_title('\\nAge and Sex of Driver At-Fault\\n', fontsize=14, fontweight='bold')\n",
    "ax.set(xlabel='Count', ylabel='Age Band of Driver')\n",
    "ax.legend(bbox_to_anchor=(1.1, 1.), borderaxespad=0., frameon=False)\n",
    "\n",
    "# remove all spines\n",
    "sns.despine(top=True, right=True, left=True, bottom=True);"
   ]
  },
  {
   "cell_type": "markdown",
   "metadata": {},
   "source": [
    "***Which type of propulsion is often involved in accidents?***"
   ]
  },
  {
   "cell_type": "code",
   "execution_count": 45,
   "metadata": {},
   "outputs": [
    {
     "data": {
      "text/plain": [
       " 1     86721\n",
       " 2     70085\n",
       "-1     54447\n",
       " 8      4529\n",
       " 3       370\n",
       " 7       109\n",
       " 12       66\n",
       " 5        39\n",
       " 6        13\n",
       " 9         1\n",
       " 4         1\n",
       "Name: propulsion_code, dtype: int64"
      ]
     },
     "execution_count": 45,
     "metadata": {},
     "output_type": "execute_result"
    }
   ],
   "source": [
    "vehicles['propulsion_code'].value_counts()"
   ]
  },
  {
   "cell_type": "code",
   "execution_count": 46,
   "metadata": {},
   "outputs": [
    {
     "data": {
      "text/html": [
       "<div>\n",
       "<style scoped>\n",
       "    .dataframe tbody tr th:only-of-type {\n",
       "        vertical-align: middle;\n",
       "    }\n",
       "\n",
       "    .dataframe tbody tr th {\n",
       "        vertical-align: top;\n",
       "    }\n",
       "\n",
       "    .dataframe thead th {\n",
       "        text-align: right;\n",
       "    }\n",
       "</style>\n",
       "<table border=\"1\" class=\"dataframe\">\n",
       "  <thead>\n",
       "    <tr style=\"text-align: right;\">\n",
       "      <th></th>\n",
       "      <th>propulsion_code</th>\n",
       "      <th>counts</th>\n",
       "    </tr>\n",
       "  </thead>\n",
       "  <tbody>\n",
       "    <tr>\n",
       "      <th>1</th>\n",
       "      <td>Petrol</td>\n",
       "      <td>86721</td>\n",
       "    </tr>\n",
       "    <tr>\n",
       "      <th>2</th>\n",
       "      <td>Heavy oil</td>\n",
       "      <td>70085</td>\n",
       "    </tr>\n",
       "    <tr>\n",
       "      <th>0</th>\n",
       "      <td>Undefined</td>\n",
       "      <td>54447</td>\n",
       "    </tr>\n",
       "  </tbody>\n",
       "</table>\n",
       "</div>"
      ],
      "text/plain": [
       "  propulsion_code  counts\n",
       "1          Petrol   86721\n",
       "2       Heavy oil   70085\n",
       "0       Undefined   54447"
      ]
     },
     "execution_count": 46,
     "metadata": {},
     "output_type": "execute_result"
    }
   ],
   "source": [
    "# prepare dataframe\n",
    "df_plot = vehicles.groupby('propulsion_code').size()\\\n",
    "                                                .reset_index(name='counts')\\\n",
    "                                                    .sort_values(by='counts', ascending=False)\n",
    "                                                        \n",
    "df_plot = df_plot[df_plot.counts > 9000]\n",
    "df_plot['propulsion_code'] = df_plot['propulsion_code'].map({-1: 'Undefined', 1: 'Petrol', \n",
    "                                                             2: 'Heavy oil'})\n",
    "df_plot"
   ]
  },
  {
   "cell_type": "code",
   "execution_count": 47,
   "metadata": {},
   "outputs": [],
   "source": [
    "# library for plotting a tree map\n",
    "import squarify"
   ]
  },
  {
   "cell_type": "code",
   "execution_count": 48,
   "metadata": {},
   "outputs": [
    {
     "data": {
      "image/png": "[encoded data removed]",
      "text/plain": [
       "<Figure size 800x480 with 1 Axes>"
      ]
     },
     "metadata": {},
     "output_type": "display_data"
    }
   ],
   "source": [
    "# prepare plot\n",
    "labels = df_plot.apply(lambda x: str(x[0]) + \"\\n (\" + str(x[1]) + \")\", axis=1)\n",
    "sizes = df_plot['counts'].values.tolist()\n",
    "colors = [plt.cm.Pastel1(i/float(len(labels))) for i in range(len(labels))]\n",
    "\n",
    "# plot\n",
    "plt.figure(figsize=(10,6), dpi= 80)\n",
    "squarify.plot(sizes=sizes, label=labels, color=colors, alpha=.8)\n",
    "\n",
    "# Decorate\n",
    "plt.title('\\nPropulsion involved in accidents\\n', fontsize=14, fontweight='bold')\n",
    "plt.axis('off')\n",
    "plt.show()"
   ]
  },
  {
   "cell_type": "code",
   "execution_count": null,
   "metadata": {},
   "outputs": [],
   "source": []
  }
 ],
 "metadata": {
  "kernelspec": {
   "display_name": "Python 3",
   "language": "python",
   "name": "python3"
  },
  "language_info": {
   "codemirror_mode": {
    "name": "ipython",
    "version": 3
   },
   "file_extension": ".py",
   "mimetype": "text/x-python",
   "name": "python",
   "nbconvert_exporter": "python",
   "pygments_lexer": "ipython3",
   "version": "3.8.5"
  }
 },
 "nbformat": 4,
 "nbformat_minor": 2
}
